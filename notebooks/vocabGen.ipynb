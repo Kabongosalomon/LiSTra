{
 "cells": [
  {
   "cell_type": "code",
   "execution_count": 3,
   "metadata": {},
   "outputs": [],
   "source": [
    "# Pythono3 code to rename multiple \n",
    "# files in a directory or folder \n",
    "\n",
    "# importing os module \n",
    "import os \n",
    "import ipdb\n",
    "\n",
    "# Function to rename multiple files \n",
    "def generatorFunction(file_path, lang_1=\"en\", lang_2=\"fr\" ,separator=\"\\n\"):\n",
    "\n",
    "    if os.path.exists(\"./{lang_1}.vocab\"):\n",
    "        os.remove(\"./{lang_1}.vocab\")\n",
    "\n",
    "    if os.path.exists(\"./{lang_2}.vocab\"):\n",
    "        os.remove(\"./{lang_2}.vocab\")\n",
    "\n",
    "    if os.path.exists(\"./{lang_1}-{lang_2}.vocab\"):\n",
    "        os.remove(\"./{lang_1}-{lang_2}.vocab\")\n",
    "    \n",
    "    lang1_set = set()\n",
    "    lang2_set = set()\n",
    "    lang1_lang2_set = set()\n",
    "    \n",
    "                \n",
    "    with open(file_path, 'r') as f:  # Open file for read\n",
    "        for textline in f:           # Read line-by-line\n",
    "#             ipdb.set_trace()\n",
    "            _, line_lang_1, line_lang_2 = textline.split(separator)\n",
    "            \n",
    "            \n",
    "                \n",
    "            for word in line_lang_1.split():\n",
    "                with open(f\"./{lang_1}.vocab\", \"a+\", encoding=\"utf-8\") as text_file:\n",
    "                    if word not in lang1_set:\n",
    "                        text_file.write(word)\n",
    "                        text_file.write(\" \")\n",
    "                        lang1_set.add(word)\n",
    "            \n",
    "            for word in line_lang_2.split():\n",
    "                with open(f\"./{lang_2}.vocab\", \"a+\", encoding=\"utf-8\") as text_file:\n",
    "                    if word not in lang2_set:\n",
    "                        text_file.write(word)\n",
    "                        text_file.write(\" \")\n",
    "                        lang2_set.add(word)\n",
    "                    \n",
    "            for word in (line_lang_1+\" \"+line_lang_2).split():\n",
    "                with open(f\"./{lang_1}-{lang_2}.vocab\", \"a+\", encoding=\"utf-8\") as text_file:\n",
    "                    if word not in lang1_lang2_set:\n",
    "                        text_file.write(word)\n",
    "                        text_file.write(\" \")\n",
    "                        lang1_lang2_set.add(word)"
   ]
  },
  {
   "cell_type": "code",
   "execution_count": 4,
   "metadata": {},
   "outputs": [],
   "source": [
    "# Driver Code \n",
    "if __name__ == '__main__': \n",
    "    # Calling main() function \n",
    "    # main() \n",
    "    generatorFunction(file_path=\"./train.en-ln.csv\", \n",
    "                      lang_1=\"en\", \n",
    "                      lang_2=\"ln\" ,\n",
    "                      separator=\"\\t\")"
   ]
  },
  {
   "cell_type": "code",
   "execution_count": 3,
   "metadata": {},
   "outputs": [
    {
     "name": "stdout",
     "output_type": "stream",
     "text": [
      "/home/aims/big_data/2020-AMMI-salomon/data/external/LiSTra/dataset\n"
     ]
    }
   ],
   "source": [
    "!pwd"
   ]
  }
 ],
 "metadata": {
  "kernelspec": {
   "display_name": "synchronous",
   "language": "python",
   "name": "synchronous"
  },
  "language_info": {
   "codemirror_mode": {
    "name": "ipython",
    "version": 3
   },
   "file_extension": ".py",
   "mimetype": "text/x-python",
   "name": "python",
   "nbconvert_exporter": "python",
   "pygments_lexer": "ipython3",
   "version": "3.7.6"
  }
 },
 "nbformat": 4,
 "nbformat_minor": 4
}
