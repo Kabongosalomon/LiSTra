{
 "cells": [
  {
   "cell_type": "markdown",
   "metadata": {
    "id": "10RF2I5Tto_N"
   },
   "source": [
    "# If you are using colab"
   ]
  },
  {
   "cell_type": "code",
   "execution_count": 1,
   "metadata": {
    "colab": {
     "base_uri": "https://localhost:8080/"
    },
    "executionInfo": {
     "elapsed": 26361,
     "status": "ok",
     "timestamp": 1614108956682,
     "user": {
      "displayName": "Kabongo",
      "photoUrl": "https://lh3.googleusercontent.com/a-/AOh14GisrY_D1JOSAB02RpMTfe-bTKN6tDchfvhrxTQP2g=s64",
      "userId": "02411052104897732476"
     },
     "user_tz": -60
    },
    "id": "j_Keu5TEtzt2",
    "outputId": "9e6cc0da-540c-46be-95d3-0dba868190ce"
   },
   "outputs": [],
   "source": [
    "# # link to google drive, click on the given link and choose the google drive account you would like to be available to you \n",
    "\n",
    "# from google.colab import drive\n",
    "# drive.mount('/content/gdrive/')"
   ]
  },
  {
   "cell_type": "code",
   "execution_count": 2,
   "metadata": {
    "colab": {
     "base_uri": "https://localhost:8080/"
    },
    "executionInfo": {
     "elapsed": 1013,
     "status": "ok",
     "timestamp": 1614108966937,
     "user": {
      "displayName": "Kabongo",
      "photoUrl": "https://lh3.googleusercontent.com/a-/AOh14GisrY_D1JOSAB02RpMTfe-bTKN6tDchfvhrxTQP2g=s64",
      "userId": "02411052104897732476"
     },
     "user_tz": -60
    },
    "id": "f--2h4D3tZiX",
    "outputId": "602969ce-f03b-4b9c-eacb-834eb9eece51"
   },
   "outputs": [],
   "source": [
    "# %cd ../content/gdrive/MyDrive/colab-ssh/LiSTra/notebooks/"
   ]
  },
  {
   "cell_type": "markdown",
   "metadata": {
    "id": "TtEIOxFxFYpP"
   },
   "source": [
    "# Dataset Statistics"
   ]
  },
  {
   "cell_type": "code",
   "execution_count": 5,
   "metadata": {
    "colab": {
     "base_uri": "https://localhost:8080/"
    },
    "executionInfo": {
     "elapsed": 11573,
     "status": "ok",
     "timestamp": 1614108982929,
     "user": {
      "displayName": "Kabongo",
      "photoUrl": "https://lh3.googleusercontent.com/a-/AOh14GisrY_D1JOSAB02RpMTfe-bTKN6tDchfvhrxTQP2g=s64",
      "userId": "02411052104897732476"
     },
     "user_tz": -60
    },
    "id": "UDeCJRgtE6qm",
    "outputId": "8495590d-8a0c-4085-9d70-426688df4bf5"
   },
   "outputs": [],
   "source": [
    "# imports\n",
    "\n",
    "import os\n",
    "import subprocess\n",
    "\n",
    "import numpy as np\n",
    "\n",
    "import tqdm\n",
    "\n",
    "# You may need to run this in your terminal to install sox\n",
    "# ! sudo apt-get install sox"
   ]
  },
  {
   "cell_type": "code",
   "execution_count": 6,
   "metadata": {
    "executionInfo": {
     "elapsed": 531,
     "status": "ok",
     "timestamp": 1614109238906,
     "user": {
      "displayName": "Kabongo",
      "photoUrl": "https://lh3.googleusercontent.com/a-/AOh14GisrY_D1JOSAB02RpMTfe-bTKN6tDchfvhrxTQP2g=s64",
      "userId": "02411052104897732476"
     },
     "user_tz": -60
    },
    "id": "P9RikS_TE6qn"
   },
   "outputs": [],
   "source": [
    "def get_audio_length(path):\n",
    "    \"Get audio length in second\"\n",
    "    output = subprocess.check_output(\n",
    "        ['soxi -D \\\"%s\\\"' % path.strip()], shell=True)\n",
    "    return float(output)\n",
    "\n",
    "def get_averall_stats(path = \"../dataset/train.en-ln.csv\", \n",
    "                            audio_path = \"../dataset/english/wav_verse/\"):\n",
    "\n",
    "    list_wav = []\n",
    "    list_src_lang = []\n",
    "    list_tgt_lang = []\n",
    "\n",
    "    # Count number of words\n",
    "    number_word_src = 0\n",
    "    number_word_tgt = 0\n",
    "\n",
    "    # To keep track of unique words \n",
    "    unique_word_src = set()\n",
    "    unique_word_tgt = set()\n",
    "        \n",
    "    # open the and read file on in the first repository             \n",
    "    with open(path, 'r') as f:  # Open file for read\n",
    "        for textline in f:\n",
    "            audio, transc, transl = textline.split('\\t')\n",
    "            \n",
    "            list_wav.append(get_audio_length(audio_path+\"/\"+audio))\n",
    "            list_src_lang.append(len(transc.split()))\n",
    "            list_tgt_lang.append(len(transl.split()))\n",
    "\n",
    "            unique_word_src.update(transc.split())\n",
    "            unique_word_tgt.update(transl.split())\n",
    "            \n",
    "    \n",
    "    print(f\"We had a total of {len(list_wav)} audio files\")\n",
    "    print(f\"We had a total of {len(list_src_lang)} English files\")\n",
    "    print(f\"We had a total of {len(list_tgt_lang)} Lingala files\")\n",
    "    \n",
    "    # Stats specific for the two language at use, you may need to change it according to your study \n",
    "    print(\"\\n#######################################################\\n\")\n",
    "    \n",
    "    print(f\"We have an average of {np.mean(list_wav)} audio length\")\n",
    "    print(f\"We have an average of {np.mean(list_src_lang)} English text length\")\n",
    "    print(f\"We have an average of {np.mean(list_tgt_lang)} Lingala text length\")\n",
    "\n",
    "    print(\"\\n#######################################################\\n\")\n",
    "    \n",
    "    print(f\"We have a total of {np.sum(list_wav)} audio length\")\n",
    "    print(f\"We have  {len(unique_word_src)} English unique word\")\n",
    "    print(f\"We have  {len(unique_word_tgt)} Lingala unique word\")\n",
    "    \n",
    "    return list_wav, list_src_lang, list_src_lang"
   ]
  },
  {
   "cell_type": "code",
   "execution_count": 7,
   "metadata": {
    "colab": {
     "base_uri": "https://localhost:8080/"
    },
    "executionInfo": {
     "elapsed": 1877573,
     "status": "ok",
     "timestamp": 1614111117147,
     "user": {
      "displayName": "Kabongo",
      "photoUrl": "https://lh3.googleusercontent.com/a-/AOh14GisrY_D1JOSAB02RpMTfe-bTKN6tDchfvhrxTQP2g=s64",
      "userId": "02411052104897732476"
     },
     "user_tz": -60
    },
    "id": "CyynfhQpE6qo",
    "outputId": "356f804e-6dc1-41b0-a0a4-fb35f2673479"
   },
   "outputs": [
    {
     "name": "stdout",
     "output_type": "stream",
     "text": [
      "We had a total of 5930 audio files\n",
      "We had a total of 5930 English files\n",
      "We had a total of 5930 Lingala files\n",
      "\n",
      "#######################################################\n",
      "\n",
      "We have an average of 9.271476440472174 audio length\n",
      "We have an average of 24.207588532883644 English text length\n",
      "We have an average of 25.748903878583473 Lingala text length\n",
      "\n",
      "#######################################################\n",
      "\n",
      "We have a total of 54979.85529199999 audio length\n",
      "We have  7772 English unique word\n",
      "We have  8940 Lingala unique word\n"
     ]
    }
   ],
   "source": [
    "list_wav_test, list_src_lang_test, list_src_lang_test = get_averall_stats(\n",
    "                path = \"../../../processed/tf_data/test.en-ln.csv\", \\\n",
    "                audio_path = \"../../../external/LiSTra/dataset/english/wav_verse\")"
   ]
  },
  {
   "cell_type": "code",
   "execution_count": 8,
   "metadata": {
    "colab": {
     "base_uri": "https://localhost:8080/"
    },
    "executionInfo": {
     "elapsed": 7360696,
     "status": "ok",
     "timestamp": 1614119752717,
     "user": {
      "displayName": "Kabongo",
      "photoUrl": "https://lh3.googleusercontent.com/a-/AOh14GisrY_D1JOSAB02RpMTfe-bTKN6tDchfvhrxTQP2g=s64",
      "userId": "02411052104897732476"
     },
     "user_tz": -60
    },
    "id": "hHpYUXh3E6qo",
    "outputId": "f90410a5-3666-4676-979c-069b032ecf5d"
   },
   "outputs": [
    {
     "name": "stdout",
     "output_type": "stream",
     "text": [
      "We had a total of 23717 audio files\n",
      "We had a total of 23717 English files\n",
      "We had a total of 23717 Lingala files\n",
      "\n",
      "#######################################################\n",
      "\n",
      "We have an average of 9.287964473753002 audio length\n",
      "We have an average of 24.271197874942025 English text length\n",
      "We have an average of 25.9165155795421 Lingala text length\n",
      "\n",
      "#######################################################\n",
      "\n",
      "We have a total of 220282.65342399996 audio length\n",
      "We have  13139 English unique word\n",
      "We have  16808 Lingala unique word\n"
     ]
    }
   ],
   "source": [
    "list_wav_train, list_src_lang_train, list_src_lang_train = get_averall_stats(\n",
    "                path = \"../../../processed/tf_data/train.en-ln.csv\",\\\n",
    "                audio_path = \"../../../external/LiSTra/dataset/english/wav_verse\")"
   ]
  },
  {
   "cell_type": "code",
   "execution_count": 9,
   "metadata": {
    "executionInfo": {
     "elapsed": 7351763,
     "status": "ok",
     "timestamp": 1614119752720,
     "user": {
      "displayName": "Kabongo",
      "photoUrl": "https://lh3.googleusercontent.com/a-/AOh14GisrY_D1JOSAB02RpMTfe-bTKN6tDchfvhrxTQP2g=s64",
      "userId": "02411052104897732476"
     },
     "user_tz": -60
    },
    "id": "TU34VeywE6qp"
   },
   "outputs": [],
   "source": [
    "# avg_audio_valid, avg_len_en_valid, avg_len_ln_valid = get_averall_stats(path = \"../dataset/valid.en-ln.csv\",\\\n",
    "#                                                                 audio_path = \"../dataset/wav_verse/\")"
   ]
  },
  {
   "cell_type": "markdown",
   "metadata": {
    "id": "ZXVXLsp0E6qp"
   },
   "source": [
    "## Total duration wav in hours "
   ]
  },
  {
   "cell_type": "code",
   "execution_count": 9,
   "metadata": {},
   "outputs": [
    {
     "data": {
      "text/plain": [
       "15.272182025555598"
      ]
     },
     "execution_count": 9,
     "metadata": {},
     "output_type": "execute_result"
    }
   ],
   "source": [
    "# Total hours in training data\n",
    "sum(list_wav_test)/3600"
   ]
  },
  {
   "cell_type": "code",
   "execution_count": 10,
   "metadata": {},
   "outputs": [
    {
     "data": {
      "text/plain": [
       "61.189625951111005"
      ]
     },
     "execution_count": 10,
     "metadata": {},
     "output_type": "execute_result"
    }
   ],
   "source": [
    "# Total hours in training data\n",
    "sum(list_wav_train)/3600"
   ]
  }
 ],
 "metadata": {
  "colab": {
   "name": "LiSTra stats.ipynb",
   "provenance": []
  },
  "kernelspec": {
   "display_name": "listra",
   "language": "python",
   "name": "listra"
  },
  "language_info": {
   "codemirror_mode": {
    "name": "ipython",
    "version": 3
   },
   "file_extension": ".py",
   "mimetype": "text/x-python",
   "name": "python",
   "nbconvert_exporter": "python",
   "pygments_lexer": "ipython3",
   "version": "3.7.10"
  }
 },
 "nbformat": 4,
 "nbformat_minor": 4
}
