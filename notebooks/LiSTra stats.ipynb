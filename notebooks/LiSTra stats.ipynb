{
 "cells": [
  {
   "cell_type": "markdown",
   "metadata": {},
   "source": [
    "# Dataset Statistics"
   ]
  },
  {
   "cell_type": "code",
   "execution_count": 13,
   "metadata": {},
   "outputs": [],
   "source": [
    "# imports\n",
    "\n",
    "import os\n",
    "import subprocess\n",
    "\n",
    "import numpy as np\n",
    "\n",
    "import tqdm\n",
    "\n",
    "# apt-get install sox"
   ]
  },
  {
   "cell_type": "code",
   "execution_count": 14,
   "metadata": {},
   "outputs": [],
   "source": [
    "def get_audio_length(path):\n",
    "    \"Get audio length in second\"\n",
    "    output = subprocess.check_output(\n",
    "        ['soxi -D \\\"%s\\\"' % path.strip()], shell=True)\n",
    "    return float(output)\n",
    "\n",
    "def get_averall_stats(path = \"../dataset/train.en-ln.csv\", \n",
    "                            audio_path = \"../dataset/wav_verse/\"):\n",
    "\n",
    "    avg_audio = []\n",
    "    avg_len_en = []\n",
    "    avg_len_ln = []\n",
    "\n",
    "    # Count number of words\n",
    "    number_word_src = 0\n",
    "    number_word_tgt = 0\n",
    "\n",
    "    # To keep track of unique words \n",
    "    unique_word_src = set()\n",
    "    unique_word_tgt = set()\n",
    "        \n",
    "    # open the and read file on in the first repository             \n",
    "    with open(path, 'r') as f:  # Open file for read\n",
    "        for textline in f:\n",
    "            audio, transc, transl = textline.split('\\t')\n",
    "            avg_audio.append(get_audio_length(audio_path+\"/\"+audio))\n",
    "\n",
    "            avg_len_en.append(len(transc.split()))\n",
    "            avg_len_ln.append(len(transl.split()))\n",
    "\n",
    "            unique_word_src.update(transc.split())\n",
    "            unique_word_tgt.update(transl.split())\n",
    "            \n",
    "    \n",
    "    print(f\"We had a total of {len(avg_audio)} audio files\")\n",
    "    print(f\"We had a total of {len(avg_len_en)} English files\")\n",
    "    print(f\"We had a total of {len(avg_len_ln)} Lingala files\")\n",
    "    \n",
    "    print(\"\\n#######################################################\\n\")\n",
    "    \n",
    "    print(f\"We have an average of {np.mean(avg_audio)} audio length\")\n",
    "    print(f\"We have an average of {np.mean(avg_len_en)} English text length\")\n",
    "    print(f\"We have an average of {np.mean(avg_len_ln)} Lingala text length\")\n",
    "\n",
    "    print(\"\\n#######################################################\\n\")\n",
    "    \n",
    "    print(f\"We have a total of {np.sum(avg_audio)} audio length\")\n",
    "    print(f\"We have  {len(unique_word_src)} English unique word\")\n",
    "    print(f\"We have  {len(unique_word_tgt)} Lingala unique word\")\n",
    "    \n",
    "    return avg_audio, avg_len_en, avg_len_ln"
   ]
  },
  {
   "cell_type": "code",
   "execution_count": 15,
   "metadata": {},
   "outputs": [
    {
     "output_type": "stream",
     "name": "stdout",
     "text": [
      "We had a total of 400 audio files\nWe had a total of 400 English files\nWe had a total of 400 Lingala files\n\n#######################################################\n\nWe have an average of 8.382755 audio length\nWe have an average of 21.945 English text length\nWe have an average of 22.6775 Lingala text length\n\n#######################################################\n\nWe have a total of 3353.102 audio length\nWe have  1697 English unique word\nWe have  2189 Lingala unique word\n"
     ]
    }
   ],
   "source": [
    "avg_audio_test, avg_len_en_test, avg_len_ln_test = get_averall_stats(path = \"../dataset/test.en-ln.csv\", \\\n",
    "                                                                                audio_path = \"../dataset/wav_verse/\")"
   ]
  },
  {
   "cell_type": "code",
   "execution_count": 16,
   "metadata": {},
   "outputs": [
    {
     "output_type": "stream",
     "name": "stdout",
     "text": [
      "We had a total of 800 audio files\nWe had a total of 800 English files\nWe had a total of 800 Lingala files\n\n#######################################################\n\nWe have an average of 8.15611625 audio length\nWe have an average of 21.3425 English text length\nWe have an average of 22.4425 Lingala text length\n\n#######################################################\n\nWe have a total of 6524.893 audio length\nWe have  2524 English unique word\nWe have  3348 Lingala unique word\n"
     ]
    }
   ],
   "source": [
    "avg_audio_valid, avg_len_en_valid, avg_len_ln_valid = get_averall_stats(path = \"../dataset/valid.en-ln.csv\",\\\n",
    "                                                                audio_path = \"../dataset/wav_verse/\")"
   ]
  },
  {
   "cell_type": "code",
   "execution_count": 17,
   "metadata": {},
   "outputs": [
    {
     "output_type": "stream",
     "name": "stdout",
     "text": [
      "We had a total of 7001 audio files\nWe had a total of 7001 English files\nWe had a total of 7001 Lingala files\n\n#######################################################\n\nWe have an average of 8.246637480359949 audio length\nWe have an average of 21.51249821454078 English text length\nWe have an average of 22.451364090844166 Lingala text length\n\n#######################################################\n\nWe have a total of 57734.709 audio length\nWe have  6772 English unique word\nWe have  11866 Lingala unique word\n"
     ]
    }
   ],
   "source": [
    "avg_audio_train, avg_len_en_train, avg_len_ln_train = get_averall_stats(path = \"../dataset/train.en-ln.csv\",\\\n",
    "                                                                audio_path = \"../dataset/wav_verse/\")"
   ]
  },
  {
   "cell_type": "code",
   "execution_count": 30,
   "metadata": {},
   "outputs": [
    {
     "data": {
      "text/plain": [
       "0.931417222222222"
      ]
     },
     "execution_count": 30,
     "metadata": {},
     "output_type": "execute_result"
    }
   ],
   "source": [
    "sum(avg_audio_test)/3600"
   ]
  },
  {
   "cell_type": "code",
   "execution_count": 31,
   "metadata": {},
   "outputs": [
    {
     "data": {
      "text/plain": [
       "1.8124702777777764"
      ]
     },
     "execution_count": 31,
     "metadata": {},
     "output_type": "execute_result"
    }
   ],
   "source": [
    "sum(avg_audio_valid)/3600"
   ]
  },
  {
   "cell_type": "code",
   "execution_count": 32,
   "metadata": {},
   "outputs": [
    {
     "data": {
      "text/plain": [
       "16.03741916666664"
      ]
     },
     "execution_count": 32,
     "metadata": {},
     "output_type": "execute_result"
    }
   ],
   "source": [
    "sum(avg_audio_train)/3600"
   ]
  },
  {
   "cell_type": "code",
   "execution_count": null,
   "metadata": {},
   "outputs": [],
   "source": []
  }
 ],
 "metadata": {
  "kernelspec": {
   "display_name": "Python 3",
   "language": "python",
   "name": "python3"
  },
  "language_info": {
   "codemirror_mode": {
    "name": "ipython",
    "version": 3
   },
   "file_extension": ".py",
   "mimetype": "text/x-python",
   "name": "python",
   "nbconvert_exporter": "python",
   "pygments_lexer": "ipython3",
   "version": "3.6.9-final"
  }
 },
 "nbformat": 4,
 "nbformat_minor": 4
}