{
 "cells": [
  {
   "cell_type": "markdown",
   "metadata": {},
   "source": [
    "## Download and Unzip Speech"
   ]
  },
  {
   "cell_type": "markdown",
   "metadata": {},
   "source": [
    "This data is more specific to the data used in the paper : "
   ]
  },
  {
   "cell_type": "code",
   "execution_count": 3,
   "metadata": {},
   "outputs": [],
   "source": [
    "!wget https://fcbhabdm.s3.amazonaws.com/mp3audiobibles2/ENGESVN1DA/ENGESVN1DA.zip\n",
    "!wget https://fcbhabdm.s3.amazonaws.com/mp3audiobibles2/ENGESVO1DA/ENGESVO1DA.zip\n",
    "    \n",
    "!unzip ENGESVN1DA.zip\n",
    "!rm ENGESVN1DA.zip\n",
    "\n",
    "!unzip ENGESVO1DA.zip\n",
    "!rm ENGESVO1DA.zip\n",
    "\n",
    "!mkdir ../dataset/english/wav\n",
    "!mv English_English_Standard_Version____OT_Non-drama/* ../dataset/english/wav/\n",
    "!mv English_English_Standard_Version____NT_Non-drama/* ../dataset/english/wav/\n",
    "\n",
    "!rm -r English_English_Standard_Version____OT_Non-drama/\n",
    "!rm -r English_English_Standard_Version____NT_Non-drama/"
   ]
  },
  {
   "cell_type": "markdown",
   "metadata": {},
   "source": [
    "# Rename name on wav_speech"
   ]
  },
  {
   "cell_type": "code",
   "execution_count": 13,
   "metadata": {},
   "outputs": [],
   "source": [
    "# Rename the downloaded Audio to a standard B<number>-<verse>\n",
    "# There is an issue with the formating of the book of the audio of the book of psalms in the OT and this can be fixed manually"
   ]
  },
  {
   "cell_type": "code",
   "execution_count": 4,
   "metadata": {},
   "outputs": [
    {
     "ename": "IndexError",
     "evalue": "list index out of range",
     "output_type": "error",
     "traceback": [
      "\u001b[0;31m---------------------------------------------------------------------------\u001b[0m",
      "\u001b[0;31mIndexError\u001b[0m                                Traceback (most recent call last)",
      "\u001b[0;32m<ipython-input-4-93c077b62d98>\u001b[0m in \u001b[0;36m<module>\u001b[0;34m\u001b[0m\n\u001b[1;32m     33\u001b[0m     \u001b[0;31m# main()\u001b[0m\u001b[0;34m\u001b[0m\u001b[0;34m\u001b[0m\u001b[0;34m\u001b[0m\u001b[0m\n\u001b[1;32m     34\u001b[0m     \u001b[0mfolder\u001b[0m\u001b[0;34m(\u001b[0m\u001b[0mrepository\u001b[0m\u001b[0;34m=\u001b[0m\u001b[0;34m\"../dataset/english/wav/\"\u001b[0m\u001b[0;34m,\u001b[0m \u001b[0msplitter\u001b[0m\u001b[0;34m=\u001b[0m\u001b[0;34m\"___\"\u001b[0m\u001b[0;34m)\u001b[0m\u001b[0;34m\u001b[0m\u001b[0;34m\u001b[0m\u001b[0m\n\u001b[0;32m---> 35\u001b[0;31m     \u001b[0mfolder\u001b[0m\u001b[0;34m(\u001b[0m\u001b[0mrepository\u001b[0m\u001b[0;34m=\u001b[0m\u001b[0;34m\"../dataset/english/wav/\"\u001b[0m\u001b[0;34m,\u001b[0m \u001b[0msplitter\u001b[0m\u001b[0;34m=\u001b[0m\u001b[0;34m\"___\"\u001b[0m\u001b[0;34m)\u001b[0m\u001b[0;34m\u001b[0m\u001b[0;34m\u001b[0m\u001b[0m\n\u001b[0m",
      "\u001b[0;32m<ipython-input-4-93c077b62d98>\u001b[0m in \u001b[0;36mfolder\u001b[0;34m(repository, splitter)\u001b[0m\n\u001b[1;32m     12\u001b[0m \u001b[0;34m\u001b[0m\u001b[0m\n\u001b[1;32m     13\u001b[0m         \u001b[0;31m# Zfill to write al number as 001, 002 for standardization reason\u001b[0m\u001b[0;34m\u001b[0m\u001b[0;34m\u001b[0m\u001b[0;34m\u001b[0m\u001b[0m\n\u001b[0;32m---> 14\u001b[0;31m         \u001b[0mbook\u001b[0m\u001b[0;34m,\u001b[0m \u001b[0mverse\u001b[0m \u001b[0;34m=\u001b[0m \u001b[0mfilename\u001b[0m\u001b[0;34m.\u001b[0m\u001b[0msplit\u001b[0m\u001b[0;34m(\u001b[0m\u001b[0msplitter\u001b[0m\u001b[0;34m)\u001b[0m\u001b[0;34m[\u001b[0m\u001b[0;36m0\u001b[0m\u001b[0;34m]\u001b[0m\u001b[0;34m,\u001b[0m \u001b[0mfilename\u001b[0m\u001b[0;34m.\u001b[0m\u001b[0msplit\u001b[0m\u001b[0;34m(\u001b[0m\u001b[0msplitter\u001b[0m\u001b[0;34m)\u001b[0m\u001b[0;34m[\u001b[0m\u001b[0;36m1\u001b[0m\u001b[0;34m]\u001b[0m\u001b[0;34m.\u001b[0m\u001b[0msplit\u001b[0m\u001b[0;34m(\u001b[0m\u001b[0;34m\"_\"\u001b[0m\u001b[0;34m)\u001b[0m\u001b[0;34m[\u001b[0m\u001b[0;36m0\u001b[0m\u001b[0;34m]\u001b[0m\u001b[0;34m.\u001b[0m\u001b[0mzfill\u001b[0m\u001b[0;34m(\u001b[0m\u001b[0;36m3\u001b[0m\u001b[0;34m)\u001b[0m\u001b[0;34m\u001b[0m\u001b[0;34m\u001b[0m\u001b[0m\n\u001b[0m\u001b[1;32m     15\u001b[0m \u001b[0;34m\u001b[0m\u001b[0m\n\u001b[1;32m     16\u001b[0m         \u001b[0mext\u001b[0m \u001b[0;34m=\u001b[0m \u001b[0;34m'.'\u001b[0m\u001b[0;34m+\u001b[0m\u001b[0mfilename\u001b[0m\u001b[0;34m.\u001b[0m\u001b[0msplit\u001b[0m\u001b[0;34m(\u001b[0m\u001b[0;34m'.'\u001b[0m\u001b[0;34m)\u001b[0m\u001b[0;34m[\u001b[0m\u001b[0;34m-\u001b[0m\u001b[0;36m1\u001b[0m\u001b[0;34m]\u001b[0m\u001b[0;34m\u001b[0m\u001b[0;34m\u001b[0m\u001b[0m\n",
      "\u001b[0;31mIndexError\u001b[0m: list index out of range"
     ]
    }
   ],
   "source": [
    "# Pythono3 code to rename multiple \n",
    "# files in a directory or folder \n",
    "\n",
    "# importing os module \n",
    "import os \n",
    "import ipdb\n",
    "\n",
    "# Function to rename multiple files \n",
    "def folder(repository, splitter=\"___\"):\n",
    "\n",
    "    for count, filename in enumerate(os.listdir(repository)): \n",
    "        \n",
    "        # Zfill to write al number as 001, 002 for standardization reason\n",
    "        book, verse = filename.split(splitter)[0], filename.split(splitter)[1].split(\"_\")[0].zfill(3)\n",
    "\n",
    "        ext = '.'+filename.split('.')[-1]\n",
    "\n",
    "        \n",
    "        src = repository+\"/\"+filename \n",
    "        dst = repository+\"/\"+book+\"_\"+verse+ext\n",
    "\n",
    "\n",
    "        ## rename() function will \n",
    "        ## rename all the files \n",
    "        os.rename(src, dst) \n",
    "  \n",
    "            \n",
    "\n",
    "# Driver Code \n",
    "# Run this bloc once \n",
    "if __name__ == '__main__': \n",
    "    # Calling main() function \n",
    "    # main()     \n",
    "    folder(repository=\"../dataset/english/wav/\", splitter=\"___\")\n",
    "    folder(repository=\"../dataset/english/wav/\", splitter=\"___\")"
   ]
  },
  {
   "cell_type": "code",
   "execution_count": 6,
   "metadata": {},
   "outputs": [],
   "source": [
    "!mv ../dataset/english/wav/*_000.mp3 ../dataset/english/rename/ "
   ]
  },
  {
   "cell_type": "code",
   "execution_count": 7,
   "metadata": {},
   "outputs": [],
   "source": [
    "# This must be run after insecting the renamed file and copy all the missed renamed file into the temp repository (A19)\n",
    "folder(repository=\"../dataset/english/rename/\", splitter=\"__\")"
   ]
  },
  {
   "cell_type": "code",
   "execution_count": 9,
   "metadata": {},
   "outputs": [],
   "source": [
    "!mv ../dataset/english/rename/* ../dataset/english/wav/ "
   ]
  },
  {
   "cell_type": "code",
   "execution_count": null,
   "metadata": {},
   "outputs": [],
   "source": []
  }
 ],
 "metadata": {
  "kernelspec": {
   "display_name": "Python 3",
   "language": "python",
   "name": "python3"
  },
  "language_info": {
   "codemirror_mode": {
    "name": "ipython",
    "version": 3
   },
   "file_extension": ".py",
   "mimetype": "text/x-python",
   "name": "python",
   "nbconvert_exporter": "python",
   "pygments_lexer": "ipython3",
   "version": "3.6.12"
  }
 },
 "nbformat": 4,
 "nbformat_minor": 4
}
