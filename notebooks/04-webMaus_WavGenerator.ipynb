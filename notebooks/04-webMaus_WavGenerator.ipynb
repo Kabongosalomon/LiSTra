{
 "cells": [
  {
   "cell_type": "code",
   "execution_count": 6,
   "metadata": {},
   "outputs": [
    {
     "name": "stdout",
     "output_type": "stream",
     "text": [
      "Collecting lxml\n",
      "  Downloading lxml-4.6.2-cp36-cp36m-manylinux1_x86_64.whl (5.5 MB)\n",
      "\u001b[K     |████████████████████████████████| 5.5 MB 6.4 MB/s eta 0:00:01\n",
      "\u001b[?25hInstalling collected packages: lxml\n",
      "Successfully installed lxml-4.6.2\n"
     ]
    }
   ],
   "source": [
    "!pip install pydub -q\n",
    "!pip install ipdb -q\n",
    "!pip install lxml"
   ]
  },
  {
   "cell_type": "markdown",
   "metadata": {},
   "source": [
    "# Move the  text and the speech in the same folder. "
   ]
  },
  {
   "cell_type": "code",
   "execution_count": 1,
   "metadata": {},
   "outputs": [],
   "source": [
    "import os\n",
    "import os.path as osp\n",
    "import numpy as np\n",
    "from collections import defaultdict\n",
    "from pprint import pprint\n",
    "import pydub\n",
    "import shutil\n",
    "import requests\n",
    "from lxml import etree\n",
    "from multiprocessing import Pool\n",
    "import glob\n",
    "import sys\n",
    "import ipdb"
   ]
  },
  {
   "cell_type": "markdown",
   "metadata": {},
   "source": [
    "# HANDLE AUDIO"
   ]
  },
  {
   "cell_type": "code",
   "execution_count": 2,
   "metadata": {},
   "outputs": [],
   "source": [
    "def from_mp3(mp3_file_path):\n",
    "    return pydub.AudioSegment.from_mp3(mp3_file_path)\n",
    "\n",
    "def mp3_to_wav_file(mp3, output_dir=None):\n",
    "    if output_dir == None:\n",
    "        output_dir = get_path(mp3)\n",
    "    sound = from_mp3(mp3)\n",
    "    sound = sound.set_channels(1)\n",
    "    sound.export(os.path.join(output_dir, get_filename(mp3))+'_one_channel.wav', format=\"wav\")\n",
    "#     sound.export(os.path.join(output_dir, get_filename(mp3))+'.wav', format=\"wav\")\n",
    "\n",
    "def wav_one_channel(wav_file, output_dir=None):\n",
    "    if output_dir == None:\n",
    "        output_dir = get_path(wav_file)\n",
    "\n",
    "    sound = pydub.AudioSegment.from_wav(wav_file)\n",
    "    sound = sound.set_channels(1)\n",
    "    sound.export(os.path.join(output_dir, get_filename(wav_file))+'_one_channel.wav', format=\"wav\")\n",
    "#     sound.export(os.path.join(output_dir, get_filename(wav_file))+'.wav', format=\"wav\")"
   ]
  },
  {
   "cell_type": "markdown",
   "metadata": {},
   "source": [
    "# PATH UTILS\n"
   ]
  },
  {
   "cell_type": "code",
   "execution_count": 3,
   "metadata": {},
   "outputs": [],
   "source": [
    "def get_path(path):\n",
    "    return os.path.split(path)[0]\n",
    "\n",
    "def get_filename(path):\n",
    "    return os.path.splitext(os.path.basename(path))[0]"
   ]
  },
  {
   "cell_type": "code",
   "execution_count": 4,
   "metadata": {},
   "outputs": [],
   "source": [
    "# # !cp English text and all wav into dataset\n",
    "# !mkdir ../dataset/english/maus_output\n",
    "# !cp ../dataset/english/raw_txt/* ../dataset/english/wav/"
   ]
  },
  {
   "cell_type": "code",
   "execution_count": 5,
   "metadata": {},
   "outputs": [],
   "source": [
    "outpath = '../dataset/english/wav/' #sys.argv[1]\n",
    "audio_ext = 'mp3' #'mp3' #sys.argv[2]\n",
    "text_ext = 'txt' #sys.argv[3]\n",
    "lang = 'eng-US' #sys.argv[4] \n",
    "num_jobs = 7"
   ]
  },
  {
   "cell_type": "code",
   "execution_count": 6,
   "metadata": {},
   "outputs": [
    {
     "data": {
      "text/plain": [
       "True"
      ]
     },
     "execution_count": 6,
     "metadata": {},
     "output_type": "execute_result"
    }
   ],
   "source": [
    "os.path.exists(outpath)"
   ]
  },
  {
   "cell_type": "code",
   "execution_count": 7,
   "metadata": {},
   "outputs": [
    {
     "data": {
      "text/plain": [
       "8"
      ]
     },
     "execution_count": 7,
     "metadata": {},
     "output_type": "execute_result"
    }
   ],
   "source": [
    "os.cpu_count() "
   ]
  },
  {
   "cell_type": "code",
   "execution_count": 8,
   "metadata": {},
   "outputs": [],
   "source": [
    "import time"
   ]
  },
  {
   "cell_type": "code",
   "execution_count": 9,
   "metadata": {},
   "outputs": [],
   "source": [
    "def do_job(tasks_to_accomplish):\n",
    "\n",
    "    # log function\n",
    "    def write_log(caption_name, stage):\n",
    "        with open(osp.join(outpath, 'alignment_log.txt'), 'a') as log_file:\n",
    "            log_file.write('{}\\t{}\\n'.format(caption_name, stage))\n",
    "\n",
    "    index_caption, caption_name = tasks_to_accomplish\n",
    "    pid = os.getpid()\n",
    "\n",
    "    if not os.path.exists(osp.join(outpath, './{}.TextGrid'.format(caption_name))):\n",
    "        if audio_ext == 'mp3':\n",
    "            mp3_to_wav_file(osp.join(outpath,'{}.mp3'.format(caption_name)),outpath)\n",
    "        if audio_ext == 'wav':\n",
    "            wav_one_channel(osp.join(outpath,'{}.wav'.format(caption_name)),outpath)\n",
    "        \n",
    "        if text_ext != 'txt' and os.path.exists(osp.join(outpath,'{}.{}'.format(caption_name, text_ext))):\n",
    "            pre, ext = os.path.splitext(osp.join(outpath,'{}.{}'.format(caption_name, text_ext)))\n",
    "            os.rename(osp.join(outpath,'{}.{}'.format(caption_name, text_ext)), pre + '.txt')\n",
    "        \n",
    "        #print(caption_name)\n",
    "        \n",
    "        # build request\n",
    "        url = 'https://clarin.phonetik.uni-muenchen.de/BASWebServices/services/runMAUSBasic'\n",
    "        data = {r'LANGUAGE': lang, r'OUTFORMAT': r'TextGrid'}\n",
    "        files = {r'TEXT': open(osp.join(outpath, '{}.txt'.format(caption_name)), 'rb'),\n",
    "#                  r'SIGNAL': open(osp.join(outpath, '{}.wav'.format(caption_name)), 'rb')}\n",
    "                 r'SIGNAL': open(osp.join(outpath, '{}_one_channel.wav'.format(caption_name)), 'rb')}\n",
    "                \n",
    "        \n",
    "        \n",
    "        print('Sending request ...')\n",
    "        r = requests.post(url, files=files, data=data)\n",
    "#         time.sleep(5)\n",
    "        print('Processing results ...')\n",
    "\n",
    "        if r.status_code == 200:\n",
    "            root = etree.fromstring(r.text)\n",
    "            success = root.find('success').text\n",
    "            download_url = root.find('downloadLink').text\n",
    "\n",
    "            if success != 'false':\n",
    "                request_download = requests.get(download_url, stream=True)\n",
    "                if request_download.status_code == 200:\n",
    "                    try:\n",
    "                        with open(osp.join(outpath, '{}.TextGrid'.format(caption_name)), 'wb') as f:\n",
    "                            f.write(request_download.content)\n",
    "                        print('{} [{}]: {} OK'.format(pid, index_caption, caption_name))\n",
    "                    except:\n",
    "                        write_log(caption_name, 'FAIL Write TextGrid')\n",
    "                        print('{} [{}]: {} FAIL Write TextGrid'.format(pid, index_caption, caption_name))\n",
    "                        pass\n",
    "                else:\n",
    "                    write_log(caption_name, 'FAIL Download TextGrid')\n",
    "                    print('{} [{}]: {} FAIL Download TextGrid'.format(pid, index_caption, caption_name))\n",
    "            else:\n",
    "                write_log(caption_name, 'FAIL Alignment')\n",
    "                print(r.text)\n",
    "                print('{} [{}]: {} FAIL Alignment'.format(pid, index_caption, caption_name))\n",
    "        else:\n",
    "            write_log(caption_name, 'FAIL Alignment Request')\n",
    "            print('{} [{}]: {} FAIL Alignment Request'.format(pid, index_caption, caption_name))\n",
    "\n",
    "        # delete temp files\n",
    "        os.remove(osp.join(outpath, '{}.{}'.format(caption_name, text_ext)))\n",
    "        os.remove(osp.join(outpath, '{}.{}'.format(caption_name, audio_ext)))\n",
    "\n",
    "    else:\n",
    "        print('{} [{}]: {} SKIP'.format(pid, index_caption, caption_name))"
   ]
  },
  {
   "cell_type": "code",
   "execution_count": 10,
   "metadata": {},
   "outputs": [],
   "source": [
    "def main():\n",
    "    \n",
    "    # get captions belonging to the test set\n",
    "    file_list = [x for x in map(get_filename, glob.glob(osp.join(outpath, '*.{}'.format(audio_ext)))) if x.find('_one_channel')==-1]\n",
    "    number_of_processes = min(int(num_jobs),16)\n",
    "    tasks_to_accomplish = []\n",
    "\n",
    "    for index_file, file_name in enumerate(file_list, 1):\n",
    "        tasks_to_accomplish.append((index_file, file_name))\n",
    "#     ipdb.set_trace()\n",
    "    p = Pool(number_of_processes)\n",
    "    p.map(do_job, tasks_to_accomplish)"
   ]
  },
  {
   "cell_type": "code",
   "execution_count": 11,
   "metadata": {},
   "outputs": [
    {
     "name": "stdout",
     "output_type": "stream",
     "text": [
      "\n",
      "\n",
      "**************************************************\n",
      "Using the following parameters:\n",
      "--------------------------------------------------            \n",
      "\tSource folder: ../dataset/english/wav/           \n",
      "\tAudio format: mp3           \n",
      "\tText format: txt           \n",
      "\tLanguage: eng-US           \n",
      "\tJobs: 7         \n",
      "**************************************************\n"
     ]
    }
   ],
   "source": [
    "print('\\n\\n{}\\nUsing the following parameters:\\n{} \\\n",
    "           \\n\\tSource folder: {}\\\n",
    "           \\n\\tAudio format: {}\\\n",
    "           \\n\\tText format: {}\\\n",
    "           \\n\\tLanguage: {}\\\n",
    "           \\n\\tJobs: {}\\\n",
    "         \\n{}'.format('*'*50, '-'*50,\n",
    "                      outpath, #outpath\n",
    "                      audio_ext, #audio_ext\n",
    "                      text_ext, #text_ext\n",
    "                      lang, #lang\n",
    "                      min(int(num_jobs),16),\n",
    "                      '*'*50))\n",
    "\n",
    "main()"
   ]
  },
  {
   "cell_type": "raw",
   "metadata": {},
   "source": [
    "you may need to check your file system to see if a specific file is making the code to freeze and move it(.txt, _onechannel.wav) for manual upload to the web interface. \n",
    "\n",
    "In our case we had the file : \n",
    "\n",
    "- A04_007\n",
    "- A05_028\n",
    "- A11_008\n",
    "- A19_119\n",
    "- A26_016"
   ]
  },
  {
   "cell_type": "code",
   "execution_count": 1,
   "metadata": {},
   "outputs": [
    {
     "data": {
      "text/plain": [
       "5"
      ]
     },
     "execution_count": 1,
     "metadata": {},
     "output_type": "execute_result"
    }
   ],
   "source": [
    "2+3"
   ]
  },
  {
   "cell_type": "code",
   "execution_count": 11,
   "metadata": {},
   "outputs": [],
   "source": [
    "!mv ../dataset/english/wav/A04_007* ../dataset/english/temp/"
   ]
  },
  {
   "cell_type": "code",
   "execution_count": 12,
   "metadata": {},
   "outputs": [],
   "source": [
    "!mv ../dataset/english/wav/A11_008* ../dataset/english/temp/"
   ]
  },
  {
   "cell_type": "code",
   "execution_count": 13,
   "metadata": {},
   "outputs": [
    {
     "name": "stdout",
     "output_type": "stream",
     "text": [
      "mv: cannot stat '../dataset/english/wav/A19_119*': No such file or directory\n"
     ]
    }
   ],
   "source": [
    "!mv ../dataset/english/wav/A19_119* ../dataset/english/temp/"
   ]
  },
  {
   "cell_type": "code",
   "execution_count": 14,
   "metadata": {},
   "outputs": [],
   "source": [
    "!mv ../dataset/english/wav/A05_028* ../dataset/english/temp/"
   ]
  },
  {
   "cell_type": "code",
   "execution_count": 15,
   "metadata": {},
   "outputs": [],
   "source": [
    "!mv ../dataset/english/wav/A26_016* ../dataset/english/temp/"
   ]
  },
  {
   "cell_type": "code",
   "execution_count": null,
   "metadata": {},
   "outputs": [],
   "source": [
    "# import IPython\n",
    "\n",
    "# IPython.display.Audio(\n",
    "#     \"mass-dataset-mod/dataset/\"+\"English_World_English_Bible_NT_Drama/wav/B05___11_Acts________EN1WEBN2DA_one_channel.wav\", rate= 1600)"
   ]
  }
 ],
 "metadata": {
  "kernelspec": {
   "display_name": "Python 3",
   "language": "python",
   "name": "python3"
  },
  "language_info": {
   "codemirror_mode": {
    "name": "ipython",
    "version": 3
   },
   "file_extension": ".py",
   "mimetype": "text/x-python",
   "name": "python",
   "nbconvert_exporter": "python",
   "pygments_lexer": "ipython3",
   "version": "3.6.12"
  }
 },
 "nbformat": 4,
 "nbformat_minor": 4
}
