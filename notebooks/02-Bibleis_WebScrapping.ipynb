{
 "cells": [
  {
   "cell_type": "code",
   "execution_count": 1,
   "metadata": {},
   "outputs": [],
   "source": [
    "# Packages to install \n",
    "\n",
    "!pip install -q selenium \n",
    "!pip install -q BeautifulSoup4\n",
    "!pip install -q ipdb"
   ]
  },
  {
   "cell_type": "code",
   "execution_count": 1,
   "metadata": {},
   "outputs": [],
   "source": [
    "import requests as rq\n",
    "import bs4 as bs\n",
    "import json\n",
    "import traceback\n",
    "import re\n",
    "import numpy as np\n",
    "import json\n",
    "from selenium import webdriver\n",
    "from selenium.webdriver.support.ui import WebDriverWait\n",
    "from selenium.webdriver.common.by import By\n",
    "from selenium.webdriver.support import expected_conditions as EC\n",
    "import time\n",
    "import glob, os\n",
    "import ipdb\n",
    "from bs4 import BeautifulSoup"
   ]
  },
  {
   "cell_type": "code",
   "execution_count": 2,
   "metadata": {},
   "outputs": [],
   "source": [
    "request = rq.get('https://live.bible.is/bible/EN1ESV/psa/90')\n",
    "\n",
    "html = request.content"
   ]
  },
  {
   "cell_type": "code",
   "execution_count": 3,
   "metadata": {},
   "outputs": [],
   "source": [
    "# f = open('test.html', 'r')\n",
    "# request = f.read()\n",
    "\n",
    "# html = request"
   ]
  },
  {
   "cell_type": "code",
   "execution_count": 4,
   "metadata": {},
   "outputs": [],
   "source": [
    "# html[:1000]"
   ]
  },
  {
   "cell_type": "code",
   "execution_count": 5,
   "metadata": {},
   "outputs": [],
   "source": [
    "# soupy = BeautifulSoup(html,'lxml') \n",
    "soup = BeautifulSoup(html,'html.parser') "
   ]
  },
  {
   "cell_type": "code",
   "execution_count": 6,
   "metadata": {},
   "outputs": [],
   "source": [
    "# soup.find_all?"
   ]
  },
  {
   "cell_type": "code",
   "execution_count": 7,
   "metadata": {},
   "outputs": [],
   "source": [
    "# soup.select?"
   ]
  },
  {
   "cell_type": "code",
   "execution_count": 8,
   "metadata": {},
   "outputs": [],
   "source": [
    "# request = rq.get('https://live.bible.is/bible/EN1ESV/psa/90')\n",
    "# html = request.content\n",
    "# soup = BeautifulSoup(html, 'html.parser') \n",
    "# print(soup.prettify())"
   ]
  },
  {
   "cell_type": "code",
   "execution_count": 9,
   "metadata": {},
   "outputs": [],
   "source": [
    "# json.loads(soup.find('script', type='application/ld+json').text)"
   ]
  },
  {
   "cell_type": "code",
   "execution_count": 10,
   "metadata": {},
   "outputs": [],
   "source": [
    "# import json\n",
    "\n",
    "# from bs4 import BeautifulSoup\n",
    "# import requests\n",
    "\n",
    "# # link = 'https://stackoverflow.com/jobs?med=site-ui&ref=jobs-tab&sort=p'\n",
    "# link = 'https://live.bible.is/bible/EN1ESV/psa/92'\n",
    "# r = requests.get(link)\n",
    "\n",
    "# soup = BeautifulSoup(r.text, 'html.parser')\n",
    "\n",
    "# s = soup.find_all('script')"
   ]
  },
  {
   "cell_type": "code",
   "execution_count": 11,
   "metadata": {},
   "outputs": [],
   "source": [
    "# len(str(s[6].string).split('class=\\\\\"d\\\\\"'))"
   ]
  },
  {
   "cell_type": "code",
   "execution_count": 12,
   "metadata": {},
   "outputs": [],
   "source": [
    "# str(s[6].string).split('class=\\\\\"d\\\\\"')[2].split('class=\\\\\"q\\\\')[0]"
   ]
  },
  {
   "cell_type": "code",
   "execution_count": 13,
   "metadata": {},
   "outputs": [],
   "source": [
    "# # re.search(r'class=\"d\"\\s+=\\s+(.*)', s[6].string)\n",
    "# line = str(s[6].string).split('class=\\\\\"d\\\\\"')[2].split('class=\\\\\"q\\\\')[0]\n",
    "# \" \".join(re.findall('([A-Z]+)', line))"
   ]
  },
  {
   "cell_type": "code",
   "execution_count": 14,
   "metadata": {},
   "outputs": [
    {
     "name": "stdout",
     "output_type": "stream",
     "text": [
      "Lord, you have been our dwelling place in all generations.\n",
      "Before the mountains were brought forth, or ever you had formed the earth and the world, from everlasting to everlasting you are God.\n",
      "You return man to dust and say, “Return, O children of man!”\n",
      "For a thousand years in your sight are but as yesterday when it is past, or as a watch in the night.\n",
      "You sweep them away as with a flood; they are like a dream, like grass that is renewed in the morning:\n",
      "in the morning it flourishes and is renewed; in the evening it fades and withers.\n",
      "For we are brought to an end by your anger; by your wrath we are dismayed.\n",
      "You have set our iniquities before you, our secret sins in the light of your presence.\n",
      "For all our days pass away under your wrath; we bring our years to an end like a sigh.\n",
      "The years of our life are seventy, or even by reason of strength eighty; yet their span is but toil and trouble; they are soon gone, and we fly away.\n",
      "Who considers the power of your anger, and your wrath according to the fear of you?\n",
      "So teach us to number our days that we may get a heart of wisdom.\n",
      "Return, O LORD! How long? Have pity on your servants!\n",
      "Satisfy us in the morning with your steadfast love, that we may rejoice and be glad all our days.\n",
      "Make us glad for as many days as you have afflicted us, and for as many years as we have seen evil.\n",
      "Let your work be shown to your servants, and your glorious power to their children.\n",
      "Let the favor of the Lord our God be upon us, and establish the work of our hands upon us; yes, establish the work of our hands!\n",
      "Copyrighted Material\n",
      "Learn More\n",
      "©\n",
      "Bible.is\n",
      ", a ministry of\n",
      "Faith Comes By Hearing\n",
      "®.\n",
      "Terms and Conditions\n",
      "Help & Support\n",
      "Prev\n",
      "Play\n",
      "Next\n",
      "Autoplay\n",
      "Volume\n",
      "Speed\n"
     ]
    }
   ],
   "source": [
    "s = soup.find_all(\"span\", {\"class\": \"\"})\n",
    "# # s = soup.find_all(\"div\", {\"class\": \"\"})\n",
    "# # print(s)\n",
    "for t in s:\n",
    "    print(t.text)"
   ]
  },
  {
   "cell_type": "code",
   "execution_count": 15,
   "metadata": {},
   "outputs": [],
   "source": [
    "Bible_OT_dict = {\n",
    "    'GEN' : [1, \"Genesis\", 50],\n",
    "    'EXO' : [2, \"Exodus\", 40],\n",
    "    'LEV' : [3, \"Leviticus\", 27],\n",
    "    'NUM' : [4, \"Numbers\", 36],\n",
    "    'DEU' : [5, \"Deuteronomy\", 34],\n",
    "    'JOS' : [6, \"Joshua\", 24],\n",
    "    'JDG' : [7, \"Judges\" ,21],\n",
    "    'RUT' : [8, \"Ruth\", 4], \n",
    "    '1SA' : [9, \"1 Samuel\", 31],\n",
    "    '2SA' : [10, \"2 Samuel\", 24],\n",
    "    '1KI' : [11, \"1 Kings\", 22],\n",
    "    '2KI' : [12, \"2 Kings\", 25],\n",
    "    '1CH' : [13, \"1 Chronicles\", 29],\n",
    "    '2CH' : [14, \"2 Chronicles\", 36],\n",
    "    'EZR' : [15, \"Ezra\", 10],\n",
    "    'NEH' : [16, \"Nehemiah\", 13],\n",
    "    'EST' : [17, \"Esther\", 10], \n",
    "    'JOB' : [18, \"Job\", 42],\n",
    "    'PSA' : [19, \"Psalm\", 150],\n",
    "    'PRO' : [20, \"Proverbs\", 31],\n",
    "    'ECC' : [21, \"Ecclesiastes\", 12],\n",
    "    'SNG' : [22, \"Song of Solomon\", 8],\n",
    "    'ISA' : [23, \"Isaiah\", 66],\n",
    "    'JER' : [24, \"Jeremiah\", 52],\n",
    "    'LAM' : [25, \"Lamentations\", 5],\n",
    "    'EZK' : [26, \"Ezekiel\", 48],\n",
    "    'DAN' : [27, \"Daniel\", 12],\n",
    "    'HOS' : [28, \"Hosea\", 14],\n",
    "    'JOL' : [29, \"Joel\", 3],\n",
    "    'AMO' : [30, \"Amos\", 9],\n",
    "    'OBA' : [31, \"Obadiah\", 1],\n",
    "    'JON' : [32, \"Jonah\", 4],\n",
    "    'MIC' : [33, \"Micah\", 7],\n",
    "    'NAM' : [34, \"Nahum\", 3],\n",
    "    'HAB' : [35, \"Habakkuk\", 3],\n",
    "    'ZEP' : [36, \"Zechariah\", 3],\n",
    "    'HAG' : [37, \"Haggai\", 2],\n",
    "    'ZEC' : [38, \"Zechariah\", 14],\n",
    "    'MAL' : [39, \"Malachi\", 4]\n",
    "}\n",
    "    \n",
    "# Start of the new testament\n",
    "\n",
    "Bible_NT_dict = { \n",
    "    'MAT' : [1, \"Matthew\", 28],\n",
    "    'MRK' : [2, \"Mark\", 16],\n",
    "    'LUK' : [3, \"Luke\", 24],\n",
    "    'JHN' : [4, \"John\", 21],\n",
    "    'ACT' : [5, \"Acts\", 28],\n",
    "    'ROM' : [6, \"Romans\", 16],\n",
    "    '1CO' : [7, \"1 Corienthians\", 16],\n",
    "    '2CO' : [8, \"2 Corienthians\", 13],\n",
    "    'GAL' : [9, \"Galathians\", 6],\n",
    "    'EPH' : [10, \"Ephesians\", 6],\n",
    "    'PHP' : [11, \"Philippians\", 4],\n",
    "    'COL' : [12, \"Colossians\", 4],\n",
    "    '1TH' : [13, \"1 Thessalonians\", 5],\n",
    "    '2TH' : [14, \"2 Thessalonians\", 3],\n",
    "    '1TI' : [15, \"1 Timothy\", 6],\n",
    "    '2TI' : [16, \"2 Timothy\", 4],\n",
    "    'TIT' : [17, \"Titus\", 3],\n",
    "    'PHM' : [18, \"Philemon\", 1],\n",
    "    'HEB' : [19, \"Hebrews\", 13],\n",
    "    'JAS' : [20, \"James\", 5],\n",
    "    '1PE' : [21, \"1 Peter\", 5],\n",
    "    '2PE' : [22, \"2 Peter\", 3],\n",
    "    '1JN' : [23, \"1 John\", 5],\n",
    "    '2JN' : [24, \"2 John\", 1],\n",
    "    '3JN' : [25, \"3 John\", 1],\n",
    "    'JUD' : [26, \"Jude\", 1],\n",
    "    'REV' : [27, \"Revelation\", 22]\n",
    "}"
   ]
  },
  {
   "cell_type": "code",
   "execution_count": 16,
   "metadata": {},
   "outputs": [],
   "source": [
    "# Save books with extra content \n",
    "save = set()"
   ]
  },
  {
   "cell_type": "code",
   "execution_count": 20,
   "metadata": {},
   "outputs": [],
   "source": [
    "def get_english_text(Bible_dict = Bible_NT_dict, output=\"../dataset/english/raw_txt/\"):\n",
    "    \"\"\"\n",
    "    This function will help to save in text form, depening to the book and verse argument \n",
    "    given in parameter\n",
    "\n",
    "    \n",
    "    The data is maintly taken from the website https://www.jw.org/\n",
    "    \"\"\"\n",
    "    try :\n",
    "        for book in Bible_dict:\n",
    "            for verse in range(1, Bible_dict[book][2]+1):\n",
    "                r_engl = rq.get('https://live.bible.is/bible/EN1ESV/'\\\n",
    "                            +str(book)+'/'+str(verse)+'/')\n",
    "                html_engl = r_engl.content\n",
    "                soup_engl = BeautifulSoup(html_engl, 'html.parser') \n",
    "                s_engl = soup_engl.find_all(\"span\", {\"class\": \"\"})\n",
    "                \n",
    "                # help get extra text read before the first verse\n",
    "                s_engl_scipt = soup_engl.find_all('script')\n",
    "                \n",
    "                extra = \"\"\n",
    "                if (len(str(s_engl_scipt[6].string).split('class=\\\\\"d\\\\\"')) > 1):\n",
    "                    line = str(s_engl_scipt[6].string).split('class=\\\\\"d\\\\\"')[2].split('class=\\\\\"q\\\\')[0]\n",
    "                    extra = \" \".join(re.findall('([A-Z]+)', line))\n",
    "                    \n",
    "\n",
    "                if len(Bible_dict) == 39: \n",
    "                    key_caracter = \"A\"\n",
    "                else :\n",
    "                    key_caracter = \"B\"\n",
    "                    \n",
    "#                 # This was added to quickly get book with extra content (but need to be commented for the nomal process)    \n",
    "#                 if (extra !=\"\"):\n",
    "#                     save.add(output+key_caracter+str(Bible_dict[book][0]).zfill(2)+\"_\"+str(verse).zfill(3))\n",
    "#                     continue\n",
    "#                 else:\n",
    "#                     continue\n",
    "\n",
    "                \n",
    "                with open(output+key_caracter+str(Bible_dict[book][0]).zfill(2)+\"_\"+str(verse).zfill(3)+\".txt\", \"w\") as text_file:\n",
    "\n",
    "\n",
    "#                     text_file.write(str(Bible_dict[book][1])+\" \"+str(verse)+\"  \") # 6 space\n",
    "#                     text_file.write(f\"  {extra}  \")\n",
    "                    \n",
    "                    text_file.write(str(Bible_dict[book][1])+\" \"+str(verse)+\"\\n\") # 6 space\n",
    "                    if (extra !=\"\"):\n",
    "                        text_file.write(f\"{extra}\\n\")\n",
    "                        save.add(output+key_caracter+str(Bible_dict[book][0]).zfill(2)+\"_\"+str(verse).zfill(3))\n",
    "                    \n",
    "                        \n",
    "\n",
    "                    for i, t in enumerate(s_engl):\n",
    "                        \n",
    "                        # this removes special caracters from the text# this removes special caracters from the text\n",
    "                        # text = re.sub(r\"[^a-zA-Z]+\", ' ', t.text) \n",
    "                        if t.text.split()[0] == 'Copyrighted':\n",
    "                            break\n",
    "                            \n",
    "#                         text = re.sub(r\"[+]\", ' ', t.text) \n",
    "                        text = ' '.join(re.findall(r'(?:[^\\W\\d_]+\\d|\\d+[^\\W\\d_])[^\\W_]*|[^\\W\\d_]+', t.text))\n",
    "                        # .strip() to delect any leading and trailing whitespace\n",
    "                        text_file.write(text.strip()+\"\\n\") # to use the ligaikuma app, we need to format of in the .txt\n",
    "#                         text_file.write(f\"{i+1}    {text.strip()}      \") # 4 space, 6 space \n",
    "            \n",
    "    except Exception as inst:      \n",
    "        traceback.print_exc()"
   ]
  },
  {
   "cell_type": "markdown",
   "metadata": {},
   "source": [
    "# Download Data"
   ]
  },
  {
   "cell_type": "code",
   "execution_count": 21,
   "metadata": {},
   "outputs": [],
   "source": [
    "# Old testament\n",
    "get_english_text(Bible_dict = Bible_OT_dict,\n",
    "                             output=\"../dataset/english/raw_txt/\")"
   ]
  },
  {
   "cell_type": "code",
   "execution_count": 22,
   "metadata": {},
   "outputs": [],
   "source": [
    "# print(len(save))\n",
    "# print(save)"
   ]
  },
  {
   "cell_type": "code",
   "execution_count": 23,
   "metadata": {},
   "outputs": [],
   "source": [
    "# New testament\n",
    "\n",
    "get_english_text(Bible_dict = Bible_NT_dict)"
   ]
  },
  {
   "cell_type": "code",
   "execution_count": null,
   "metadata": {},
   "outputs": [],
   "source": []
  }
 ],
 "metadata": {
  "kernelspec": {
   "display_name": "Python 3",
   "language": "python",
   "name": "python3"
  },
  "language_info": {
   "codemirror_mode": {
    "name": "ipython",
    "version": 3
   },
   "file_extension": ".py",
   "mimetype": "text/x-python",
   "name": "python",
   "nbconvert_exporter": "python",
   "pygments_lexer": "ipython3",
   "version": "3.6.12"
  }
 },
 "nbformat": 4,
 "nbformat_minor": 4
}
