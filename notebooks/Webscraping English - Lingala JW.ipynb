{
 "cells": [
  {
   "cell_type": "code",
   "execution_count": 42,
   "metadata": {},
   "outputs": [],
   "source": [
    "# Packages to install \n",
    "\n",
    "# !pip install -q selenium \n",
    "# !pip install -q BeautifulSoup4\n",
    "# !pip install -q ipdb"
   ]
  },
  {
   "cell_type": "code",
   "execution_count": 43,
   "metadata": {},
   "outputs": [],
   "source": [
    "import requests as rq\n",
    "import bs4 as bs\n",
    "import json\n",
    "import traceback\n",
    "import re\n",
    "import numpy as np\n",
    "import json\n",
    "from selenium import webdriver\n",
    "from selenium.webdriver.support.ui import WebDriverWait\n",
    "from selenium.webdriver.common.by import By\n",
    "from selenium.webdriver.support import expected_conditions as EC\n",
    "import time\n",
    "import glob, os\n",
    "import ipdb\n",
    "from bs4 import BeautifulSoup"
   ]
  },
  {
   "cell_type": "markdown",
   "metadata": {},
   "source": [
    "# English to French"
   ]
  },
  {
   "cell_type": "code",
   "execution_count": 2,
   "metadata": {},
   "outputs": [],
   "source": [
    "Bible_dict = {\n",
    "#     'genesis' : ['ebandeli', 50],\n",
    "#     'exodus' : ['kobima', 40],\n",
    "#     'leviticus' : ['balevi', 27],\n",
    "#     'numbers' : ['Mitángo', 36],\n",
    "#     'deuteronomy' : ['kolimbola-mibeko', 34],\n",
    "#     'joshua' : ['yosua', 24],\n",
    "#     'judges' : ['basambisi', 21],\n",
    "#     'ruth' : ['ruta', 4], \n",
    "#     '1-samuel' : ['1-samwele', 31],\n",
    "#     '2-samuel' : ['2-samwele', 24],\n",
    "#     '1-kings' : ['1-bakonzi', 22],\n",
    "#     '2-kings' : ['2-bakonzi', 25],\n",
    "#     '1-chronicles' : ['1-ntango', 29],\n",
    "#     '2-chronicles' : ['2-ntango', 36],\n",
    "#     'ezra' : ['ezera', 10],\n",
    "#     'nehemiah' : ['nehemia', 13],\n",
    "#     'esther' : ['estere', 10], \n",
    "#     'job' : ['yobo', 42],\n",
    "#     'psalms' : ['nzembo', 150],\n",
    "#     'proverbs' : ['masese', 31],\n",
    "#     'ecclesiastes' : ['mosakoli', 12],\n",
    "#     'song-of-solomon' : ['loyembo-ya-salomo', 8],\n",
    "#     'isaiah' : ['yisaya', 66],\n",
    "#     'jeremiah' : ['yirimia', 52],\n",
    "#     'lamentations' : ['bileli', 5],\n",
    "#     'ezekiel' : ['ezekiele', 48],\n",
    "#     'daniel' : ['danyele', 12],\n",
    "#     'hosea' : ['hosea', 14],\n",
    "#     'joel' : ['yoele', 3],\n",
    "#     'amos' : ['amose', 9],\n",
    "#     'obadiah' : ['obadia', 1],\n",
    "#     'jonah' : ['yona', 4],\n",
    "#     'micah' : ['mika', 7],\n",
    "#     'nahum' : ['nahumu', 3],\n",
    "#     'habakkuk' : ['habakuku', 3],\n",
    "#     'zephaniah' : ['sefania', 3],\n",
    "#     'haggai' : ['hagai', 2],\n",
    "#     'zechariah' : ['zekaria', 14],\n",
    "#     'malachi' : ['malaki', 4],\n",
    "    'matthew' : ['matai', 28],\n",
    "    'mark' : ['marko', 16],\n",
    "    'luke' : ['luka', 24],\n",
    "    'john' : ['yoane', 21],\n",
    "    'acts' : ['misala', 28],\n",
    "    'romans' : ['baroma', 16],\n",
    "    '1-corinthians' : ['1-bakorinti', 16],\n",
    "    '2-corinthians' : ['2-bakorinti', 13],\n",
    "    'galatians' : ['bagalatia', 6],\n",
    "    'ephesians' : ['baefese', 6],\n",
    "    'philippians' : ['bafilipi', 4],\n",
    "    'colossians' : ['bakolose', 4],\n",
    "    '1-thessalonians' : ['1-batesaloniki', 5],\n",
    "    '2-thessalonians' : ['2-batesaloniki', 3],\n",
    "    '1-timothy' : ['1-timote', 6],\n",
    "    '2-timothy' : ['2-timote', 4],\n",
    "    'titus' : ['tito', 3],\n",
    "    'philemon' : ['filemo', 1],\n",
    "    'hebrews' : ['baebre', 13],\n",
    "    'james' : ['yakobo', 5],\n",
    "    '1-peter' : ['1-petro', 5],\n",
    "    '2-peter' : ['2-petro', 3],\n",
    "    '1-john' : ['1-yoane', 5],\n",
    "    '2-john' : ['2-yoane', 1],\n",
    "    '3-john' : ['3-yoane', 1],\n",
    "    'jude' : ['yuda', 1],\n",
    "    'revelation' : ['emoniseli', 22]\n",
    "}"
   ]
  },
  {
   "cell_type": "code",
   "execution_count": 3,
   "metadata": {},
   "outputs": [
    {
     "data": {
      "text/plain": [
       "['matthew', 'mark', 'luke', 'john', 'acts']"
      ]
     },
     "execution_count": 3,
     "metadata": {},
     "output_type": "execute_result"
    }
   ],
   "source": [
    "new_testament = list(Bible_dict.keys())\n",
    "new_testament[:5]"
   ]
  },
  {
   "cell_type": "code",
   "execution_count": null,
   "metadata": {},
   "outputs": [],
   "source": []
  },
  {
   "cell_type": "code",
   "execution_count": 16,
   "metadata": {},
   "outputs": [],
   "source": [
    "request = rq.get('https://www.jw.org/ln/Biblioteke/biblia/bi12/mikanda/'\\\n",
    "                 +str(Bible_dict[new_testament[0]][0])+'/2/')\n",
    "\n",
    "html = request.content\n",
    "\n",
    "soup = BeautifulSoup(html, 'html.parser') \n",
    "\n",
    "# soup.body.text"
   ]
  },
  {
   "cell_type": "code",
   "execution_count": 17,
   "metadata": {},
   "outputs": [],
   "source": [
    "s = soup.find_all(\"div\", {\"class\": \"textSizeIncrement\"})"
   ]
  },
  {
   "cell_type": "code",
   "execution_count": 19,
   "metadata": {},
   "outputs": [
    {
     "name": "stdout",
     "output_type": "stream",
     "text": [
      "> \u001b[0;32m<ipython-input-19-28ce18af5b03>\u001b[0m(7)\u001b[0;36m<module>\u001b[0;34m()\u001b[0m\n",
      "\u001b[0;32m      5 \u001b[0;31m\u001b[0;31m#         print(k)\u001b[0m\u001b[0;34m\u001b[0m\u001b[0;34m\u001b[0m\u001b[0;34m\u001b[0m\u001b[0m\n",
      "\u001b[0m\u001b[0;32m      6 \u001b[0;31m        \u001b[0mipdb\u001b[0m\u001b[0;34m.\u001b[0m\u001b[0mset_trace\u001b[0m\u001b[0;34m(\u001b[0m\u001b[0;34m)\u001b[0m\u001b[0;34m\u001b[0m\u001b[0;34m\u001b[0m\u001b[0m\n",
      "\u001b[0m\u001b[0;32m----> 7 \u001b[0;31m        \u001b[0mprint\u001b[0m\u001b[0;34m(\u001b[0m\u001b[0mk\u001b[0m\u001b[0;34m.\u001b[0m\u001b[0mstrip\u001b[0m\u001b[0;34m(\u001b[0m\u001b[0;34m)\u001b[0m\u001b[0;34m.\u001b[0m\u001b[0msplit\u001b[0m\u001b[0;34m(\u001b[0m\u001b[0;34m)\u001b[0m\u001b[0;34m[\u001b[0m\u001b[0;36m0\u001b[0m\u001b[0;34m]\u001b[0m\u001b[0;34m.\u001b[0m\u001b[0misdigit\u001b[0m\u001b[0;34m(\u001b[0m\u001b[0;34m)\u001b[0m\u001b[0;34m)\u001b[0m\u001b[0;34m\u001b[0m\u001b[0;34m\u001b[0m\u001b[0m\n",
      "\u001b[0m\n"
     ]
    },
    {
     "name": "stdin",
     "output_type": "stream",
     "text": [
      "ipdb>  print(s[0].text.split('\\n'))\n"
     ]
    },
    {
     "name": "stdout",
     "output_type": "stream",
     "text": [
      "['', '2 \\xa0Nsima ya kobotama ya Yesu na Beteleme+ ya Yudea na mikolo ya Erode+ mokonzi, talá! banganga-minzoto+ bauti na ɛsti bayei na Yerusaleme,', '2\\xa0\\xa0mpe balobi ete: “Wapi moto oyo abotami mokonzi+ ya Bayuda? Mpo tomonaki monzoto+ na ye ntango tozalaki na ɛsti, mpe toyei kogumbamela ye.”', '3\\xa0\\xa0Ntango Mokonzi Erode ayokaki yango, abulunganaki, ye ná Yerusaleme mobimba;', '4\\xa0\\xa0mpe ayanganisaki banganga-nzambe bakonzi ná bakomeli nyonso mpe abandaki kotuna bango epai wapi Kristo asengeli kobotama.', '5\\xa0\\xa0Balobaki na ye ete: “Na Beteleme+ ya Yudea; mpo talá ndenge ekomamaki na nzela ya mosakoli,', '6\\xa0\\xa0‘Mpe yo, Ee Beteleme+ ya mokili ya Yuda, ozali engumba oyo eleki moke te na kati ya baguvɛrnɛrɛ ya Yuda; mpo moto moko oyo akoyangela,+ oyo akokamba+ bato na ngai, Yisraele, akouta na yo.’”', '', '7\\xa0\\xa0Bongo Erode abengisaki banganga-minzoto yango na kobombana mpe atunaki bango malamumalamu mpo ayeba ntango oyo monzoto yango emonanaki;', '8\\xa0\\xa0mpe, ntango atindaki bango na Beteleme, alobaki ete: “Bókende koluka mwana yango malamumalamu, mpe soki bomoni ye, bóyebisa ngai, mpo ngai mpe nakende kogumbamela ye.”+', '9\\xa0\\xa0Nsima ya koyoka mokonzi, bakendaki; mpe talá! monzoto oyo bamonaki ntango bazalaki na ɛsti+ ezalaki kokende liboso na bango, tii etɛlɛmaki likoló ya esika oyo mwana yango ya moke azalaki.', '10\\xa0\\xa0Ntango bamonaki monzoto yango basepelaki mingi mpenza.', '11\\xa0\\xa0Mpe ntango bakɔtaki na ndako bamonaki mwana yango ya moke ná Maria mama na ye, bongo bakweaki na nse mpe bagumbamelaki ye. Bafungolaki mpe biloko na bango ya motuya mpe bapesaki ye makabo: wolo, olibana ná mire.', '12\\xa0\\xa0Nzokande, lokola Nzambe akebisaki+ bango na ndɔtɔ ete bázongela Erode te, bazongaki na mokili na bango na nzela mosusu.', '', '13\\xa0\\xa0Nsima ya kozonga na bango, talá! anzelu ya Yehova+ abimelaki Yozefe na ndɔtɔ mpe alobaki ete: “Tɛlɛmá, kamatá mwana ná mama na ye mpe kimá na Ezipito, mpe fandá kuna tii ntango nakoloba na yo ozonga; mpo Erode alingi koluka mwana yango mpo aboma ye.”', '14\\xa0\\xa0Bongo atɛlɛmaki mpe akamataki mwana yango ná mama na ye na butu mpe akendaki na Ezipito,', '15\\xa0\\xa0mpe afandaki kuna tii na liwa ya Erode, mpo oyo Yehova alobaki na nzela ya mosakoli na ye ekokisama:+ “Nabengaki mwana na ngai alongwa na Ezipito.”+', '', '16\\xa0\\xa0Bongo ntango Erode amonaki ete banganga-minzoto bakosaki ye, ayokaki nkanda makasi mpenza, mpe atindaki báboma bana mibali nyonso na Beteleme mpe na bitúká na yango nyonso, banda na mbula mibale mpe na nse na yango, na kotalela ntango oyo monzoto ebimaki, ndenge banganga-minzoto bayebisaki ye.+', '17\\xa0\\xa0Bongo likambo oyo elobamaki na nzela ya mosakoli Yirimia ekokisamaki:', '18\\xa0\\xa0“Mongongo moko eyokanaki na Rama,+ kolela mpe koganga na kolela mingi; Rashele+ nde azalaki kolela bana na ye, mpe aboyaki kobɔndisama, mpo bazali lisusu te.”', '', '19\\xa0\\xa0Ntango Erode akufaki, talá! anzelu ya Yehova abimelaki Yozefe na ndɔtɔ+ na Ezipito', '20\\xa0\\xa0mpe alobaki ete: “Tɛlɛmá, kamatá mwana ná mama na ye mpe kende na mokili ya Yisraele, mpo baoyo bazalaki koluka molimo ya mwana yango bakufi.”', '21\\xa0\\xa0Bongo atɛlɛmaki mpe akamataki mwana yango ná mama na ye mpe akɔtaki na mokili ya Yisraele.', '22\\xa0\\xa0Kasi lokola ayokaki ete Arkelausi azali koyangela Yudea na esika ya tata na ye Erode, abangaki kokende kuna. Lisusu, lokola Nzambe akebisaki ye na ndɔtɔ,+ akendaki na teritware ya Galile,+', '23\\xa0\\xa0mpe afandaki na engumba moko na nkombo Nazarete,+ mpo likambo oyo elobamaki na nzela ya basakoli ekokisama: “Bakobenga ye Monazarete.”+', '']\n"
     ]
    },
    {
     "name": "stdin",
     "output_type": "stream",
     "text": [
      "ipdb>  q\n"
     ]
    },
    {
     "ename": "BdbQuit",
     "evalue": "",
     "output_type": "error",
     "traceback": [
      "\u001b[0;31m---------------------------------------------------------------------------\u001b[0m",
      "\u001b[0;31mBdbQuit\u001b[0m                                   Traceback (most recent call last)",
      "\u001b[0;32m<ipython-input-19-28ce18af5b03>\u001b[0m in \u001b[0;36m<module>\u001b[0;34m\u001b[0m\n\u001b[1;32m      5\u001b[0m \u001b[0;31m#         print(k)\u001b[0m\u001b[0;34m\u001b[0m\u001b[0;34m\u001b[0m\u001b[0;34m\u001b[0m\u001b[0m\n\u001b[1;32m      6\u001b[0m         \u001b[0mipdb\u001b[0m\u001b[0;34m.\u001b[0m\u001b[0mset_trace\u001b[0m\u001b[0;34m(\u001b[0m\u001b[0;34m)\u001b[0m\u001b[0;34m\u001b[0m\u001b[0;34m\u001b[0m\u001b[0m\n\u001b[0;32m----> 7\u001b[0;31m         \u001b[0mprint\u001b[0m\u001b[0;34m(\u001b[0m\u001b[0mk\u001b[0m\u001b[0;34m.\u001b[0m\u001b[0mstrip\u001b[0m\u001b[0;34m(\u001b[0m\u001b[0;34m)\u001b[0m\u001b[0;34m.\u001b[0m\u001b[0msplit\u001b[0m\u001b[0;34m(\u001b[0m\u001b[0;34m)\u001b[0m\u001b[0;34m[\u001b[0m\u001b[0;36m0\u001b[0m\u001b[0;34m]\u001b[0m\u001b[0;34m.\u001b[0m\u001b[0misdigit\u001b[0m\u001b[0;34m(\u001b[0m\u001b[0;34m)\u001b[0m\u001b[0;34m)\u001b[0m\u001b[0;34m\u001b[0m\u001b[0;34m\u001b[0m\u001b[0m\n\u001b[0m",
      "\u001b[0;32m<ipython-input-19-28ce18af5b03>\u001b[0m in \u001b[0;36m<module>\u001b[0;34m\u001b[0m\n\u001b[1;32m      5\u001b[0m \u001b[0;31m#         print(k)\u001b[0m\u001b[0;34m\u001b[0m\u001b[0;34m\u001b[0m\u001b[0;34m\u001b[0m\u001b[0m\n\u001b[1;32m      6\u001b[0m         \u001b[0mipdb\u001b[0m\u001b[0;34m.\u001b[0m\u001b[0mset_trace\u001b[0m\u001b[0;34m(\u001b[0m\u001b[0;34m)\u001b[0m\u001b[0;34m\u001b[0m\u001b[0;34m\u001b[0m\u001b[0m\n\u001b[0;32m----> 7\u001b[0;31m         \u001b[0mprint\u001b[0m\u001b[0;34m(\u001b[0m\u001b[0mk\u001b[0m\u001b[0;34m.\u001b[0m\u001b[0mstrip\u001b[0m\u001b[0;34m(\u001b[0m\u001b[0;34m)\u001b[0m\u001b[0;34m.\u001b[0m\u001b[0msplit\u001b[0m\u001b[0;34m(\u001b[0m\u001b[0;34m)\u001b[0m\u001b[0;34m[\u001b[0m\u001b[0;36m0\u001b[0m\u001b[0;34m]\u001b[0m\u001b[0;34m.\u001b[0m\u001b[0misdigit\u001b[0m\u001b[0;34m(\u001b[0m\u001b[0;34m)\u001b[0m\u001b[0;34m)\u001b[0m\u001b[0;34m\u001b[0m\u001b[0;34m\u001b[0m\u001b[0m\n\u001b[0m",
      "\u001b[0;32m~/anaconda3/envs/aims/lib/python3.6/bdb.py\u001b[0m in \u001b[0;36mtrace_dispatch\u001b[0;34m(self, frame, event, arg)\u001b[0m\n\u001b[1;32m     49\u001b[0m             \u001b[0;32mreturn\u001b[0m \u001b[0;31m# None\u001b[0m\u001b[0;34m\u001b[0m\u001b[0;34m\u001b[0m\u001b[0m\n\u001b[1;32m     50\u001b[0m         \u001b[0;32mif\u001b[0m \u001b[0mevent\u001b[0m \u001b[0;34m==\u001b[0m \u001b[0;34m'line'\u001b[0m\u001b[0;34m:\u001b[0m\u001b[0;34m\u001b[0m\u001b[0;34m\u001b[0m\u001b[0m\n\u001b[0;32m---> 51\u001b[0;31m             \u001b[0;32mreturn\u001b[0m \u001b[0mself\u001b[0m\u001b[0;34m.\u001b[0m\u001b[0mdispatch_line\u001b[0m\u001b[0;34m(\u001b[0m\u001b[0mframe\u001b[0m\u001b[0;34m)\u001b[0m\u001b[0;34m\u001b[0m\u001b[0;34m\u001b[0m\u001b[0m\n\u001b[0m\u001b[1;32m     52\u001b[0m         \u001b[0;32mif\u001b[0m \u001b[0mevent\u001b[0m \u001b[0;34m==\u001b[0m \u001b[0;34m'call'\u001b[0m\u001b[0;34m:\u001b[0m\u001b[0;34m\u001b[0m\u001b[0;34m\u001b[0m\u001b[0m\n\u001b[1;32m     53\u001b[0m             \u001b[0;32mreturn\u001b[0m \u001b[0mself\u001b[0m\u001b[0;34m.\u001b[0m\u001b[0mdispatch_call\u001b[0m\u001b[0;34m(\u001b[0m\u001b[0mframe\u001b[0m\u001b[0;34m,\u001b[0m \u001b[0marg\u001b[0m\u001b[0;34m)\u001b[0m\u001b[0;34m\u001b[0m\u001b[0;34m\u001b[0m\u001b[0m\n",
      "\u001b[0;32m~/anaconda3/envs/aims/lib/python3.6/bdb.py\u001b[0m in \u001b[0;36mdispatch_line\u001b[0;34m(self, frame)\u001b[0m\n\u001b[1;32m     68\u001b[0m         \u001b[0;32mif\u001b[0m \u001b[0mself\u001b[0m\u001b[0;34m.\u001b[0m\u001b[0mstop_here\u001b[0m\u001b[0;34m(\u001b[0m\u001b[0mframe\u001b[0m\u001b[0;34m)\u001b[0m \u001b[0;32mor\u001b[0m \u001b[0mself\u001b[0m\u001b[0;34m.\u001b[0m\u001b[0mbreak_here\u001b[0m\u001b[0;34m(\u001b[0m\u001b[0mframe\u001b[0m\u001b[0;34m)\u001b[0m\u001b[0;34m:\u001b[0m\u001b[0;34m\u001b[0m\u001b[0;34m\u001b[0m\u001b[0m\n\u001b[1;32m     69\u001b[0m             \u001b[0mself\u001b[0m\u001b[0;34m.\u001b[0m\u001b[0muser_line\u001b[0m\u001b[0;34m(\u001b[0m\u001b[0mframe\u001b[0m\u001b[0;34m)\u001b[0m\u001b[0;34m\u001b[0m\u001b[0;34m\u001b[0m\u001b[0m\n\u001b[0;32m---> 70\u001b[0;31m             \u001b[0;32mif\u001b[0m \u001b[0mself\u001b[0m\u001b[0;34m.\u001b[0m\u001b[0mquitting\u001b[0m\u001b[0;34m:\u001b[0m \u001b[0;32mraise\u001b[0m \u001b[0mBdbQuit\u001b[0m\u001b[0;34m\u001b[0m\u001b[0;34m\u001b[0m\u001b[0m\n\u001b[0m\u001b[1;32m     71\u001b[0m         \u001b[0;32mreturn\u001b[0m \u001b[0mself\u001b[0m\u001b[0;34m.\u001b[0m\u001b[0mtrace_dispatch\u001b[0m\u001b[0;34m\u001b[0m\u001b[0;34m\u001b[0m\u001b[0m\n\u001b[1;32m     72\u001b[0m \u001b[0;34m\u001b[0m\u001b[0m\n",
      "\u001b[0;31mBdbQuit\u001b[0m: "
     ]
    }
   ],
   "source": [
    "verses = []\n",
    "for k in s[0].text.split('\\n'):\n",
    "    if k != '':\n",
    "        verses.append(k)\n",
    "#         print(k)\n",
    "        ipdb.set_trace()\n",
    "        print(k.strip().split()[0].isdigit())"
   ]
  },
  {
   "cell_type": "code",
   "execution_count": null,
   "metadata": {},
   "outputs": [],
   "source": [
    "def load_book_chapeter(dictionary, order, verse = '1'):\n",
    "    \"\"\"\n",
    "    This function will help to save in text form, depening to the book and verse argument \n",
    "    given in parameter\n",
    "    \n",
    "    The data is maintly taken from the website https://www.jw.org/\n",
    "    \"\"\"\n",
    "    \n",
    "    for book_order, book in enumerate(order):\n",
    "        \n",
    "        try :\n",
    "            r_ling = rq.get('https://www.jw.org/ln/Biblioteke/biblia/bi12/mikanda/'\\\n",
    "                         +str(Bible_dict[book][0])+'/'+str(verse)+'/')\n",
    "\n",
    "            html_ling = r_ling.content\n",
    "            soup_ling = BeautifulSoup(html_ling, 'html.parser')         \n",
    "            s_ling = soup_ling.find_all(\"div\", {\"class\": \"textSizeIncrement\"})\n",
    "\n",
    "            \n",
    "                Move read cursor to the start of file.\n",
    "                text_file.seek(0)\n",
    "                If file is not empty then append '\\n'\n",
    "                data = text_file.read(100)\n",
    "                if len(data) > 0 :\n",
    "                    text_file.write(\"\")\n",
    "\n",
    "            verses = []\n",
    "            for k in s_ling[0].text.split('\\n'):\n",
    "                if k != '':\n",
    "                    verses.append(k)\n",
    "                    print(k)\n",
    "            \n",
    "            for i, t in enumerate(s_ling):\n",
    "            \n",
    "                with  removes special caracters from the text# this removes special caracters from the text\n",
    "    #                 text = re.sub(r\"[^a-zA-Z.]+\", ' ', t.text) \n",
    "    #                 text = re.sub(r\"[.]+\", ' .', t.text) \n",
    "    #                 ipdb.set_trace()\n",
    "                    text = re.sub(r\"[+]\", ' ', t.text) \n",
    "                    # .strip() to delect any leading and trailing whitespace\n",
    "                    text_fiopen(\"./data/\"+book+\".ln\", \"w\") as text_file: # a+\n",
    "\n",
    "                    # thisle.write(text[2:].strip()+\"\\n\") \n",
    "\n",
    "        except Exception as inst:      \n",
    "            traceback.print_exc()"
   ]
  },
  {
   "cell_type": "markdown",
   "metadata": {},
   "source": [
    "## Matthew"
   ]
  },
  {
   "cell_type": "code",
   "execution_count": 6,
   "metadata": {},
   "outputs": [],
   "source": [
    "# ENGESVN1DA\n",
    "\n",
    "# B01___01_Matthew_____ENGESVN1DA_verse_0"
   ]
  },
  {
   "cell_type": "code",
   "execution_count": 7,
   "metadata": {},
   "outputs": [
    {
     "data": {
      "text/plain": [
       "'matai'"
      ]
     },
     "execution_count": 7,
     "metadata": {},
     "output_type": "execute_result"
    }
   ],
   "source": [
    "# '19'.zfill(2)\n",
    "Bible_dict['matthew'][0]"
   ]
  },
  {
   "cell_type": "code",
   "execution_count": 12,
   "metadata": {},
   "outputs": [],
   "source": [
    "def load_book_chapter(dictionary, book, book_order):\n",
    "    \"\"\"\n",
    "    This function will help to save in text form, depening to the book and verse argument \n",
    "    given in parameter\n",
    "    \n",
    "    The data is maintly taken from the website https://www.jw.org/\n",
    "    \"\"\"\n",
    "        \n",
    "    for chap in range(1, dictionary[book][1]+1):\n",
    "        print(f\"Loading chapter {chap} ...\")\n",
    "        try :\n",
    "            r_ling = rq.get('https://www.jw.org/ln/Biblioteke/biblia/bi12/mikanda/'\\\n",
    "                         +str(dictionary[book][0])+'/'+str(chap)+'/')\n",
    "\n",
    "            html_ling = r_ling.content\n",
    "            soup_ling = BeautifulSoup(html_ling, 'html.parser')         \n",
    "            s_ling = soup_ling.find_all(\"div\", {\"class\": \"textSizeIncrement\"})\n",
    "            \n",
    "            \n",
    "            with open(\"./data/all_lingala/B\"+str(book_order).zfill(2)+\"___\"+str(chap).zfill(2)+\"_Matthew_____ENGESVN1DA_verse_0.txt\", \"w\") as text_file: # a+\n",
    "                # .strip() to delect any leading and trailing whitespace\n",
    "                text_file.write(Bible_dict[book][0]+\" \"+str(chap)+\"\\n\") \n",
    "\n",
    "            \n",
    "            i = 0\n",
    "            \n",
    "            for verse_line in s_ling[0].text.split('\\n'):\n",
    "#                 ipdb.set_trace()\n",
    "                if verse_line != '':\n",
    "                    verse = verse_line.strip().split()[0]\n",
    "                    if verse.isdigit():\n",
    "                        verse_store = verse\n",
    "                        with open(\"./data/all_lingala/B\"+str(book_order).zfill(2)+\"___\"+str(chap).zfill(2)+\"_Matthew_____ENGESVN1DA_verse_\"+str(verse)+\".txt\", \"w\") as text_file: # a+\n",
    "                            text = re.sub(r\"[+]\", ' ', verse_line) \n",
    "                            # .strip() to delect any leading and trailing whitespace\n",
    "                            text_file.write(text[2:].strip()+\"\\n\") \n",
    "                        \n",
    "                    else:\n",
    "                        with open(\"./data/all_lingala/B\"+str(book_order).zfill(2)+\"___\"+str(chap).zfill(2)+\"_Matthew_____ENGESVN1DA_verse_\"+str(verse_store)+\".txt\", \"a\") as text_file: # a+\n",
    "                            text = re.sub(r\"[+]\", ' ', verse_line) \n",
    "                            # .strip() to delect any leading and trailing whitespace\n",
    "                            text_file.write(text.strip()+\"\\n\")\n",
    "\n",
    "            ipdb.set_trace()\n",
    "        except Exception as inst:      \n",
    "            traceback.print_exc()\n",
    "        "
   ]
  },
  {
   "cell_type": "code",
   "execution_count": 13,
   "metadata": {},
   "outputs": [
    {
     "data": {
      "text/plain": [
       "'matthew'"
      ]
     },
     "execution_count": 13,
     "metadata": {},
     "output_type": "execute_result"
    }
   ],
   "source": [
    "new_testament[0]"
   ]
  },
  {
   "cell_type": "code",
   "execution_count": 15,
   "metadata": {},
   "outputs": [
    {
     "name": "stdout",
     "output_type": "stream",
     "text": [
      "Loading chapter 1 ...\n",
      "Loading chapter 2 ...\n",
      "Loading chapter 3 ...\n",
      "Loading chapter 4 ...\n"
     ]
    },
    {
     "ename": "KeyboardInterrupt",
     "evalue": "",
     "output_type": "error",
     "traceback": [
      "\u001b[0;31m---------------------------------------------------------------------------\u001b[0m",
      "\u001b[0;31mKeyboardInterrupt\u001b[0m                         Traceback (most recent call last)",
      "\u001b[0;32m<ipython-input-15-993293b7206c>\u001b[0m in \u001b[0;36m<module>\u001b[0;34m\u001b[0m\n\u001b[0;32m----> 1\u001b[0;31m \u001b[0mload_book_chapter\u001b[0m\u001b[0;34m(\u001b[0m\u001b[0mBible_dict\u001b[0m\u001b[0;34m,\u001b[0m \u001b[0mnew_testament\u001b[0m\u001b[0;34m[\u001b[0m\u001b[0;36m0\u001b[0m\u001b[0;34m]\u001b[0m\u001b[0;34m,\u001b[0m \u001b[0mnew_testament\u001b[0m\u001b[0;34m.\u001b[0m\u001b[0mindex\u001b[0m\u001b[0;34m(\u001b[0m\u001b[0mnew_testament\u001b[0m\u001b[0;34m[\u001b[0m\u001b[0;36m0\u001b[0m\u001b[0;34m]\u001b[0m\u001b[0;34m)\u001b[0m\u001b[0;34m+\u001b[0m\u001b[0;36m1\u001b[0m\u001b[0;34m)\u001b[0m\u001b[0;34m\u001b[0m\u001b[0;34m\u001b[0m\u001b[0m\n\u001b[0m",
      "\u001b[0;32m<ipython-input-12-454c3af19cb6>\u001b[0m in \u001b[0;36mload_book_chapter\u001b[0;34m(dictionary, book, book_order)\u001b[0m\n\u001b[1;32m     11\u001b[0m         \u001b[0;32mtry\u001b[0m \u001b[0;34m:\u001b[0m\u001b[0;34m\u001b[0m\u001b[0;34m\u001b[0m\u001b[0m\n\u001b[1;32m     12\u001b[0m             r_ling = rq.get('https://www.jw.org/ln/Biblioteke/biblia/bi12/mikanda/'\\\n\u001b[0;32m---> 13\u001b[0;31m                          +str(dictionary[book][0])+'/'+str(chap)+'/')\n\u001b[0m\u001b[1;32m     14\u001b[0m \u001b[0;34m\u001b[0m\u001b[0m\n\u001b[1;32m     15\u001b[0m             \u001b[0mhtml_ling\u001b[0m \u001b[0;34m=\u001b[0m \u001b[0mr_ling\u001b[0m\u001b[0;34m.\u001b[0m\u001b[0mcontent\u001b[0m\u001b[0;34m\u001b[0m\u001b[0;34m\u001b[0m\u001b[0m\n",
      "\u001b[0;32m~/anaconda3/envs/aims/lib/python3.6/site-packages/requests/api.py\u001b[0m in \u001b[0;36mget\u001b[0;34m(url, params, **kwargs)\u001b[0m\n\u001b[1;32m     74\u001b[0m \u001b[0;34m\u001b[0m\u001b[0m\n\u001b[1;32m     75\u001b[0m     \u001b[0mkwargs\u001b[0m\u001b[0;34m.\u001b[0m\u001b[0msetdefault\u001b[0m\u001b[0;34m(\u001b[0m\u001b[0;34m'allow_redirects'\u001b[0m\u001b[0;34m,\u001b[0m \u001b[0;32mTrue\u001b[0m\u001b[0;34m)\u001b[0m\u001b[0;34m\u001b[0m\u001b[0;34m\u001b[0m\u001b[0m\n\u001b[0;32m---> 76\u001b[0;31m     \u001b[0;32mreturn\u001b[0m \u001b[0mrequest\u001b[0m\u001b[0;34m(\u001b[0m\u001b[0;34m'get'\u001b[0m\u001b[0;34m,\u001b[0m \u001b[0murl\u001b[0m\u001b[0;34m,\u001b[0m \u001b[0mparams\u001b[0m\u001b[0;34m=\u001b[0m\u001b[0mparams\u001b[0m\u001b[0;34m,\u001b[0m \u001b[0;34m**\u001b[0m\u001b[0mkwargs\u001b[0m\u001b[0;34m)\u001b[0m\u001b[0;34m\u001b[0m\u001b[0;34m\u001b[0m\u001b[0m\n\u001b[0m\u001b[1;32m     77\u001b[0m \u001b[0;34m\u001b[0m\u001b[0m\n\u001b[1;32m     78\u001b[0m \u001b[0;34m\u001b[0m\u001b[0m\n",
      "\u001b[0;32m~/anaconda3/envs/aims/lib/python3.6/site-packages/requests/api.py\u001b[0m in \u001b[0;36mrequest\u001b[0;34m(method, url, **kwargs)\u001b[0m\n\u001b[1;32m     59\u001b[0m     \u001b[0;31m# cases, and look like a memory leak in others.\u001b[0m\u001b[0;34m\u001b[0m\u001b[0;34m\u001b[0m\u001b[0;34m\u001b[0m\u001b[0m\n\u001b[1;32m     60\u001b[0m     \u001b[0;32mwith\u001b[0m \u001b[0msessions\u001b[0m\u001b[0;34m.\u001b[0m\u001b[0mSession\u001b[0m\u001b[0;34m(\u001b[0m\u001b[0;34m)\u001b[0m \u001b[0;32mas\u001b[0m \u001b[0msession\u001b[0m\u001b[0;34m:\u001b[0m\u001b[0;34m\u001b[0m\u001b[0;34m\u001b[0m\u001b[0m\n\u001b[0;32m---> 61\u001b[0;31m         \u001b[0;32mreturn\u001b[0m \u001b[0msession\u001b[0m\u001b[0;34m.\u001b[0m\u001b[0mrequest\u001b[0m\u001b[0;34m(\u001b[0m\u001b[0mmethod\u001b[0m\u001b[0;34m=\u001b[0m\u001b[0mmethod\u001b[0m\u001b[0;34m,\u001b[0m \u001b[0murl\u001b[0m\u001b[0;34m=\u001b[0m\u001b[0murl\u001b[0m\u001b[0;34m,\u001b[0m \u001b[0;34m**\u001b[0m\u001b[0mkwargs\u001b[0m\u001b[0;34m)\u001b[0m\u001b[0;34m\u001b[0m\u001b[0;34m\u001b[0m\u001b[0m\n\u001b[0m\u001b[1;32m     62\u001b[0m \u001b[0;34m\u001b[0m\u001b[0m\n\u001b[1;32m     63\u001b[0m \u001b[0;34m\u001b[0m\u001b[0m\n",
      "\u001b[0;32m~/anaconda3/envs/aims/lib/python3.6/site-packages/requests/sessions.py\u001b[0m in \u001b[0;36mrequest\u001b[0;34m(self, method, url, params, data, headers, cookies, files, auth, timeout, allow_redirects, proxies, hooks, stream, verify, cert, json)\u001b[0m\n\u001b[1;32m    528\u001b[0m         }\n\u001b[1;32m    529\u001b[0m         \u001b[0msend_kwargs\u001b[0m\u001b[0;34m.\u001b[0m\u001b[0mupdate\u001b[0m\u001b[0;34m(\u001b[0m\u001b[0msettings\u001b[0m\u001b[0;34m)\u001b[0m\u001b[0;34m\u001b[0m\u001b[0;34m\u001b[0m\u001b[0m\n\u001b[0;32m--> 530\u001b[0;31m         \u001b[0mresp\u001b[0m \u001b[0;34m=\u001b[0m \u001b[0mself\u001b[0m\u001b[0;34m.\u001b[0m\u001b[0msend\u001b[0m\u001b[0;34m(\u001b[0m\u001b[0mprep\u001b[0m\u001b[0;34m,\u001b[0m \u001b[0;34m**\u001b[0m\u001b[0msend_kwargs\u001b[0m\u001b[0;34m)\u001b[0m\u001b[0;34m\u001b[0m\u001b[0;34m\u001b[0m\u001b[0m\n\u001b[0m\u001b[1;32m    531\u001b[0m \u001b[0;34m\u001b[0m\u001b[0m\n\u001b[1;32m    532\u001b[0m         \u001b[0;32mreturn\u001b[0m \u001b[0mresp\u001b[0m\u001b[0;34m\u001b[0m\u001b[0;34m\u001b[0m\u001b[0m\n",
      "\u001b[0;32m~/anaconda3/envs/aims/lib/python3.6/site-packages/requests/sessions.py\u001b[0m in \u001b[0;36msend\u001b[0;34m(self, request, **kwargs)\u001b[0m\n\u001b[1;32m    641\u001b[0m \u001b[0;34m\u001b[0m\u001b[0m\n\u001b[1;32m    642\u001b[0m         \u001b[0;31m# Send the request\u001b[0m\u001b[0;34m\u001b[0m\u001b[0;34m\u001b[0m\u001b[0;34m\u001b[0m\u001b[0m\n\u001b[0;32m--> 643\u001b[0;31m         \u001b[0mr\u001b[0m \u001b[0;34m=\u001b[0m \u001b[0madapter\u001b[0m\u001b[0;34m.\u001b[0m\u001b[0msend\u001b[0m\u001b[0;34m(\u001b[0m\u001b[0mrequest\u001b[0m\u001b[0;34m,\u001b[0m \u001b[0;34m**\u001b[0m\u001b[0mkwargs\u001b[0m\u001b[0;34m)\u001b[0m\u001b[0;34m\u001b[0m\u001b[0;34m\u001b[0m\u001b[0m\n\u001b[0m\u001b[1;32m    644\u001b[0m \u001b[0;34m\u001b[0m\u001b[0m\n\u001b[1;32m    645\u001b[0m         \u001b[0;31m# Total elapsed time of the request (approximately)\u001b[0m\u001b[0;34m\u001b[0m\u001b[0;34m\u001b[0m\u001b[0;34m\u001b[0m\u001b[0m\n",
      "\u001b[0;32m~/anaconda3/envs/aims/lib/python3.6/site-packages/requests/adapters.py\u001b[0m in \u001b[0;36msend\u001b[0;34m(self, request, stream, timeout, verify, cert, proxies)\u001b[0m\n\u001b[1;32m    447\u001b[0m                     \u001b[0mdecode_content\u001b[0m\u001b[0;34m=\u001b[0m\u001b[0;32mFalse\u001b[0m\u001b[0;34m,\u001b[0m\u001b[0;34m\u001b[0m\u001b[0;34m\u001b[0m\u001b[0m\n\u001b[1;32m    448\u001b[0m                     \u001b[0mretries\u001b[0m\u001b[0;34m=\u001b[0m\u001b[0mself\u001b[0m\u001b[0;34m.\u001b[0m\u001b[0mmax_retries\u001b[0m\u001b[0;34m,\u001b[0m\u001b[0;34m\u001b[0m\u001b[0;34m\u001b[0m\u001b[0m\n\u001b[0;32m--> 449\u001b[0;31m                     \u001b[0mtimeout\u001b[0m\u001b[0;34m=\u001b[0m\u001b[0mtimeout\u001b[0m\u001b[0;34m\u001b[0m\u001b[0;34m\u001b[0m\u001b[0m\n\u001b[0m\u001b[1;32m    450\u001b[0m                 )\n\u001b[1;32m    451\u001b[0m \u001b[0;34m\u001b[0m\u001b[0m\n",
      "\u001b[0;32m~/anaconda3/envs/aims/lib/python3.6/site-packages/urllib3/connectionpool.py\u001b[0m in \u001b[0;36murlopen\u001b[0;34m(self, method, url, body, headers, retries, redirect, assert_same_host, timeout, pool_timeout, release_conn, chunked, body_pos, **response_kw)\u001b[0m\n\u001b[1;32m    675\u001b[0m                 \u001b[0mbody\u001b[0m\u001b[0;34m=\u001b[0m\u001b[0mbody\u001b[0m\u001b[0;34m,\u001b[0m\u001b[0;34m\u001b[0m\u001b[0;34m\u001b[0m\u001b[0m\n\u001b[1;32m    676\u001b[0m                 \u001b[0mheaders\u001b[0m\u001b[0;34m=\u001b[0m\u001b[0mheaders\u001b[0m\u001b[0;34m,\u001b[0m\u001b[0;34m\u001b[0m\u001b[0;34m\u001b[0m\u001b[0m\n\u001b[0;32m--> 677\u001b[0;31m                 \u001b[0mchunked\u001b[0m\u001b[0;34m=\u001b[0m\u001b[0mchunked\u001b[0m\u001b[0;34m,\u001b[0m\u001b[0;34m\u001b[0m\u001b[0;34m\u001b[0m\u001b[0m\n\u001b[0m\u001b[1;32m    678\u001b[0m             )\n\u001b[1;32m    679\u001b[0m \u001b[0;34m\u001b[0m\u001b[0m\n",
      "\u001b[0;32m~/anaconda3/envs/aims/lib/python3.6/site-packages/urllib3/connectionpool.py\u001b[0m in \u001b[0;36m_make_request\u001b[0;34m(self, conn, method, url, timeout, chunked, **httplib_request_kw)\u001b[0m\n\u001b[1;32m    424\u001b[0m                     \u001b[0;31m# Python 3 (including for exceptions like SystemExit).\u001b[0m\u001b[0;34m\u001b[0m\u001b[0;34m\u001b[0m\u001b[0;34m\u001b[0m\u001b[0m\n\u001b[1;32m    425\u001b[0m                     \u001b[0;31m# Otherwise it looks like a bug in the code.\u001b[0m\u001b[0;34m\u001b[0m\u001b[0;34m\u001b[0m\u001b[0;34m\u001b[0m\u001b[0m\n\u001b[0;32m--> 426\u001b[0;31m                     \u001b[0msix\u001b[0m\u001b[0;34m.\u001b[0m\u001b[0mraise_from\u001b[0m\u001b[0;34m(\u001b[0m\u001b[0me\u001b[0m\u001b[0;34m,\u001b[0m \u001b[0;32mNone\u001b[0m\u001b[0;34m)\u001b[0m\u001b[0;34m\u001b[0m\u001b[0;34m\u001b[0m\u001b[0m\n\u001b[0m\u001b[1;32m    427\u001b[0m         \u001b[0;32mexcept\u001b[0m \u001b[0;34m(\u001b[0m\u001b[0mSocketTimeout\u001b[0m\u001b[0;34m,\u001b[0m \u001b[0mBaseSSLError\u001b[0m\u001b[0;34m,\u001b[0m \u001b[0mSocketError\u001b[0m\u001b[0;34m)\u001b[0m \u001b[0;32mas\u001b[0m \u001b[0me\u001b[0m\u001b[0;34m:\u001b[0m\u001b[0;34m\u001b[0m\u001b[0;34m\u001b[0m\u001b[0m\n\u001b[1;32m    428\u001b[0m             \u001b[0mself\u001b[0m\u001b[0;34m.\u001b[0m\u001b[0m_raise_timeout\u001b[0m\u001b[0;34m(\u001b[0m\u001b[0merr\u001b[0m\u001b[0;34m=\u001b[0m\u001b[0me\u001b[0m\u001b[0;34m,\u001b[0m \u001b[0murl\u001b[0m\u001b[0;34m=\u001b[0m\u001b[0murl\u001b[0m\u001b[0;34m,\u001b[0m \u001b[0mtimeout_value\u001b[0m\u001b[0;34m=\u001b[0m\u001b[0mread_timeout\u001b[0m\u001b[0;34m)\u001b[0m\u001b[0;34m\u001b[0m\u001b[0;34m\u001b[0m\u001b[0m\n",
      "\u001b[0;32m~/anaconda3/envs/aims/lib/python3.6/site-packages/urllib3/packages/six.py\u001b[0m in \u001b[0;36mraise_from\u001b[0;34m(value, from_value)\u001b[0m\n",
      "\u001b[0;32m~/anaconda3/envs/aims/lib/python3.6/site-packages/urllib3/connectionpool.py\u001b[0m in \u001b[0;36m_make_request\u001b[0;34m(self, conn, method, url, timeout, chunked, **httplib_request_kw)\u001b[0m\n\u001b[1;32m    419\u001b[0m                 \u001b[0;31m# Python 3\u001b[0m\u001b[0;34m\u001b[0m\u001b[0;34m\u001b[0m\u001b[0;34m\u001b[0m\u001b[0m\n\u001b[1;32m    420\u001b[0m                 \u001b[0;32mtry\u001b[0m\u001b[0;34m:\u001b[0m\u001b[0;34m\u001b[0m\u001b[0;34m\u001b[0m\u001b[0m\n\u001b[0;32m--> 421\u001b[0;31m                     \u001b[0mhttplib_response\u001b[0m \u001b[0;34m=\u001b[0m \u001b[0mconn\u001b[0m\u001b[0;34m.\u001b[0m\u001b[0mgetresponse\u001b[0m\u001b[0;34m(\u001b[0m\u001b[0;34m)\u001b[0m\u001b[0;34m\u001b[0m\u001b[0;34m\u001b[0m\u001b[0m\n\u001b[0m\u001b[1;32m    422\u001b[0m                 \u001b[0;32mexcept\u001b[0m \u001b[0mBaseException\u001b[0m \u001b[0;32mas\u001b[0m \u001b[0me\u001b[0m\u001b[0;34m:\u001b[0m\u001b[0;34m\u001b[0m\u001b[0;34m\u001b[0m\u001b[0m\n\u001b[1;32m    423\u001b[0m                     \u001b[0;31m# Remove the TypeError from the exception chain in\u001b[0m\u001b[0;34m\u001b[0m\u001b[0;34m\u001b[0m\u001b[0;34m\u001b[0m\u001b[0m\n",
      "\u001b[0;32m~/anaconda3/envs/aims/lib/python3.6/http/client.py\u001b[0m in \u001b[0;36mgetresponse\u001b[0;34m(self)\u001b[0m\n\u001b[1;32m   1352\u001b[0m         \u001b[0;32mtry\u001b[0m\u001b[0;34m:\u001b[0m\u001b[0;34m\u001b[0m\u001b[0;34m\u001b[0m\u001b[0m\n\u001b[1;32m   1353\u001b[0m             \u001b[0;32mtry\u001b[0m\u001b[0;34m:\u001b[0m\u001b[0;34m\u001b[0m\u001b[0;34m\u001b[0m\u001b[0m\n\u001b[0;32m-> 1354\u001b[0;31m                 \u001b[0mresponse\u001b[0m\u001b[0;34m.\u001b[0m\u001b[0mbegin\u001b[0m\u001b[0;34m(\u001b[0m\u001b[0;34m)\u001b[0m\u001b[0;34m\u001b[0m\u001b[0;34m\u001b[0m\u001b[0m\n\u001b[0m\u001b[1;32m   1355\u001b[0m             \u001b[0;32mexcept\u001b[0m \u001b[0mConnectionError\u001b[0m\u001b[0;34m:\u001b[0m\u001b[0;34m\u001b[0m\u001b[0;34m\u001b[0m\u001b[0m\n\u001b[1;32m   1356\u001b[0m                 \u001b[0mself\u001b[0m\u001b[0;34m.\u001b[0m\u001b[0mclose\u001b[0m\u001b[0;34m(\u001b[0m\u001b[0;34m)\u001b[0m\u001b[0;34m\u001b[0m\u001b[0;34m\u001b[0m\u001b[0m\n",
      "\u001b[0;32m~/anaconda3/envs/aims/lib/python3.6/http/client.py\u001b[0m in \u001b[0;36mbegin\u001b[0;34m(self)\u001b[0m\n\u001b[1;32m    305\u001b[0m         \u001b[0;31m# read until we get a non-100 response\u001b[0m\u001b[0;34m\u001b[0m\u001b[0;34m\u001b[0m\u001b[0;34m\u001b[0m\u001b[0m\n\u001b[1;32m    306\u001b[0m         \u001b[0;32mwhile\u001b[0m \u001b[0;32mTrue\u001b[0m\u001b[0;34m:\u001b[0m\u001b[0;34m\u001b[0m\u001b[0;34m\u001b[0m\u001b[0m\n\u001b[0;32m--> 307\u001b[0;31m             \u001b[0mversion\u001b[0m\u001b[0;34m,\u001b[0m \u001b[0mstatus\u001b[0m\u001b[0;34m,\u001b[0m \u001b[0mreason\u001b[0m \u001b[0;34m=\u001b[0m \u001b[0mself\u001b[0m\u001b[0;34m.\u001b[0m\u001b[0m_read_status\u001b[0m\u001b[0;34m(\u001b[0m\u001b[0;34m)\u001b[0m\u001b[0;34m\u001b[0m\u001b[0;34m\u001b[0m\u001b[0m\n\u001b[0m\u001b[1;32m    308\u001b[0m             \u001b[0;32mif\u001b[0m \u001b[0mstatus\u001b[0m \u001b[0;34m!=\u001b[0m \u001b[0mCONTINUE\u001b[0m\u001b[0;34m:\u001b[0m\u001b[0;34m\u001b[0m\u001b[0;34m\u001b[0m\u001b[0m\n\u001b[1;32m    309\u001b[0m                 \u001b[0;32mbreak\u001b[0m\u001b[0;34m\u001b[0m\u001b[0;34m\u001b[0m\u001b[0m\n",
      "\u001b[0;32m~/anaconda3/envs/aims/lib/python3.6/http/client.py\u001b[0m in \u001b[0;36m_read_status\u001b[0;34m(self)\u001b[0m\n\u001b[1;32m    266\u001b[0m \u001b[0;34m\u001b[0m\u001b[0m\n\u001b[1;32m    267\u001b[0m     \u001b[0;32mdef\u001b[0m \u001b[0m_read_status\u001b[0m\u001b[0;34m(\u001b[0m\u001b[0mself\u001b[0m\u001b[0;34m)\u001b[0m\u001b[0;34m:\u001b[0m\u001b[0;34m\u001b[0m\u001b[0;34m\u001b[0m\u001b[0m\n\u001b[0;32m--> 268\u001b[0;31m         \u001b[0mline\u001b[0m \u001b[0;34m=\u001b[0m \u001b[0mstr\u001b[0m\u001b[0;34m(\u001b[0m\u001b[0mself\u001b[0m\u001b[0;34m.\u001b[0m\u001b[0mfp\u001b[0m\u001b[0;34m.\u001b[0m\u001b[0mreadline\u001b[0m\u001b[0;34m(\u001b[0m\u001b[0m_MAXLINE\u001b[0m \u001b[0;34m+\u001b[0m \u001b[0;36m1\u001b[0m\u001b[0;34m)\u001b[0m\u001b[0;34m,\u001b[0m \u001b[0;34m\"iso-8859-1\"\u001b[0m\u001b[0;34m)\u001b[0m\u001b[0;34m\u001b[0m\u001b[0;34m\u001b[0m\u001b[0m\n\u001b[0m\u001b[1;32m    269\u001b[0m         \u001b[0;32mif\u001b[0m \u001b[0mlen\u001b[0m\u001b[0;34m(\u001b[0m\u001b[0mline\u001b[0m\u001b[0;34m)\u001b[0m \u001b[0;34m>\u001b[0m \u001b[0m_MAXLINE\u001b[0m\u001b[0;34m:\u001b[0m\u001b[0;34m\u001b[0m\u001b[0;34m\u001b[0m\u001b[0m\n\u001b[1;32m    270\u001b[0m             \u001b[0;32mraise\u001b[0m \u001b[0mLineTooLong\u001b[0m\u001b[0;34m(\u001b[0m\u001b[0;34m\"status line\"\u001b[0m\u001b[0;34m)\u001b[0m\u001b[0;34m\u001b[0m\u001b[0;34m\u001b[0m\u001b[0m\n",
      "\u001b[0;32m~/anaconda3/envs/aims/lib/python3.6/socket.py\u001b[0m in \u001b[0;36mreadinto\u001b[0;34m(self, b)\u001b[0m\n\u001b[1;32m    584\u001b[0m         \u001b[0;32mwhile\u001b[0m \u001b[0;32mTrue\u001b[0m\u001b[0;34m:\u001b[0m\u001b[0;34m\u001b[0m\u001b[0;34m\u001b[0m\u001b[0m\n\u001b[1;32m    585\u001b[0m             \u001b[0;32mtry\u001b[0m\u001b[0;34m:\u001b[0m\u001b[0;34m\u001b[0m\u001b[0;34m\u001b[0m\u001b[0m\n\u001b[0;32m--> 586\u001b[0;31m                 \u001b[0;32mreturn\u001b[0m \u001b[0mself\u001b[0m\u001b[0;34m.\u001b[0m\u001b[0m_sock\u001b[0m\u001b[0;34m.\u001b[0m\u001b[0mrecv_into\u001b[0m\u001b[0;34m(\u001b[0m\u001b[0mb\u001b[0m\u001b[0;34m)\u001b[0m\u001b[0;34m\u001b[0m\u001b[0;34m\u001b[0m\u001b[0m\n\u001b[0m\u001b[1;32m    587\u001b[0m             \u001b[0;32mexcept\u001b[0m \u001b[0mtimeout\u001b[0m\u001b[0;34m:\u001b[0m\u001b[0;34m\u001b[0m\u001b[0;34m\u001b[0m\u001b[0m\n\u001b[1;32m    588\u001b[0m                 \u001b[0mself\u001b[0m\u001b[0;34m.\u001b[0m\u001b[0m_timeout_occurred\u001b[0m \u001b[0;34m=\u001b[0m \u001b[0;32mTrue\u001b[0m\u001b[0;34m\u001b[0m\u001b[0;34m\u001b[0m\u001b[0m\n",
      "\u001b[0;32m~/anaconda3/envs/aims/lib/python3.6/ssl.py\u001b[0m in \u001b[0;36mrecv_into\u001b[0;34m(self, buffer, nbytes, flags)\u001b[0m\n\u001b[1;32m   1010\u001b[0m                   \u001b[0;34m\"non-zero flags not allowed in calls to recv_into() on %s\"\u001b[0m \u001b[0;34m%\u001b[0m\u001b[0;34m\u001b[0m\u001b[0;34m\u001b[0m\u001b[0m\n\u001b[1;32m   1011\u001b[0m                   self.__class__)\n\u001b[0;32m-> 1012\u001b[0;31m             \u001b[0;32mreturn\u001b[0m \u001b[0mself\u001b[0m\u001b[0;34m.\u001b[0m\u001b[0mread\u001b[0m\u001b[0;34m(\u001b[0m\u001b[0mnbytes\u001b[0m\u001b[0;34m,\u001b[0m \u001b[0mbuffer\u001b[0m\u001b[0;34m)\u001b[0m\u001b[0;34m\u001b[0m\u001b[0;34m\u001b[0m\u001b[0m\n\u001b[0m\u001b[1;32m   1013\u001b[0m         \u001b[0;32melse\u001b[0m\u001b[0;34m:\u001b[0m\u001b[0;34m\u001b[0m\u001b[0;34m\u001b[0m\u001b[0m\n\u001b[1;32m   1014\u001b[0m             \u001b[0;32mreturn\u001b[0m \u001b[0msocket\u001b[0m\u001b[0;34m.\u001b[0m\u001b[0mrecv_into\u001b[0m\u001b[0;34m(\u001b[0m\u001b[0mself\u001b[0m\u001b[0;34m,\u001b[0m \u001b[0mbuffer\u001b[0m\u001b[0;34m,\u001b[0m \u001b[0mnbytes\u001b[0m\u001b[0;34m,\u001b[0m \u001b[0mflags\u001b[0m\u001b[0;34m)\u001b[0m\u001b[0;34m\u001b[0m\u001b[0;34m\u001b[0m\u001b[0m\n",
      "\u001b[0;32m~/anaconda3/envs/aims/lib/python3.6/ssl.py\u001b[0m in \u001b[0;36mread\u001b[0;34m(self, len, buffer)\u001b[0m\n\u001b[1;32m    872\u001b[0m             \u001b[0;32mraise\u001b[0m \u001b[0mValueError\u001b[0m\u001b[0;34m(\u001b[0m\u001b[0;34m\"Read on closed or unwrapped SSL socket.\"\u001b[0m\u001b[0;34m)\u001b[0m\u001b[0;34m\u001b[0m\u001b[0;34m\u001b[0m\u001b[0m\n\u001b[1;32m    873\u001b[0m         \u001b[0;32mtry\u001b[0m\u001b[0;34m:\u001b[0m\u001b[0;34m\u001b[0m\u001b[0;34m\u001b[0m\u001b[0m\n\u001b[0;32m--> 874\u001b[0;31m             \u001b[0;32mreturn\u001b[0m \u001b[0mself\u001b[0m\u001b[0;34m.\u001b[0m\u001b[0m_sslobj\u001b[0m\u001b[0;34m.\u001b[0m\u001b[0mread\u001b[0m\u001b[0;34m(\u001b[0m\u001b[0mlen\u001b[0m\u001b[0;34m,\u001b[0m \u001b[0mbuffer\u001b[0m\u001b[0;34m)\u001b[0m\u001b[0;34m\u001b[0m\u001b[0;34m\u001b[0m\u001b[0m\n\u001b[0m\u001b[1;32m    875\u001b[0m         \u001b[0;32mexcept\u001b[0m \u001b[0mSSLError\u001b[0m \u001b[0;32mas\u001b[0m \u001b[0mx\u001b[0m\u001b[0;34m:\u001b[0m\u001b[0;34m\u001b[0m\u001b[0;34m\u001b[0m\u001b[0m\n\u001b[1;32m    876\u001b[0m             \u001b[0;32mif\u001b[0m \u001b[0mx\u001b[0m\u001b[0;34m.\u001b[0m\u001b[0margs\u001b[0m\u001b[0;34m[\u001b[0m\u001b[0;36m0\u001b[0m\u001b[0;34m]\u001b[0m \u001b[0;34m==\u001b[0m \u001b[0mSSL_ERROR_EOF\u001b[0m \u001b[0;32mand\u001b[0m \u001b[0mself\u001b[0m\u001b[0;34m.\u001b[0m\u001b[0msuppress_ragged_eofs\u001b[0m\u001b[0;34m:\u001b[0m\u001b[0;34m\u001b[0m\u001b[0;34m\u001b[0m\u001b[0m\n",
      "\u001b[0;32m~/anaconda3/envs/aims/lib/python3.6/ssl.py\u001b[0m in \u001b[0;36mread\u001b[0;34m(self, len, buffer)\u001b[0m\n\u001b[1;32m    629\u001b[0m         \"\"\"\n\u001b[1;32m    630\u001b[0m         \u001b[0;32mif\u001b[0m \u001b[0mbuffer\u001b[0m \u001b[0;32mis\u001b[0m \u001b[0;32mnot\u001b[0m \u001b[0;32mNone\u001b[0m\u001b[0;34m:\u001b[0m\u001b[0;34m\u001b[0m\u001b[0;34m\u001b[0m\u001b[0m\n\u001b[0;32m--> 631\u001b[0;31m             \u001b[0mv\u001b[0m \u001b[0;34m=\u001b[0m \u001b[0mself\u001b[0m\u001b[0;34m.\u001b[0m\u001b[0m_sslobj\u001b[0m\u001b[0;34m.\u001b[0m\u001b[0mread\u001b[0m\u001b[0;34m(\u001b[0m\u001b[0mlen\u001b[0m\u001b[0;34m,\u001b[0m \u001b[0mbuffer\u001b[0m\u001b[0;34m)\u001b[0m\u001b[0;34m\u001b[0m\u001b[0;34m\u001b[0m\u001b[0m\n\u001b[0m\u001b[1;32m    632\u001b[0m         \u001b[0;32melse\u001b[0m\u001b[0;34m:\u001b[0m\u001b[0;34m\u001b[0m\u001b[0;34m\u001b[0m\u001b[0m\n\u001b[1;32m    633\u001b[0m             \u001b[0mv\u001b[0m \u001b[0;34m=\u001b[0m \u001b[0mself\u001b[0m\u001b[0;34m.\u001b[0m\u001b[0m_sslobj\u001b[0m\u001b[0;34m.\u001b[0m\u001b[0mread\u001b[0m\u001b[0;34m(\u001b[0m\u001b[0mlen\u001b[0m\u001b[0;34m)\u001b[0m\u001b[0;34m\u001b[0m\u001b[0;34m\u001b[0m\u001b[0m\n",
      "\u001b[0;31mKeyboardInterrupt\u001b[0m: "
     ]
    }
   ],
   "source": [
    "load_book_chapter(Bible_dict, new_testament[0], new_testament.index(new_testament[0])+1)"
   ]
  },
  {
   "cell_type": "markdown",
   "metadata": {},
   "source": [
    "## Mark"
   ]
  },
  {
   "cell_type": "code",
   "execution_count": null,
   "metadata": {},
   "outputs": [],
   "source": [
    "# B02___01_Mark________ENGESVN1DA"
   ]
  },
  {
   "cell_type": "code",
   "execution_count": 151,
   "metadata": {},
   "outputs": [
    {
     "data": {
      "text/plain": [
       "'mark'"
      ]
     },
     "execution_count": 151,
     "metadata": {},
     "output_type": "execute_result"
    }
   ],
   "source": [
    "new_testament[1]"
   ]
  },
  {
   "cell_type": "code",
   "execution_count": 161,
   "metadata": {},
   "outputs": [],
   "source": [
    "def load_book_chapter(dictionary, book, book_order):\n",
    "    \"\"\"\n",
    "    This function will help to save in text form, depening to the book and verse argument \n",
    "    given in parameter\n",
    "    \n",
    "    The data is maintly taken from the website https://www.jw.org/\n",
    "    \"\"\"\n",
    "        \n",
    "    for chap in range(1, dictionary[book][1]+1):\n",
    "        print(f\"Loading chapter {chap} ...\")\n",
    "        try :\n",
    "            r_ling = rq.get('https://www.jw.org/ln/Biblioteke/biblia/bi12/mikanda/'\\\n",
    "                         +str(dictionary[book][0])+'/'+str(chap)+'/')\n",
    "\n",
    "            html_ling = r_ling.content\n",
    "            soup_ling = BeautifulSoup(html_ling, 'html.parser')         \n",
    "            s_ling = soup_ling.find_all(\"div\", {\"class\": \"textSizeIncrement\"})\n",
    "            \n",
    "            \n",
    "            with open(\"./data/all_lingala/B\"+str(book_order).zfill(2)+\"___\"+str(chap).zfill(2)+\"_Mark________ENGESVN1DA_verse_0.txt\", \"w\") as text_file: # a+\n",
    "                # .strip() to delect any leading and trailing whitespace\n",
    "                text_file.write(Bible_dict[book][0]+\" \"+str(chap)+\"\\n\") \n",
    "\n",
    "            \n",
    "            i = 0\n",
    "            \n",
    "            for verse_line in s_ling[0].text.split('\\n'):\n",
    "#                 ipdb.set_trace()\n",
    "                if verse_line != '':\n",
    "                    verse = verse_line.strip().split()[0]\n",
    "                    if verse.isdigit():\n",
    "                        verse_store = verse\n",
    "                        with open(\"./data/all_lingala/B\"+str(book_order).zfill(2)+\"___\"+str(chap).zfill(2)+\"_Mark________ENGESVN1DA_verse_\"+str(verse)+\".txt\", \"w\") as text_file: # a+\n",
    "                            text = re.sub(r\"[+]\", ' ', verse_line) \n",
    "                            # .strip() to delect any leading and trailing whitespace\n",
    "                            text_file.write(text[2:].strip()+\"\\n\") \n",
    "                        \n",
    "                    else:\n",
    "                        with open(\"./data/all_lingala/B\"+str(book_order).zfill(2)+\"___\"+str(chap).zfill(2)+\"_Mark________ENGESVN1DA_verse_\"+str(verse_store)+\".txt\", \"a\") as text_file: # a+\n",
    "                            text = re.sub(r\"[+]\", ' ', verse_line) \n",
    "                            # .strip() to delect any leading and trailing whitespace\n",
    "                            text_file.write(text.strip()+\"\\n\")\n",
    "\n",
    "#             ipdb.set_trace()\n",
    "        except Exception as inst:      \n",
    "            traceback.print_exc()\n",
    "        "
   ]
  },
  {
   "cell_type": "code",
   "execution_count": 162,
   "metadata": {},
   "outputs": [
    {
     "data": {
      "text/plain": [
       "'mark'"
      ]
     },
     "execution_count": 162,
     "metadata": {},
     "output_type": "execute_result"
    }
   ],
   "source": [
    "number = 1\n",
    "new_testament[number]"
   ]
  },
  {
   "cell_type": "code",
   "execution_count": 163,
   "metadata": {},
   "outputs": [
    {
     "name": "stdout",
     "output_type": "stream",
     "text": [
      "Loading chapter 1 ...\n",
      "Loading chapter 2 ...\n",
      "Loading chapter 3 ...\n",
      "Loading chapter 4 ...\n",
      "Loading chapter 5 ...\n",
      "Loading chapter 6 ...\n",
      "Loading chapter 7 ...\n",
      "Loading chapter 8 ...\n",
      "Loading chapter 9 ...\n",
      "Loading chapter 10 ...\n",
      "Loading chapter 11 ...\n",
      "Loading chapter 12 ...\n",
      "Loading chapter 13 ...\n",
      "Loading chapter 14 ...\n",
      "Loading chapter 15 ...\n",
      "Loading chapter 16 ...\n"
     ]
    }
   ],
   "source": [
    "load_book_chapter(Bible_dict, new_testament[number], new_testament.index(new_testament[number])+1)"
   ]
  },
  {
   "cell_type": "markdown",
   "metadata": {},
   "source": [
    "## Luke .. Acts"
   ]
  },
  {
   "cell_type": "code",
   "execution_count": 164,
   "metadata": {},
   "outputs": [],
   "source": [
    "# B03___01_Luke________ENGESVN1DA"
   ]
  },
  {
   "cell_type": "code",
   "execution_count": 166,
   "metadata": {},
   "outputs": [
    {
     "data": {
      "text/plain": [
       "'luke'"
      ]
     },
     "execution_count": 166,
     "metadata": {},
     "output_type": "execute_result"
    }
   ],
   "source": [
    "number = 2\n",
    "new_testament[number]"
   ]
  },
  {
   "cell_type": "code",
   "execution_count": 167,
   "metadata": {},
   "outputs": [],
   "source": [
    "def load_book_chapter(dictionary, book, book_order):\n",
    "    \"\"\"\n",
    "    This function will help to save in text form, depening to the book and verse argument \n",
    "    given in parameter\n",
    "    \n",
    "    The data is maintly taken from the website https://www.jw.org/\n",
    "    \"\"\"\n",
    "        \n",
    "    for chap in range(1, dictionary[book][1]+1):\n",
    "        print(f\"Loading chapter {chap} ...\")\n",
    "        try :\n",
    "            r_ling = rq.get('https://www.jw.org/ln/Biblioteke/biblia/bi12/mikanda/'\\\n",
    "                         +str(dictionary[book][0])+'/'+str(chap)+'/')\n",
    "\n",
    "            html_ling = r_ling.content\n",
    "            soup_ling = BeautifulSoup(html_ling, 'html.parser')         \n",
    "            s_ling = soup_ling.find_all(\"div\", {\"class\": \"textSizeIncrement\"})\n",
    "            \n",
    "            \n",
    "            with open(\"./data/all_lingala/B\"+str(book_order).zfill(2)+\"___\"+str(chap).zfill(2)+\"_Luke________ENGESVN1DA_verse_0.txt\", \"w\") as text_file: # a+\n",
    "                # .strip() to delect any leading and trailing whitespace\n",
    "                text_file.write(Bible_dict[book][0]+\" \"+str(chap)+\"\\n\") \n",
    "\n",
    "            \n",
    "            i = 0\n",
    "            \n",
    "            for verse_line in s_ling[0].text.split('\\n'):\n",
    "#                 ipdb.set_trace()\n",
    "                if verse_line != '':\n",
    "                    verse = verse_line.strip().split()[0]\n",
    "                    if verse.isdigit():\n",
    "                        verse_store = verse\n",
    "                        with open(\"./data/all_lingala/B\"+str(book_order).zfill(2)+\"___\"+str(chap).zfill(2)+\"_Luke________ENGESVN1DA_verse_\"+str(verse)+\".txt\", \"w\") as text_file: # a+\n",
    "                            text = re.sub(r\"[+]\", ' ', verse_line) \n",
    "                            # .strip() to delect any leading and trailing whitespace\n",
    "                            text_file.write(text[2:].strip()+\"\\n\") \n",
    "                        \n",
    "                    else:\n",
    "                        with open(\"./data/all_lingala/B\"+str(book_order).zfill(2)+\"___\"+str(chap).zfill(2)+\"_Luke________ENGESVN1DA_verse_\"+str(verse_store)+\".txt\", \"a\") as text_file: # a+\n",
    "                            text = re.sub(r\"[+]\", ' ', verse_line) \n",
    "                            # .strip() to delect any leading and trailing whitespace\n",
    "                            text_file.write(text.strip()+\"\\n\")\n",
    "\n",
    "#             ipdb.set_trace()\n",
    "        except Exception as inst:      \n",
    "            traceback.print_exc()\n",
    "        "
   ]
  },
  {
   "cell_type": "code",
   "execution_count": 168,
   "metadata": {},
   "outputs": [
    {
     "data": {
      "text/plain": [
       "'luke'"
      ]
     },
     "execution_count": 168,
     "metadata": {},
     "output_type": "execute_result"
    }
   ],
   "source": [
    "new_testament[number]"
   ]
  },
  {
   "cell_type": "code",
   "execution_count": 169,
   "metadata": {},
   "outputs": [
    {
     "name": "stdout",
     "output_type": "stream",
     "text": [
      "Loading chapter 1 ...\n",
      "Loading chapter 2 ...\n",
      "Loading chapter 3 ...\n",
      "Loading chapter 4 ...\n",
      "Loading chapter 5 ...\n",
      "Loading chapter 6 ...\n",
      "Loading chapter 7 ...\n",
      "Loading chapter 8 ...\n",
      "Loading chapter 9 ...\n",
      "Loading chapter 10 ...\n",
      "Loading chapter 11 ...\n",
      "Loading chapter 12 ...\n",
      "Loading chapter 13 ...\n",
      "Loading chapter 14 ...\n",
      "Loading chapter 15 ...\n",
      "Loading chapter 16 ...\n",
      "Loading chapter 17 ...\n",
      "Loading chapter 18 ...\n",
      "Loading chapter 19 ...\n",
      "Loading chapter 20 ...\n",
      "Loading chapter 21 ...\n",
      "Loading chapter 22 ...\n",
      "Loading chapter 23 ...\n",
      "Loading chapter 24 ...\n"
     ]
    }
   ],
   "source": [
    "load_book_chapter(Bible_dict, new_testament[number], new_testament.index(new_testament[number])+1)"
   ]
  },
  {
   "cell_type": "code",
   "execution_count": 164,
   "metadata": {},
   "outputs": [],
   "source": [
    "# B04___06_John________ENGESVN1DA"
   ]
  },
  {
   "cell_type": "code",
   "execution_count": 171,
   "metadata": {},
   "outputs": [
    {
     "data": {
      "text/plain": [
       "'john'"
      ]
     },
     "execution_count": 171,
     "metadata": {},
     "output_type": "execute_result"
    }
   ],
   "source": [
    "number = 3\n",
    "new_testament[number]"
   ]
  },
  {
   "cell_type": "code",
   "execution_count": 172,
   "metadata": {},
   "outputs": [],
   "source": [
    "def load_book_chapter(dictionary, book, book_order):\n",
    "    \"\"\"\n",
    "    This function will help to save in text form, depening to the book and verse argument \n",
    "    given in parameter\n",
    "    \n",
    "    The data is maintly taken from the website https://www.jw.org/\n",
    "    \"\"\"\n",
    "        \n",
    "    for chap in range(1, dictionary[book][1]+1):\n",
    "        print(f\"Loading chapter {chap} ...\")\n",
    "        try :\n",
    "            r_ling = rq.get('https://www.jw.org/ln/Biblioteke/biblia/bi12/mikanda/'\\\n",
    "                         +str(dictionary[book][0])+'/'+str(chap)+'/')\n",
    "\n",
    "            html_ling = r_ling.content\n",
    "            soup_ling = BeautifulSoup(html_ling, 'html.parser')         \n",
    "            s_ling = soup_ling.find_all(\"div\", {\"class\": \"textSizeIncrement\"})\n",
    "            \n",
    "            \n",
    "            with open(\"./data/all_lingala/B\"+str(book_order).zfill(2)+\"___\"+str(chap).zfill(2)+\"_John________ENGESVN1DA_verse_0.txt\", \"w\") as text_file: # a+\n",
    "                # .strip() to delect any leading and trailing whitespace\n",
    "                text_file.write(Bible_dict[book][0]+\" \"+str(chap)+\"\\n\") \n",
    "\n",
    "            \n",
    "            i = 0\n",
    "            \n",
    "            for verse_line in s_ling[0].text.split('\\n'):\n",
    "#                 ipdb.set_trace()\n",
    "                if verse_line != '':\n",
    "                    verse = verse_line.strip().split()[0]\n",
    "                    if verse.isdigit():\n",
    "                        verse_store = verse\n",
    "                        with open(\"./data/all_lingala/B\"+str(book_order).zfill(2)+\"___\"+str(chap).zfill(2)+\"_John________ENGESVN1DA_verse_\"+str(verse)+\".txt\", \"w\") as text_file: # a+\n",
    "                            text = re.sub(r\"[+]\", ' ', verse_line) \n",
    "                            # .strip() to delect any leading and trailing whitespace\n",
    "                            text_file.write(text[2:].strip()+\"\\n\") \n",
    "                        \n",
    "                    else:\n",
    "                        with open(\"./data/all_lingala/B\"+str(book_order).zfill(2)+\"___\"+str(chap).zfill(2)+\"_John________ENGESVN1DA_verse_\"+str(verse_store)+\".txt\", \"a\") as text_file: # a+\n",
    "                            text = re.sub(r\"[+]\", ' ', verse_line) \n",
    "                            # .strip() to delect any leading and trailing whitespace\n",
    "                            text_file.write(text.strip()+\"\\n\")\n",
    "\n",
    "#             ipdb.set_trace()\n",
    "        except Exception as inst:      \n",
    "            traceback.print_exc()\n",
    "        "
   ]
  },
  {
   "cell_type": "code",
   "execution_count": 173,
   "metadata": {},
   "outputs": [
    {
     "data": {
      "text/plain": [
       "'john'"
      ]
     },
     "execution_count": 173,
     "metadata": {},
     "output_type": "execute_result"
    }
   ],
   "source": [
    "new_testament[number]"
   ]
  },
  {
   "cell_type": "code",
   "execution_count": 174,
   "metadata": {},
   "outputs": [
    {
     "name": "stdout",
     "output_type": "stream",
     "text": [
      "Loading chapter 1 ...\n",
      "Loading chapter 2 ...\n",
      "Loading chapter 3 ...\n",
      "Loading chapter 4 ...\n",
      "Loading chapter 5 ...\n",
      "Loading chapter 6 ...\n",
      "Loading chapter 7 ...\n",
      "Loading chapter 8 ...\n",
      "Loading chapter 9 ...\n",
      "Loading chapter 10 ...\n",
      "Loading chapter 11 ...\n",
      "Loading chapter 12 ...\n",
      "Loading chapter 13 ...\n",
      "Loading chapter 14 ...\n",
      "Loading chapter 15 ...\n",
      "Loading chapter 16 ...\n",
      "Loading chapter 17 ...\n",
      "Loading chapter 18 ...\n",
      "Loading chapter 19 ...\n",
      "Loading chapter 20 ...\n",
      "Loading chapter 21 ...\n"
     ]
    }
   ],
   "source": [
    "load_book_chapter(Bible_dict, new_testament[number], new_testament.index(new_testament[number])+1)"
   ]
  },
  {
   "cell_type": "code",
   "execution_count": 164,
   "metadata": {},
   "outputs": [],
   "source": [
    "# B04___06_Acts________ENGESVN1DA"
   ]
  },
  {
   "cell_type": "code",
   "execution_count": 175,
   "metadata": {},
   "outputs": [
    {
     "data": {
      "text/plain": [
       "'acts'"
      ]
     },
     "execution_count": 175,
     "metadata": {},
     "output_type": "execute_result"
    }
   ],
   "source": [
    "number = 4\n",
    "new_testament[number]"
   ]
  },
  {
   "cell_type": "code",
   "execution_count": 176,
   "metadata": {},
   "outputs": [],
   "source": [
    "def load_book_chapter(dictionary, book, book_order):\n",
    "    \"\"\"\n",
    "    This function will help to save in text form, depening to the book and verse argument \n",
    "    given in parameter\n",
    "    \n",
    "    The data is maintly taken from the website https://www.jw.org/\n",
    "    \"\"\"\n",
    "        \n",
    "    for chap in range(1, dictionary[book][1]+1):\n",
    "        print(f\"Loading chapter {chap} ...\")\n",
    "        try :\n",
    "            r_ling = rq.get('https://www.jw.org/ln/Biblioteke/biblia/bi12/mikanda/'\\\n",
    "                         +str(dictionary[book][0])+'/'+str(chap)+'/')\n",
    "\n",
    "            html_ling = r_ling.content\n",
    "            soup_ling = BeautifulSoup(html_ling, 'html.parser')         \n",
    "            s_ling = soup_ling.find_all(\"div\", {\"class\": \"textSizeIncrement\"})\n",
    "            \n",
    "            \n",
    "            with open(\"./data/all_lingala/B\"+str(book_order).zfill(2)+\"___\"+str(chap).zfill(2)+\"_Acts________ENGESVN1DA_verse_0.txt\", \"w\") as text_file: # a+\n",
    "                # .strip() to delect any leading and trailing whitespace\n",
    "                text_file.write(Bible_dict[book][0]+\" \"+str(chap)+\"\\n\") \n",
    "\n",
    "            \n",
    "            i = 0\n",
    "            \n",
    "            for verse_line in s_ling[0].text.split('\\n'):\n",
    "#                 ipdb.set_trace()\n",
    "                if verse_line != '':\n",
    "                    verse = verse_line.strip().split()[0]\n",
    "                    if verse.isdigit():\n",
    "                        verse_store = verse\n",
    "                        with open(\"./data/all_lingala/B\"+str(book_order).zfill(2)+\"___\"+str(chap).zfill(2)+\"_Acts________ENGESVN1DA_verse_\"+str(verse)+\".txt\", \"w\") as text_file: # a+\n",
    "                            text = re.sub(r\"[+]\", ' ', verse_line) \n",
    "                            # .strip() to delect any leading and trailing whitespace\n",
    "                            text_file.write(text[2:].strip()+\"\\n\") \n",
    "                        \n",
    "                    else:\n",
    "                        with open(\"./data/all_lingala/B\"+str(book_order).zfill(2)+\"___\"+str(chap).zfill(2)+\"_Acts________ENGESVN1DA_verse_\"+str(verse_store)+\".txt\", \"a\") as text_file: # a+\n",
    "                            text = re.sub(r\"[+]\", ' ', verse_line) \n",
    "                            # .strip() to delect any leading and trailing whitespace\n",
    "                            text_file.write(text.strip()+\"\\n\")\n",
    "\n",
    "#             ipdb.set_trace()\n",
    "        except Exception as inst:      \n",
    "            traceback.print_exc()\n",
    "        "
   ]
  },
  {
   "cell_type": "code",
   "execution_count": 177,
   "metadata": {},
   "outputs": [
    {
     "data": {
      "text/plain": [
       "'acts'"
      ]
     },
     "execution_count": 177,
     "metadata": {},
     "output_type": "execute_result"
    }
   ],
   "source": [
    "new_testament[number]"
   ]
  },
  {
   "cell_type": "code",
   "execution_count": 178,
   "metadata": {},
   "outputs": [
    {
     "name": "stdout",
     "output_type": "stream",
     "text": [
      "Loading chapter 1 ...\n",
      "Loading chapter 2 ...\n",
      "Loading chapter 3 ...\n",
      "Loading chapter 4 ...\n",
      "Loading chapter 5 ...\n",
      "Loading chapter 6 ...\n",
      "Loading chapter 7 ...\n",
      "Loading chapter 8 ...\n",
      "Loading chapter 9 ...\n",
      "Loading chapter 10 ...\n",
      "Loading chapter 11 ...\n",
      "Loading chapter 12 ...\n",
      "Loading chapter 13 ...\n",
      "Loading chapter 14 ...\n",
      "Loading chapter 15 ...\n",
      "Loading chapter 16 ...\n",
      "Loading chapter 17 ...\n",
      "Loading chapter 18 ...\n",
      "Loading chapter 19 ...\n",
      "Loading chapter 20 ...\n",
      "Loading chapter 21 ...\n",
      "Loading chapter 22 ...\n",
      "Loading chapter 23 ...\n",
      "Loading chapter 24 ...\n",
      "Loading chapter 25 ...\n",
      "Loading chapter 26 ...\n",
      "Loading chapter 27 ...\n",
      "Loading chapter 28 ...\n"
     ]
    }
   ],
   "source": [
    "load_book_chapter(Bible_dict, new_testament[number], new_testament.index(new_testament[number])+1)"
   ]
  },
  {
   "cell_type": "code",
   "execution_count": 179,
   "metadata": {},
   "outputs": [
    {
     "data": {
      "text/plain": [
       "['matthew',\n",
       " 'mark',\n",
       " 'luke',\n",
       " 'john',\n",
       " 'acts',\n",
       " 'romans',\n",
       " '1-corinthians',\n",
       " '2-corinthians',\n",
       " 'galatians',\n",
       " 'ephesians',\n",
       " 'philippians',\n",
       " 'colossians',\n",
       " '1-thessalonians',\n",
       " '2-thessalonians',\n",
       " '1-timothy',\n",
       " '2-timothy',\n",
       " 'titus',\n",
       " 'philemon',\n",
       " 'hebrews',\n",
       " 'james',\n",
       " '1-peter',\n",
       " '2-peter',\n",
       " '1-john',\n",
       " '2-john',\n",
       " '3-john',\n",
       " 'jude',\n",
       " 'revelation']"
      ]
     },
     "execution_count": 179,
     "metadata": {},
     "output_type": "execute_result"
    }
   ],
   "source": [
    "new_testament"
   ]
  },
  {
   "cell_type": "markdown",
   "metadata": {},
   "source": [
    "## Romains"
   ]
  },
  {
   "cell_type": "code",
   "execution_count": 180,
   "metadata": {},
   "outputs": [],
   "source": [
    "# B06___01_Romans______ENGESVN1DA"
   ]
  },
  {
   "cell_type": "code",
   "execution_count": 183,
   "metadata": {},
   "outputs": [
    {
     "data": {
      "text/plain": [
       "'romans'"
      ]
     },
     "execution_count": 183,
     "metadata": {},
     "output_type": "execute_result"
    }
   ],
   "source": [
    "number = 5\n",
    "new_testament[number]"
   ]
  },
  {
   "cell_type": "code",
   "execution_count": 184,
   "metadata": {},
   "outputs": [],
   "source": [
    "def load_book_chapter(dictionary, book, book_order):\n",
    "    \"\"\"\n",
    "    This function will help to save in text form, depening to the book and verse argument \n",
    "    given in parameter\n",
    "    \n",
    "    The data is maintly taken from the website https://www.jw.org/\n",
    "    \"\"\"\n",
    "        \n",
    "    for chap in range(1, dictionary[book][1]+1):\n",
    "        print(f\"Loading chapter {chap} ...\")\n",
    "        try :\n",
    "            r_ling = rq.get('https://www.jw.org/ln/Biblioteke/biblia/bi12/mikanda/'\\\n",
    "                         +str(dictionary[book][0])+'/'+str(chap)+'/')\n",
    "\n",
    "            html_ling = r_ling.content\n",
    "            soup_ling = BeautifulSoup(html_ling, 'html.parser')         \n",
    "            s_ling = soup_ling.find_all(\"div\", {\"class\": \"textSizeIncrement\"})\n",
    "            \n",
    "            \n",
    "            with open(\"./data/all_lingala/B\"+str(book_order).zfill(2)+\"___\"+str(chap).zfill(2)+\"_Romans______ENGESVN1DA_verse_0.txt\", \"w\") as text_file: # a+\n",
    "                # .strip() to delect any leading and trailing whitespace\n",
    "                text_file.write(Bible_dict[book][0]+\" \"+str(chap)+\"\\n\") \n",
    "\n",
    "            \n",
    "            i = 0\n",
    "            \n",
    "            for verse_line in s_ling[0].text.split('\\n'):\n",
    "#                 ipdb.set_trace()\n",
    "                if verse_line != '':\n",
    "                    verse = verse_line.strip().split()[0]\n",
    "                    if verse.isdigit():\n",
    "                        verse_store = verse\n",
    "                        with open(\"./data/all_lingala/B\"+str(book_order).zfill(2)+\"___\"+str(chap).zfill(2)+\"_Romans______ENGESVN1DA_verse_\"+str(verse)+\".txt\", \"w\") as text_file: # a+\n",
    "                            text = re.sub(r\"[+]\", ' ', verse_line) \n",
    "                            # .strip() to delect any leading and trailing whitespace\n",
    "                            text_file.write(text[2:].strip()+\"\\n\") \n",
    "                        \n",
    "                    else:\n",
    "                        with open(\"./data/all_lingala/B\"+str(book_order).zfill(2)+\"___\"+str(chap).zfill(2)+\"_Romans______ENGESVN1DA_verse_\"+str(verse_store)+\".txt\", \"a\") as text_file: # a+\n",
    "                            text = re.sub(r\"[+]\", ' ', verse_line) \n",
    "                            # .strip() to delect any leading and trailing whitespace\n",
    "                            text_file.write(text.strip()+\"\\n\")\n",
    "\n",
    "#             ipdb.set_trace()\n",
    "        except Exception as inst:      \n",
    "            traceback.print_exc()\n",
    "        "
   ]
  },
  {
   "cell_type": "code",
   "execution_count": 185,
   "metadata": {},
   "outputs": [
    {
     "data": {
      "text/plain": [
       "'romans'"
      ]
     },
     "execution_count": 185,
     "metadata": {},
     "output_type": "execute_result"
    }
   ],
   "source": [
    "new_testament[number]"
   ]
  },
  {
   "cell_type": "code",
   "execution_count": 186,
   "metadata": {},
   "outputs": [
    {
     "name": "stdout",
     "output_type": "stream",
     "text": [
      "Loading chapter 1 ...\n",
      "Loading chapter 2 ...\n",
      "Loading chapter 3 ...\n",
      "Loading chapter 4 ...\n",
      "Loading chapter 5 ...\n",
      "Loading chapter 6 ...\n",
      "Loading chapter 7 ...\n",
      "Loading chapter 8 ...\n",
      "Loading chapter 9 ...\n",
      "Loading chapter 10 ...\n",
      "Loading chapter 11 ...\n",
      "Loading chapter 12 ...\n",
      "Loading chapter 13 ...\n",
      "Loading chapter 14 ...\n",
      "Loading chapter 15 ...\n",
      "Loading chapter 16 ...\n"
     ]
    }
   ],
   "source": [
    "load_book_chapter(Bible_dict, new_testament[number], new_testament.index(new_testament[number])+1)"
   ]
  },
  {
   "cell_type": "markdown",
   "metadata": {},
   "source": [
    "## 1Corinthians, 2Corinthians"
   ]
  },
  {
   "cell_type": "code",
   "execution_count": 187,
   "metadata": {},
   "outputs": [],
   "source": [
    "# B07___01_1CorinthiansENGESVN1DA"
   ]
  },
  {
   "cell_type": "code",
   "execution_count": 188,
   "metadata": {},
   "outputs": [
    {
     "data": {
      "text/plain": [
       "'1-corinthians'"
      ]
     },
     "execution_count": 188,
     "metadata": {},
     "output_type": "execute_result"
    }
   ],
   "source": [
    "number = 6\n",
    "new_testament[number]"
   ]
  },
  {
   "cell_type": "code",
   "execution_count": 189,
   "metadata": {},
   "outputs": [],
   "source": [
    "def load_book_chapter(dictionary, book, book_order):\n",
    "    \"\"\"\n",
    "    This function will help to save in text form, depening to the book and verse argument \n",
    "    given in parameter\n",
    "    \n",
    "    The data is maintly taken from the website https://www.jw.org/\n",
    "    \"\"\"\n",
    "        \n",
    "    for chap in range(1, dictionary[book][1]+1):\n",
    "        print(f\"Loading chapter {chap} ...\")\n",
    "        try :\n",
    "            r_ling = rq.get('https://www.jw.org/ln/Biblioteke/biblia/bi12/mikanda/'\\\n",
    "                         +str(dictionary[book][0])+'/'+str(chap)+'/')\n",
    "\n",
    "            html_ling = r_ling.content\n",
    "            soup_ling = BeautifulSoup(html_ling, 'html.parser')         \n",
    "            s_ling = soup_ling.find_all(\"div\", {\"class\": \"textSizeIncrement\"})\n",
    "            \n",
    "            \n",
    "            with open(\"./data/all_lingala/B\"+str(book_order).zfill(2)+\"___\"+str(chap).zfill(2)+\"_1CorinthiansENGESVN1DA_verse_0.txt\", \"w\") as text_file: # a+\n",
    "                # .strip() to delect any leading and trailing whitespace\n",
    "                text_file.write(Bible_dict[book][0]+\" \"+str(chap)+\"\\n\") \n",
    "\n",
    "            \n",
    "            i = 0\n",
    "            \n",
    "            for verse_line in s_ling[0].text.split('\\n'):\n",
    "#                 ipdb.set_trace()\n",
    "                if verse_line != '':\n",
    "                    verse = verse_line.strip().split()[0]\n",
    "                    if verse.isdigit():\n",
    "                        verse_store = verse\n",
    "                        with open(\"./data/all_lingala/B\"+str(book_order).zfill(2)+\"___\"+str(chap).zfill(2)+\"_1CorinthiansENGESVN1DA_verse_\"+str(verse)+\".txt\", \"w\") as text_file: # a+\n",
    "                            text = re.sub(r\"[+]\", ' ', verse_line) \n",
    "                            # .strip() to delect any leading and trailing whitespace\n",
    "                            text_file.write(text[2:].strip()+\"\\n\") \n",
    "                        \n",
    "                    else:\n",
    "                        with open(\"./data/all_lingala/B\"+str(book_order).zfill(2)+\"___\"+str(chap).zfill(2)+\"_1CorinthiansENGESVN1DA_verse_\"+str(verse_store)+\".txt\", \"a\") as text_file: # a+\n",
    "                            text = re.sub(r\"[+]\", ' ', verse_line) \n",
    "                            # .strip() to delect any leading and trailing whitespace\n",
    "                            text_file.write(text.strip()+\"\\n\")\n",
    "\n",
    "#             ipdb.set_trace()\n",
    "        except Exception as inst:      \n",
    "            traceback.print_exc()\n",
    "        "
   ]
  },
  {
   "cell_type": "code",
   "execution_count": 190,
   "metadata": {},
   "outputs": [
    {
     "data": {
      "text/plain": [
       "'1-corinthians'"
      ]
     },
     "execution_count": 190,
     "metadata": {},
     "output_type": "execute_result"
    }
   ],
   "source": [
    "new_testament[number]"
   ]
  },
  {
   "cell_type": "code",
   "execution_count": 191,
   "metadata": {},
   "outputs": [
    {
     "name": "stdout",
     "output_type": "stream",
     "text": [
      "Loading chapter 1 ...\n",
      "Loading chapter 2 ...\n",
      "Loading chapter 3 ...\n",
      "Loading chapter 4 ...\n",
      "Loading chapter 5 ...\n",
      "Loading chapter 6 ...\n",
      "Loading chapter 7 ...\n",
      "Loading chapter 8 ...\n",
      "Loading chapter 9 ...\n",
      "Loading chapter 10 ...\n",
      "Loading chapter 11 ...\n",
      "Loading chapter 12 ...\n",
      "Loading chapter 13 ...\n",
      "Loading chapter 14 ...\n",
      "Loading chapter 15 ...\n",
      "Loading chapter 16 ...\n"
     ]
    }
   ],
   "source": [
    "load_book_chapter(Bible_dict, new_testament[number], new_testament.index(new_testament[number])+1)"
   ]
  },
  {
   "cell_type": "code",
   "execution_count": 164,
   "metadata": {},
   "outputs": [],
   "source": [
    "# B08___01_2CorinthiansENGESVN1DA"
   ]
  },
  {
   "cell_type": "code",
   "execution_count": 192,
   "metadata": {},
   "outputs": [
    {
     "data": {
      "text/plain": [
       "'2-corinthians'"
      ]
     },
     "execution_count": 192,
     "metadata": {},
     "output_type": "execute_result"
    }
   ],
   "source": [
    "number = 7\n",
    "new_testament[number]"
   ]
  },
  {
   "cell_type": "code",
   "execution_count": 197,
   "metadata": {},
   "outputs": [],
   "source": [
    "def load_book_chapter(dictionary, book, book_order):\n",
    "    \"\"\"\n",
    "    This function will help to save in text form, depening to the book and verse argument \n",
    "    given in parameter\n",
    "    \n",
    "    The data is maintly taken from the website https://www.jw.org/\n",
    "    \"\"\"\n",
    "        \n",
    "    for chap in range(1, dictionary[book][1]+1):\n",
    "        print(f\"Loading chapter {chap} ...\")\n",
    "        try :\n",
    "            r_ling = rq.get('https://www.jw.org/ln/Biblioteke/biblia/bi12/mikanda/'\\\n",
    "                         +str(dictionary[book][0])+'/'+str(chap)+'/')\n",
    "\n",
    "            html_ling = r_ling.content\n",
    "            soup_ling = BeautifulSoup(html_ling, 'html.parser')         \n",
    "            s_ling = soup_ling.find_all(\"div\", {\"class\": \"textSizeIncrement\"})\n",
    "            \n",
    "            \n",
    "            with open(\"./data/all_lingala/B\"+str(book_order).zfill(2)+\"___\"+str(chap).zfill(2)+\"_2CorinthiansENGESVN1DA_verse_0.txt\", \"w\") as text_file: # a+\n",
    "                # .strip() to delect any leading and trailing whitespace\n",
    "                text_file.write(Bible_dict[book][0]+\" \"+str(chap)+\"\\n\") \n",
    "\n",
    "            \n",
    "            i = 0\n",
    "            \n",
    "            for verse_line in s_ling[0].text.split('\\n'):\n",
    "#                 ipdb.set_trace()\n",
    "                if verse_line != '':\n",
    "                    verse = verse_line.strip().split()[0]\n",
    "                    if verse.isdigit():\n",
    "                        verse_store = verse\n",
    "                        with open(\"./data/all_lingala/B\"+str(book_order).zfill(2)+\"___\"+str(chap).zfill(2)+\"_2CorinthiansENGESVN1DA_verse_\"+str(verse)+\".txt\", \"w\") as text_file: # a+\n",
    "                            text = re.sub(r\"[+]\", ' ', verse_line) \n",
    "                            # .strip() to delect any leading and trailing whitespace\n",
    "                            text_file.write(text[2:].strip()+\"\\n\") \n",
    "                        \n",
    "                    else:\n",
    "                        with open(\"./data/all_lingala/B\"+str(book_order).zfill(2)+\"___\"+str(chap).zfill(2)+\"_2CorinthiansENGESVN1DA_verse_\"+str(verse_store)+\".txt\", \"a\") as text_file: # a+\n",
    "                            text = re.sub(r\"[+]\", ' ', verse_line) \n",
    "                            # .strip() to delect any leading and trailing whitespace\n",
    "                            text_file.write(text.strip()+\"\\n\")\n",
    "\n",
    "#             ipdb.set_trace()\n",
    "        except Exception as inst:      \n",
    "            traceback.print_exc()\n",
    "        "
   ]
  },
  {
   "cell_type": "code",
   "execution_count": 198,
   "metadata": {},
   "outputs": [
    {
     "data": {
      "text/plain": [
       "'2-corinthians'"
      ]
     },
     "execution_count": 198,
     "metadata": {},
     "output_type": "execute_result"
    }
   ],
   "source": [
    "new_testament[number]"
   ]
  },
  {
   "cell_type": "code",
   "execution_count": 199,
   "metadata": {},
   "outputs": [
    {
     "name": "stdout",
     "output_type": "stream",
     "text": [
      "Loading chapter 1 ...\n",
      "Loading chapter 2 ...\n",
      "Loading chapter 3 ...\n",
      "Loading chapter 4 ...\n",
      "Loading chapter 5 ...\n",
      "Loading chapter 6 ...\n",
      "Loading chapter 7 ...\n",
      "Loading chapter 8 ...\n",
      "Loading chapter 9 ...\n",
      "Loading chapter 10 ...\n",
      "Loading chapter 11 ...\n",
      "Loading chapter 12 ...\n",
      "Loading chapter 13 ...\n"
     ]
    }
   ],
   "source": [
    "load_book_chapter(Bible_dict, new_testament[number], new_testament.index(new_testament[number])+1)"
   ]
  },
  {
   "cell_type": "markdown",
   "metadata": {},
   "source": [
    "## Galatians ... Ephesians"
   ]
  },
  {
   "cell_type": "code",
   "execution_count": 200,
   "metadata": {},
   "outputs": [],
   "source": [
    "# B09___01_Galatians___ENGESVN1DA"
   ]
  },
  {
   "cell_type": "code",
   "execution_count": 201,
   "metadata": {},
   "outputs": [
    {
     "data": {
      "text/plain": [
       "'galatians'"
      ]
     },
     "execution_count": 201,
     "metadata": {},
     "output_type": "execute_result"
    }
   ],
   "source": [
    "number = 8\n",
    "new_testament[number]"
   ]
  },
  {
   "cell_type": "code",
   "execution_count": 202,
   "metadata": {},
   "outputs": [],
   "source": [
    "def load_book_chapter(dictionary, book, book_order):\n",
    "    \"\"\"\n",
    "    This function will help to save in text form, depening to the book and verse argument \n",
    "    given in parameter\n",
    "    \n",
    "    The data is maintly taken from the website https://www.jw.org/\n",
    "    \"\"\"\n",
    "        \n",
    "    for chap in range(1, dictionary[book][1]+1):\n",
    "        print(f\"Loading chapter {chap} ...\")\n",
    "        try :\n",
    "            r_ling = rq.get('https://www.jw.org/ln/Biblioteke/biblia/bi12/mikanda/'\\\n",
    "                         +str(dictionary[book][0])+'/'+str(chap)+'/')\n",
    "\n",
    "            html_ling = r_ling.content\n",
    "            soup_ling = BeautifulSoup(html_ling, 'html.parser')         \n",
    "            s_ling = soup_ling.find_all(\"div\", {\"class\": \"textSizeIncrement\"})\n",
    "            \n",
    "            \n",
    "            with open(\"./data/all_lingala/B\"+str(book_order).zfill(2)+\"___\"+str(chap).zfill(2)+\"_Galatians___ENGESVN1DA_verse_0.txt\", \"w\") as text_file: # a+\n",
    "                # .strip() to delect any leading and trailing whitespace\n",
    "                text_file.write(Bible_dict[book][0]+\" \"+str(chap)+\"\\n\") \n",
    "\n",
    "            \n",
    "            i = 0\n",
    "            \n",
    "            for verse_line in s_ling[0].text.split('\\n'):\n",
    "#                 ipdb.set_trace()\n",
    "                if verse_line != '':\n",
    "                    verse = verse_line.strip().split()[0]\n",
    "                    if verse.isdigit():\n",
    "                        verse_store = verse\n",
    "                        with open(\"./data/all_lingala/B\"+str(book_order).zfill(2)+\"___\"+str(chap).zfill(2)+\"_Galatians___ENGESVN1DA_verse_\"+str(verse)+\".txt\", \"w\") as text_file: # a+\n",
    "                            text = re.sub(r\"[+]\", ' ', verse_line) \n",
    "                            # .strip() to delect any leading and trailing whitespace\n",
    "                            text_file.write(text[2:].strip()+\"\\n\") \n",
    "                        \n",
    "                    else:\n",
    "                        with open(\"./data/all_lingala/B\"+str(book_order).zfill(2)+\"___\"+str(chap).zfill(2)+\"_Galatians___ENGESVN1DA_verse_\"+str(verse_store)+\".txt\", \"a\") as text_file: # a+\n",
    "                            text = re.sub(r\"[+]\", ' ', verse_line) \n",
    "                            # .strip() to delect any leading and trailing whitespace\n",
    "                            text_file.write(text.strip()+\"\\n\")\n",
    "\n",
    "#             ipdb.set_trace()\n",
    "        except Exception as inst:      \n",
    "            traceback.print_exc()\n",
    "        "
   ]
  },
  {
   "cell_type": "code",
   "execution_count": 203,
   "metadata": {},
   "outputs": [
    {
     "data": {
      "text/plain": [
       "'galatians'"
      ]
     },
     "execution_count": 203,
     "metadata": {},
     "output_type": "execute_result"
    }
   ],
   "source": [
    "new_testament[number]"
   ]
  },
  {
   "cell_type": "code",
   "execution_count": 204,
   "metadata": {},
   "outputs": [
    {
     "name": "stdout",
     "output_type": "stream",
     "text": [
      "Loading chapter 1 ...\n",
      "Loading chapter 2 ...\n",
      "Loading chapter 3 ...\n",
      "Loading chapter 4 ...\n",
      "Loading chapter 5 ...\n",
      "Loading chapter 6 ...\n"
     ]
    }
   ],
   "source": [
    "load_book_chapter(Bible_dict, new_testament[number], new_testament.index(new_testament[number])+1)"
   ]
  },
  {
   "cell_type": "code",
   "execution_count": 205,
   "metadata": {},
   "outputs": [],
   "source": [
    "# B10___01_Ephesians___ENGESVN1DA"
   ]
  },
  {
   "cell_type": "code",
   "execution_count": 206,
   "metadata": {},
   "outputs": [
    {
     "data": {
      "text/plain": [
       "'ephesians'"
      ]
     },
     "execution_count": 206,
     "metadata": {},
     "output_type": "execute_result"
    }
   ],
   "source": [
    "number = 9\n",
    "new_testament[number]"
   ]
  },
  {
   "cell_type": "code",
   "execution_count": 207,
   "metadata": {},
   "outputs": [],
   "source": [
    "def load_book_chapter(dictionary, book, book_order):\n",
    "    \"\"\"\n",
    "    This function will help to save in text form, depening to the book and verse argument \n",
    "    given in parameter\n",
    "    \n",
    "    The data is maintly taken from the website https://www.jw.org/\n",
    "    \"\"\"\n",
    "        \n",
    "    for chap in range(1, dictionary[book][1]+1):\n",
    "        print(f\"Loading chapter {chap} ...\")\n",
    "        try :\n",
    "            r_ling = rq.get('https://www.jw.org/ln/Biblioteke/biblia/bi12/mikanda/'\\\n",
    "                         +str(dictionary[book][0])+'/'+str(chap)+'/')\n",
    "\n",
    "            html_ling = r_ling.content\n",
    "            soup_ling = BeautifulSoup(html_ling, 'html.parser')         \n",
    "            s_ling = soup_ling.find_all(\"div\", {\"class\": \"textSizeIncrement\"})\n",
    "            \n",
    "            \n",
    "            with open(\"./data/all_lingala/B\"+str(book_order).zfill(2)+\"___\"+str(chap).zfill(2)+\"_Ephesians___ENGESVN1DA_verse_0.txt\", \"w\") as text_file: # a+\n",
    "                # .strip() to delect any leading and trailing whitespace\n",
    "                text_file.write(Bible_dict[book][0]+\" \"+str(chap)+\"\\n\") \n",
    "\n",
    "            \n",
    "            i = 0\n",
    "            \n",
    "            for verse_line in s_ling[0].text.split('\\n'):\n",
    "#                 ipdb.set_trace()\n",
    "                if verse_line != '':\n",
    "                    verse = verse_line.strip().split()[0]\n",
    "                    if verse.isdigit():\n",
    "                        verse_store = verse\n",
    "                        with open(\"./data/all_lingala/B\"+str(book_order).zfill(2)+\"___\"+str(chap).zfill(2)+\"_Ephesians___ENGESVN1DA_verse_\"+str(verse)+\".txt\", \"w\") as text_file: # a+\n",
    "                            text = re.sub(r\"[+]\", ' ', verse_line) \n",
    "                            # .strip() to delect any leading and trailing whitespace\n",
    "                            text_file.write(text[2:].strip()+\"\\n\") \n",
    "                        \n",
    "                    else:\n",
    "                        with open(\"./data/all_lingala/B\"+str(book_order).zfill(2)+\"___\"+str(chap).zfill(2)+\"_Ephesians___ENGESVN1DA_verse_\"+str(verse_store)+\".txt\", \"a\") as text_file: # a+\n",
    "                            text = re.sub(r\"[+]\", ' ', verse_line) \n",
    "                            # .strip() to delect any leading and trailing whitespace\n",
    "                            text_file.write(text.strip()+\"\\n\")\n",
    "\n",
    "#             ipdb.set_trace()\n",
    "        except Exception as inst:      \n",
    "            traceback.print_exc()\n",
    "        "
   ]
  },
  {
   "cell_type": "code",
   "execution_count": 208,
   "metadata": {},
   "outputs": [
    {
     "data": {
      "text/plain": [
       "'ephesians'"
      ]
     },
     "execution_count": 208,
     "metadata": {},
     "output_type": "execute_result"
    }
   ],
   "source": [
    "new_testament[number]"
   ]
  },
  {
   "cell_type": "code",
   "execution_count": 209,
   "metadata": {},
   "outputs": [
    {
     "name": "stdout",
     "output_type": "stream",
     "text": [
      "Loading chapter 1 ...\n",
      "Loading chapter 2 ...\n",
      "Loading chapter 3 ...\n",
      "Loading chapter 4 ...\n",
      "Loading chapter 5 ...\n",
      "Loading chapter 6 ...\n"
     ]
    }
   ],
   "source": [
    "load_book_chapter(Bible_dict, new_testament[number], new_testament.index(new_testament[number])+1)"
   ]
  },
  {
   "cell_type": "markdown",
   "metadata": {},
   "source": [
    "## Philippians"
   ]
  },
  {
   "cell_type": "code",
   "execution_count": 210,
   "metadata": {},
   "outputs": [],
   "source": [
    "# B11___01_Philippians_EN1WEBN2DA"
   ]
  },
  {
   "cell_type": "code",
   "execution_count": 211,
   "metadata": {},
   "outputs": [
    {
     "data": {
      "text/plain": [
       "'philippians'"
      ]
     },
     "execution_count": 211,
     "metadata": {},
     "output_type": "execute_result"
    }
   ],
   "source": [
    "number = 10\n",
    "new_testament[number]"
   ]
  },
  {
   "cell_type": "code",
   "execution_count": 212,
   "metadata": {},
   "outputs": [],
   "source": [
    "def load_book_chapter(dictionary, book, book_order):\n",
    "    \"\"\"\n",
    "    This function will help to save in text form, depening to the book and verse argument \n",
    "    given in parameter\n",
    "    \n",
    "    The data is maintly taken from the website https://www.jw.org/\n",
    "    \"\"\"\n",
    "        \n",
    "    for chap in range(1, dictionary[book][1]+1):\n",
    "        print(f\"Loading chapter {chap} ...\")\n",
    "        try :\n",
    "            r_ling = rq.get('https://www.jw.org/ln/Biblioteke/biblia/bi12/mikanda/'\\\n",
    "                         +str(dictionary[book][0])+'/'+str(chap)+'/')\n",
    "\n",
    "            html_ling = r_ling.content\n",
    "            soup_ling = BeautifulSoup(html_ling, 'html.parser')         \n",
    "            s_ling = soup_ling.find_all(\"div\", {\"class\": \"textSizeIncrement\"})\n",
    "            \n",
    "            \n",
    "            with open(\"./data/all_lingala/B\"+str(book_order).zfill(2)+\"___\"+str(chap).zfill(2)+\"_Philippians_ENGESVN1DA_verse_0.txt\", \"w\") as text_file: # a+\n",
    "                # .strip() to delect any leading and trailing whitespace\n",
    "                text_file.write(Bible_dict[book][0]+\" \"+str(chap)+\"\\n\") \n",
    "\n",
    "            \n",
    "            i = 0\n",
    "            \n",
    "            for verse_line in s_ling[0].text.split('\\n'):\n",
    "#                 ipdb.set_trace()\n",
    "                if verse_line != '':\n",
    "                    verse = verse_line.strip().split()[0]\n",
    "                    if verse.isdigit():\n",
    "                        verse_store = verse\n",
    "                        with open(\"./data/all_lingala/B\"+str(book_order).zfill(2)+\"___\"+str(chap).zfill(2)+\"_Philippians_ENGESVN1DA_verse_\"+str(verse)+\".txt\", \"w\") as text_file: # a+\n",
    "                            text = re.sub(r\"[+]\", ' ', verse_line) \n",
    "                            # .strip() to delect any leading and trailing whitespace\n",
    "                            text_file.write(text[2:].strip()+\"\\n\") \n",
    "                        \n",
    "                    else:\n",
    "                        with open(\"./data/all_lingala/B\"+str(book_order).zfill(2)+\"___\"+str(chap).zfill(2)+\"_Philippians_ENGESVN1DA_verse_\"+str(verse_store)+\".txt\", \"a\") as text_file: # a+\n",
    "                            text = re.sub(r\"[+]\", ' ', verse_line) \n",
    "                            # .strip() to delect any leading and trailing whitespace\n",
    "                            text_file.write(text.strip()+\"\\n\")\n",
    "\n",
    "#             ipdb.set_trace()\n",
    "        except Exception as inst:      \n",
    "            traceback.print_exc()\n",
    "        "
   ]
  },
  {
   "cell_type": "code",
   "execution_count": 213,
   "metadata": {},
   "outputs": [
    {
     "data": {
      "text/plain": [
       "'philippians'"
      ]
     },
     "execution_count": 213,
     "metadata": {},
     "output_type": "execute_result"
    }
   ],
   "source": [
    "new_testament[number]"
   ]
  },
  {
   "cell_type": "code",
   "execution_count": 214,
   "metadata": {},
   "outputs": [
    {
     "name": "stdout",
     "output_type": "stream",
     "text": [
      "Loading chapter 1 ...\n",
      "Loading chapter 2 ...\n",
      "Loading chapter 3 ...\n",
      "Loading chapter 4 ...\n"
     ]
    }
   ],
   "source": [
    "load_book_chapter(Bible_dict, new_testament[number], new_testament.index(new_testament[number])+1)"
   ]
  },
  {
   "cell_type": "markdown",
   "metadata": {},
   "source": [
    "## Colossians"
   ]
  },
  {
   "cell_type": "code",
   "execution_count": 119,
   "metadata": {},
   "outputs": [],
   "source": [
    "# B12___01_Colossians__EN1WEBN2DA"
   ]
  },
  {
   "cell_type": "code",
   "execution_count": 216,
   "metadata": {},
   "outputs": [
    {
     "data": {
      "text/plain": [
       "'colossians'"
      ]
     },
     "execution_count": 216,
     "metadata": {},
     "output_type": "execute_result"
    }
   ],
   "source": [
    "number = 11\n",
    "new_testament[number]"
   ]
  },
  {
   "cell_type": "code",
   "execution_count": 217,
   "metadata": {},
   "outputs": [],
   "source": [
    "def load_book_chapter(dictionary, book, book_order):\n",
    "    \"\"\"\n",
    "    This function will help to save in text form, depening to the book and verse argument \n",
    "    given in parameter\n",
    "    \n",
    "    The data is maintly taken from the website https://www.jw.org/\n",
    "    \"\"\"\n",
    "        \n",
    "    for chap in range(1, dictionary[book][1]+1):\n",
    "        print(f\"Loading chapter {chap} ...\")\n",
    "        try :\n",
    "            r_ling = rq.get('https://www.jw.org/ln/Biblioteke/biblia/bi12/mikanda/'\\\n",
    "                         +str(dictionary[book][0])+'/'+str(chap)+'/')\n",
    "\n",
    "            html_ling = r_ling.content\n",
    "            soup_ling = BeautifulSoup(html_ling, 'html.parser')         \n",
    "            s_ling = soup_ling.find_all(\"div\", {\"class\": \"textSizeIncrement\"})\n",
    "            \n",
    "            \n",
    "            with open(\"./data/all_lingala/B\"+str(book_order).zfill(2)+\"___\"+str(chap).zfill(2)+\"_Colossians__ENGESVN1DA_verse_0.txt\", \"w\") as text_file: # a+\n",
    "                # .strip() to delect any leading and trailing whitespace\n",
    "                text_file.write(Bible_dict[book][0]+\" \"+str(chap)+\"\\n\") \n",
    "\n",
    "            \n",
    "            i = 0\n",
    "            \n",
    "            for verse_line in s_ling[0].text.split('\\n'):\n",
    "#                 ipdb.set_trace()\n",
    "                if verse_line != '':\n",
    "                    verse = verse_line.strip().split()[0]\n",
    "                    if verse.isdigit():\n",
    "                        verse_store = verse\n",
    "                        with open(\"./data/all_lingala/B\"+str(book_order).zfill(2)+\"___\"+str(chap).zfill(2)+\"_Colossians__ENGESVN1DA_verse_\"+str(verse)+\".txt\", \"w\") as text_file: # a+\n",
    "                            text = re.sub(r\"[+]\", ' ', verse_line) \n",
    "                            # .strip() to delect any leading and trailing whitespace\n",
    "                            text_file.write(text[2:].strip()+\"\\n\") \n",
    "                        \n",
    "                    else:\n",
    "                        with open(\"./data/all_lingala/B\"+str(book_order).zfill(2)+\"___\"+str(chap).zfill(2)+\"_Colossians__ENGESVN1DA_verse_\"+str(verse_store)+\".txt\", \"a\") as text_file: # a+\n",
    "                            text = re.sub(r\"[+]\", ' ', verse_line) \n",
    "                            # .strip() to delect any leading and trailing whitespace\n",
    "                            text_file.write(text.strip()+\"\\n\")\n",
    "\n",
    "#             ipdb.set_trace()\n",
    "        except Exception as inst:      \n",
    "            traceback.print_exc()\n",
    "        "
   ]
  },
  {
   "cell_type": "code",
   "execution_count": 218,
   "metadata": {},
   "outputs": [
    {
     "data": {
      "text/plain": [
       "'colossians'"
      ]
     },
     "execution_count": 218,
     "metadata": {},
     "output_type": "execute_result"
    }
   ],
   "source": [
    "new_testament[number]"
   ]
  },
  {
   "cell_type": "code",
   "execution_count": 219,
   "metadata": {},
   "outputs": [
    {
     "name": "stdout",
     "output_type": "stream",
     "text": [
      "Loading chapter 1 ...\n",
      "Loading chapter 2 ...\n",
      "Loading chapter 3 ...\n",
      "Loading chapter 4 ...\n"
     ]
    }
   ],
   "source": [
    "load_book_chapter(Bible_dict, new_testament[number], new_testament.index(new_testament[number])+1)"
   ]
  },
  {
   "cell_type": "markdown",
   "metadata": {},
   "source": [
    "## 1Thess ... 2Thess"
   ]
  },
  {
   "cell_type": "code",
   "execution_count": 119,
   "metadata": {},
   "outputs": [],
   "source": [
    "# B13___01_1Thess______EN1WEBN2DA"
   ]
  },
  {
   "cell_type": "code",
   "execution_count": 221,
   "metadata": {},
   "outputs": [
    {
     "data": {
      "text/plain": [
       "'1-thessalonians'"
      ]
     },
     "execution_count": 221,
     "metadata": {},
     "output_type": "execute_result"
    }
   ],
   "source": [
    "number = 12\n",
    "new_testament[number]"
   ]
  },
  {
   "cell_type": "code",
   "execution_count": 222,
   "metadata": {},
   "outputs": [],
   "source": [
    "def load_book_chapter(dictionary, book, book_order):\n",
    "    \"\"\"\n",
    "    This function will help to save in text form, depening to the book and verse argument \n",
    "    given in parameter\n",
    "    \n",
    "    The data is maintly taken from the website https://www.jw.org/\n",
    "    \"\"\"\n",
    "        \n",
    "    for chap in range(1, dictionary[book][1]+1):\n",
    "        print(f\"Loading chapter {chap} ...\")\n",
    "        try :\n",
    "            r_ling = rq.get('https://www.jw.org/ln/Biblioteke/biblia/bi12/mikanda/'\\\n",
    "                         +str(dictionary[book][0])+'/'+str(chap)+'/')\n",
    "\n",
    "            html_ling = r_ling.content\n",
    "            soup_ling = BeautifulSoup(html_ling, 'html.parser')         \n",
    "            s_ling = soup_ling.find_all(\"div\", {\"class\": \"textSizeIncrement\"})\n",
    "            \n",
    "            \n",
    "            with open(\"./data/all_lingala/B\"+str(book_order).zfill(2)+\"___\"+str(chap).zfill(2)+\"_1Thess______ENGESVN1DA_verse_0.txt\", \"w\") as text_file: # a+\n",
    "                # .strip() to delect any leading and trailing whitespace\n",
    "                text_file.write(Bible_dict[book][0]+\" \"+str(chap)+\"\\n\") \n",
    "\n",
    "            \n",
    "            i = 0\n",
    "            \n",
    "            for verse_line in s_ling[0].text.split('\\n'):\n",
    "#                 ipdb.set_trace()\n",
    "                if verse_line != '':\n",
    "                    verse = verse_line.strip().split()[0]\n",
    "                    if verse.isdigit():\n",
    "                        verse_store = verse\n",
    "                        with open(\"./data/all_lingala/B\"+str(book_order).zfill(2)+\"___\"+str(chap).zfill(2)+\"_1Thess______ENGESVN1DA_verse_\"+str(verse)+\".txt\", \"w\") as text_file: # a+\n",
    "                            text = re.sub(r\"[+]\", ' ', verse_line) \n",
    "                            # .strip() to delect any leading and trailing whitespace\n",
    "                            text_file.write(text[2:].strip()+\"\\n\") \n",
    "                        \n",
    "                    else:\n",
    "                        with open(\"./data/all_lingala/B\"+str(book_order).zfill(2)+\"___\"+str(chap).zfill(2)+\"_1Thess______ENGESVN1DA_verse_\"+str(verse_store)+\".txt\", \"a\") as text_file: # a+\n",
    "                            text = re.sub(r\"[+]\", ' ', verse_line) \n",
    "                            # .strip() to delect any leading and trailing whitespace\n",
    "                            text_file.write(text.strip()+\"\\n\")\n",
    "\n",
    "#             ipdb.set_trace()\n",
    "        except Exception as inst:      \n",
    "            traceback.print_exc()\n",
    "        "
   ]
  },
  {
   "cell_type": "code",
   "execution_count": 223,
   "metadata": {},
   "outputs": [
    {
     "data": {
      "text/plain": [
       "'1-thessalonians'"
      ]
     },
     "execution_count": 223,
     "metadata": {},
     "output_type": "execute_result"
    }
   ],
   "source": [
    "new_testament[number]"
   ]
  },
  {
   "cell_type": "code",
   "execution_count": 224,
   "metadata": {},
   "outputs": [
    {
     "name": "stdout",
     "output_type": "stream",
     "text": [
      "Loading chapter 1 ...\n",
      "Loading chapter 2 ...\n",
      "Loading chapter 3 ...\n",
      "Loading chapter 4 ...\n",
      "Loading chapter 5 ...\n"
     ]
    }
   ],
   "source": [
    "load_book_chapter(Bible_dict, new_testament[number], new_testament.index(new_testament[number])+1)"
   ]
  },
  {
   "cell_type": "code",
   "execution_count": 225,
   "metadata": {},
   "outputs": [],
   "source": [
    "# B14___01_2Thess______EN1WEBN2DA"
   ]
  },
  {
   "cell_type": "code",
   "execution_count": 226,
   "metadata": {},
   "outputs": [
    {
     "data": {
      "text/plain": [
       "'2-thessalonians'"
      ]
     },
     "execution_count": 226,
     "metadata": {},
     "output_type": "execute_result"
    }
   ],
   "source": [
    "number = 13\n",
    "new_testament[number]"
   ]
  },
  {
   "cell_type": "code",
   "execution_count": 227,
   "metadata": {},
   "outputs": [],
   "source": [
    "def load_book_chapter(dictionary, book, book_order):\n",
    "    \"\"\"\n",
    "    This function will help to save in text form, depening to the book and verse argument \n",
    "    given in parameter\n",
    "    \n",
    "    The data is maintly taken from the website https://www.jw.org/\n",
    "    \"\"\"\n",
    "        \n",
    "    for chap in range(1, dictionary[book][1]+1):\n",
    "        print(f\"Loading chapter {chap} ...\")\n",
    "        try :\n",
    "            r_ling = rq.get('https://www.jw.org/ln/Biblioteke/biblia/bi12/mikanda/'\\\n",
    "                         +str(dictionary[book][0])+'/'+str(chap)+'/')\n",
    "\n",
    "            html_ling = r_ling.content\n",
    "            soup_ling = BeautifulSoup(html_ling, 'html.parser')         \n",
    "            s_ling = soup_ling.find_all(\"div\", {\"class\": \"textSizeIncrement\"})\n",
    "            \n",
    "            \n",
    "            with open(\"./data/all_lingala/B\"+str(book_order).zfill(2)+\"___\"+str(chap).zfill(2)+\"_2Thess______ENGESVN1DA_verse_0.txt\", \"w\") as text_file: # a+\n",
    "                # .strip() to delect any leading and trailing whitespace\n",
    "                text_file.write(Bible_dict[book][0]+\" \"+str(chap)+\"\\n\") \n",
    "\n",
    "            \n",
    "            i = 0\n",
    "            \n",
    "            for verse_line in s_ling[0].text.split('\\n'):\n",
    "#                 ipdb.set_trace()\n",
    "                if verse_line != '':\n",
    "                    verse = verse_line.strip().split()[0]\n",
    "                    if verse.isdigit():\n",
    "                        verse_store = verse\n",
    "                        with open(\"./data/all_lingala/B\"+str(book_order).zfill(2)+\"___\"+str(chap).zfill(2)+\"_2Thess______ENGESVN1DA_verse_\"+str(verse)+\".txt\", \"w\") as text_file: # a+\n",
    "                            text = re.sub(r\"[+]\", ' ', verse_line) \n",
    "                            # .strip() to delect any leading and trailing whitespace\n",
    "                            text_file.write(text[2:].strip()+\"\\n\") \n",
    "                        \n",
    "                    else:\n",
    "                        with open(\"./data/all_lingala/B\"+str(book_order).zfill(2)+\"___\"+str(chap).zfill(2)+\"_2Thess______ENGESVN1DA_verse_\"+str(verse_store)+\".txt\", \"a\") as text_file: # a+\n",
    "                            text = re.sub(r\"[+]\", ' ', verse_line) \n",
    "                            # .strip() to delect any leading and trailing whitespace\n",
    "                            text_file.write(text.strip()+\"\\n\")\n",
    "\n",
    "#             ipdb.set_trace()\n",
    "        except Exception as inst:      \n",
    "            traceback.print_exc()\n",
    "        "
   ]
  },
  {
   "cell_type": "code",
   "execution_count": 228,
   "metadata": {},
   "outputs": [
    {
     "data": {
      "text/plain": [
       "'2-thessalonians'"
      ]
     },
     "execution_count": 228,
     "metadata": {},
     "output_type": "execute_result"
    }
   ],
   "source": [
    "new_testament[number]"
   ]
  },
  {
   "cell_type": "code",
   "execution_count": 229,
   "metadata": {},
   "outputs": [
    {
     "name": "stdout",
     "output_type": "stream",
     "text": [
      "Loading chapter 1 ...\n",
      "Loading chapter 2 ...\n",
      "Loading chapter 3 ...\n"
     ]
    }
   ],
   "source": [
    "load_book_chapter(Bible_dict, new_testament[number], new_testament.index(new_testament[number])+1)"
   ]
  },
  {
   "cell_type": "markdown",
   "metadata": {},
   "source": [
    "## 1Timothy, 2Timothy"
   ]
  },
  {
   "cell_type": "code",
   "execution_count": 119,
   "metadata": {},
   "outputs": [],
   "source": [
    "# B15___01_1Timothy____EN1WEBN2DA"
   ]
  },
  {
   "cell_type": "code",
   "execution_count": 231,
   "metadata": {},
   "outputs": [
    {
     "data": {
      "text/plain": [
       "'1-timothy'"
      ]
     },
     "execution_count": 231,
     "metadata": {},
     "output_type": "execute_result"
    }
   ],
   "source": [
    "number = 14\n",
    "new_testament[number]"
   ]
  },
  {
   "cell_type": "code",
   "execution_count": 232,
   "metadata": {},
   "outputs": [],
   "source": [
    "def load_book_chapter(dictionary, book, book_order):\n",
    "    \"\"\"\n",
    "    This function will help to save in text form, depening to the book and verse argument \n",
    "    given in parameter\n",
    "    \n",
    "    The data is maintly taken from the website https://www.jw.org/\n",
    "    \"\"\"\n",
    "        \n",
    "    for chap in range(1, dictionary[book][1]+1):\n",
    "        print(f\"Loading chapter {chap} ...\")\n",
    "        try :\n",
    "            r_ling = rq.get('https://www.jw.org/ln/Biblioteke/biblia/bi12/mikanda/'\\\n",
    "                         +str(dictionary[book][0])+'/'+str(chap)+'/')\n",
    "\n",
    "            html_ling = r_ling.content\n",
    "            soup_ling = BeautifulSoup(html_ling, 'html.parser')         \n",
    "            s_ling = soup_ling.find_all(\"div\", {\"class\": \"textSizeIncrement\"})\n",
    "            \n",
    "            \n",
    "            with open(\"./data/all_lingala/B\"+str(book_order).zfill(2)+\"___\"+str(chap).zfill(2)+\"_1Timothy____ENGESVN1DA_verse_0.txt\", \"w\") as text_file: # a+\n",
    "                # .strip() to delect any leading and trailing whitespace\n",
    "                text_file.write(Bible_dict[book][0]+\" \"+str(chap)+\"\\n\") \n",
    "\n",
    "            \n",
    "            i = 0\n",
    "            \n",
    "            for verse_line in s_ling[0].text.split('\\n'):\n",
    "#                 ipdb.set_trace()\n",
    "                if verse_line != '':\n",
    "                    verse = verse_line.strip().split()[0]\n",
    "                    if verse.isdigit():\n",
    "                        verse_store = verse\n",
    "                        with open(\"./data/all_lingala/B\"+str(book_order).zfill(2)+\"___\"+str(chap).zfill(2)+\"_1Timothy____ENGESVN1DA_verse_\"+str(verse)+\".txt\", \"w\") as text_file: # a+\n",
    "                            text = re.sub(r\"[+]\", ' ', verse_line) \n",
    "                            # .strip() to delect any leading and trailing whitespace\n",
    "                            text_file.write(text[2:].strip()+\"\\n\") \n",
    "                        \n",
    "                    else:\n",
    "                        with open(\"./data/all_lingala/B\"+str(book_order).zfill(2)+\"___\"+str(chap).zfill(2)+\"_1Timothy____ENGESVN1DA_verse_\"+str(verse_store)+\".txt\", \"a\") as text_file: # a+\n",
    "                            text = re.sub(r\"[+]\", ' ', verse_line) \n",
    "                            # .strip() to delect any leading and trailing whitespace\n",
    "                            text_file.write(text.strip()+\"\\n\")\n",
    "\n",
    "#             ipdb.set_trace()\n",
    "        except Exception as inst:      \n",
    "            traceback.print_exc()\n",
    "        "
   ]
  },
  {
   "cell_type": "code",
   "execution_count": 233,
   "metadata": {},
   "outputs": [
    {
     "data": {
      "text/plain": [
       "'1-timothy'"
      ]
     },
     "execution_count": 233,
     "metadata": {},
     "output_type": "execute_result"
    }
   ],
   "source": [
    "new_testament[number]"
   ]
  },
  {
   "cell_type": "code",
   "execution_count": 234,
   "metadata": {},
   "outputs": [
    {
     "name": "stdout",
     "output_type": "stream",
     "text": [
      "Loading chapter 1 ...\n",
      "Loading chapter 2 ...\n",
      "Loading chapter 3 ...\n",
      "Loading chapter 4 ...\n",
      "Loading chapter 5 ...\n",
      "Loading chapter 6 ...\n"
     ]
    }
   ],
   "source": [
    "load_book_chapter(Bible_dict, new_testament[number], new_testament.index(new_testament[number])+1)"
   ]
  },
  {
   "cell_type": "code",
   "execution_count": 235,
   "metadata": {},
   "outputs": [],
   "source": [
    "# B16___01_2Timothy____EN1WEBN2DA"
   ]
  },
  {
   "cell_type": "code",
   "execution_count": 236,
   "metadata": {},
   "outputs": [
    {
     "data": {
      "text/plain": [
       "'2-timothy'"
      ]
     },
     "execution_count": 236,
     "metadata": {},
     "output_type": "execute_result"
    }
   ],
   "source": [
    "number = 15\n",
    "new_testament[number]"
   ]
  },
  {
   "cell_type": "code",
   "execution_count": 237,
   "metadata": {},
   "outputs": [],
   "source": [
    "def load_book_chapter(dictionary, book, book_order):\n",
    "    \"\"\"\n",
    "    This function will help to save in text form, depening to the book and verse argument \n",
    "    given in parameter\n",
    "    \n",
    "    The data is maintly taken from the website https://www.jw.org/\n",
    "    \"\"\"\n",
    "        \n",
    "    for chap in range(1, dictionary[book][1]+1):\n",
    "        print(f\"Loading chapter {chap} ...\")\n",
    "        try :\n",
    "            r_ling = rq.get('https://www.jw.org/ln/Biblioteke/biblia/bi12/mikanda/'\\\n",
    "                         +str(dictionary[book][0])+'/'+str(chap)+'/')\n",
    "\n",
    "            html_ling = r_ling.content\n",
    "            soup_ling = BeautifulSoup(html_ling, 'html.parser')         \n",
    "            s_ling = soup_ling.find_all(\"div\", {\"class\": \"textSizeIncrement\"})\n",
    "            \n",
    "            \n",
    "            with open(\"./data/all_lingala/B\"+str(book_order).zfill(2)+\"___\"+str(chap).zfill(2)+\"_2Timothy____ENGESVN1DA_verse_0.txt\", \"w\") as text_file: # a+\n",
    "                # .strip() to delect any leading and trailing whitespace\n",
    "                text_file.write(Bible_dict[book][0]+\" \"+str(chap)+\"\\n\") \n",
    "\n",
    "            \n",
    "            i = 0\n",
    "            \n",
    "            for verse_line in s_ling[0].text.split('\\n'):\n",
    "#                 ipdb.set_trace()\n",
    "                if verse_line != '':\n",
    "                    verse = verse_line.strip().split()[0]\n",
    "                    if verse.isdigit():\n",
    "                        verse_store = verse\n",
    "                        with open(\"./data/all_lingala/B\"+str(book_order).zfill(2)+\"___\"+str(chap).zfill(2)+\"_2Timothy____ENGESVN1DA_verse_\"+str(verse)+\".txt\", \"w\") as text_file: # a+\n",
    "                            text = re.sub(r\"[+]\", ' ', verse_line) \n",
    "                            # .strip() to delect any leading and trailing whitespace\n",
    "                            text_file.write(text[2:].strip()+\"\\n\") \n",
    "                        \n",
    "                    else:\n",
    "                        with open(\"./data/all_lingala/B\"+str(book_order).zfill(2)+\"___\"+str(chap).zfill(2)+\"_2Timothy____ENGESVN1DA_verse_\"+str(verse_store)+\".txt\", \"a\") as text_file: # a+\n",
    "                            text = re.sub(r\"[+]\", ' ', verse_line) \n",
    "                            # .strip() to delect any leading and trailing whitespace\n",
    "                            text_file.write(text.strip()+\"\\n\")\n",
    "\n",
    "#             ipdb.set_trace()\n",
    "        except Exception as inst:      \n",
    "            traceback.print_exc()\n",
    "        "
   ]
  },
  {
   "cell_type": "code",
   "execution_count": 238,
   "metadata": {},
   "outputs": [
    {
     "data": {
      "text/plain": [
       "'2-timothy'"
      ]
     },
     "execution_count": 238,
     "metadata": {},
     "output_type": "execute_result"
    }
   ],
   "source": [
    "new_testament[number]"
   ]
  },
  {
   "cell_type": "code",
   "execution_count": 239,
   "metadata": {},
   "outputs": [
    {
     "name": "stdout",
     "output_type": "stream",
     "text": [
      "Loading chapter 1 ...\n",
      "Loading chapter 2 ...\n",
      "Loading chapter 3 ...\n",
      "Loading chapter 4 ...\n"
     ]
    }
   ],
   "source": [
    "load_book_chapter(Bible_dict, new_testament[number], new_testament.index(new_testament[number])+1)"
   ]
  },
  {
   "cell_type": "markdown",
   "metadata": {},
   "source": [
    "## Titus"
   ]
  },
  {
   "cell_type": "code",
   "execution_count": 235,
   "metadata": {},
   "outputs": [],
   "source": [
    "# B17___01_Titus_______EN1WEBN2DA"
   ]
  },
  {
   "cell_type": "code",
   "execution_count": 240,
   "metadata": {},
   "outputs": [
    {
     "data": {
      "text/plain": [
       "'titus'"
      ]
     },
     "execution_count": 240,
     "metadata": {},
     "output_type": "execute_result"
    }
   ],
   "source": [
    "number = 16\n",
    "new_testament[number]"
   ]
  },
  {
   "cell_type": "code",
   "execution_count": 241,
   "metadata": {},
   "outputs": [],
   "source": [
    "def load_book_chapter(dictionary, book, book_order):\n",
    "    \"\"\"\n",
    "    This function will help to save in text form, depening to the book and verse argument \n",
    "    given in parameter\n",
    "    \n",
    "    The data is maintly taken from the website https://www.jw.org/\n",
    "    \"\"\"\n",
    "        \n",
    "    for chap in range(1, dictionary[book][1]+1):\n",
    "        print(f\"Loading chapter {chap} ...\")\n",
    "        try :\n",
    "            r_ling = rq.get('https://www.jw.org/ln/Biblioteke/biblia/bi12/mikanda/'\\\n",
    "                         +str(dictionary[book][0])+'/'+str(chap)+'/')\n",
    "\n",
    "            html_ling = r_ling.content\n",
    "            soup_ling = BeautifulSoup(html_ling, 'html.parser')         \n",
    "            s_ling = soup_ling.find_all(\"div\", {\"class\": \"textSizeIncrement\"})\n",
    "            \n",
    "            \n",
    "            with open(\"./data/all_lingala/B\"+str(book_order).zfill(2)+\"___\"+str(chap).zfill(2)+\"_Titus_______ENGESVN1DA_verse_0.txt\", \"w\") as text_file: # a+\n",
    "                # .strip() to delect any leading and trailing whitespace\n",
    "                text_file.write(Bible_dict[book][0]+\" \"+str(chap)+\"\\n\") \n",
    "\n",
    "            \n",
    "            i = 0\n",
    "            \n",
    "            for verse_line in s_ling[0].text.split('\\n'):\n",
    "#                 ipdb.set_trace()\n",
    "                if verse_line != '':\n",
    "                    verse = verse_line.strip().split()[0]\n",
    "                    if verse.isdigit():\n",
    "                        verse_store = verse\n",
    "                        with open(\"./data/all_lingala/B\"+str(book_order).zfill(2)+\"___\"+str(chap).zfill(2)+\"_Titus_______ENGESVN1DA_verse_\"+str(verse)+\".txt\", \"w\") as text_file: # a+\n",
    "                            text = re.sub(r\"[+]\", ' ', verse_line) \n",
    "                            # .strip() to delect any leading and trailing whitespace\n",
    "                            text_file.write(text[2:].strip()+\"\\n\") \n",
    "                        \n",
    "                    else:\n",
    "                        with open(\"./data/all_lingala/B\"+str(book_order).zfill(2)+\"___\"+str(chap).zfill(2)+\"_Titus_______ENGESVN1DA_verse_\"+str(verse_store)+\".txt\", \"a\") as text_file: # a+\n",
    "                            text = re.sub(r\"[+]\", ' ', verse_line) \n",
    "                            # .strip() to delect any leading and trailing whitespace\n",
    "                            text_file.write(text.strip()+\"\\n\")\n",
    "\n",
    "#             ipdb.set_trace()\n",
    "        except Exception as inst:      \n",
    "            traceback.print_exc()\n",
    "        "
   ]
  },
  {
   "cell_type": "code",
   "execution_count": 242,
   "metadata": {},
   "outputs": [
    {
     "data": {
      "text/plain": [
       "'titus'"
      ]
     },
     "execution_count": 242,
     "metadata": {},
     "output_type": "execute_result"
    }
   ],
   "source": [
    "new_testament[number]"
   ]
  },
  {
   "cell_type": "code",
   "execution_count": 243,
   "metadata": {},
   "outputs": [
    {
     "name": "stdout",
     "output_type": "stream",
     "text": [
      "Loading chapter 1 ...\n",
      "Loading chapter 2 ...\n",
      "Loading chapter 3 ...\n"
     ]
    }
   ],
   "source": [
    "load_book_chapter(Bible_dict, new_testament[number], new_testament.index(new_testament[number])+1)"
   ]
  },
  {
   "cell_type": "markdown",
   "metadata": {},
   "source": [
    "## Philemon, "
   ]
  },
  {
   "cell_type": "code",
   "execution_count": 245,
   "metadata": {},
   "outputs": [],
   "source": [
    "# B18___01_Philemon____EN1WEBN2DA"
   ]
  },
  {
   "cell_type": "code",
   "execution_count": 261,
   "metadata": {},
   "outputs": [
    {
     "data": {
      "text/plain": [
       "'philemon'"
      ]
     },
     "execution_count": 261,
     "metadata": {},
     "output_type": "execute_result"
    }
   ],
   "source": [
    "number = 17\n",
    "new_testament[number]"
   ]
  },
  {
   "cell_type": "code",
   "execution_count": 262,
   "metadata": {},
   "outputs": [],
   "source": [
    "def load_book_chapter(dictionary, book, book_order):\n",
    "    \"\"\"\n",
    "    This function will help to save in text form, depening to the book and verse argument \n",
    "    given in parameter\n",
    "    \n",
    "    The data is maintly taken from the website https://www.jw.org/\n",
    "    \"\"\"\n",
    "        \n",
    "    for chap in range(1, dictionary[book][1]+1):\n",
    "        print(f\"Loading chapter {chap} ...\")\n",
    "        try :\n",
    "            r_ling = rq.get('https://www.jw.org/ln/Biblioteke/biblia/bi12/mikanda/'\\\n",
    "                         +str(dictionary[book][0])+'/'+str(chap)+'/')\n",
    "\n",
    "            html_ling = r_ling.content\n",
    "            soup_ling = BeautifulSoup(html_ling, 'html.parser')         \n",
    "            s_ling = soup_ling.find_all(\"div\", {\"class\": \"textSizeIncrement\"})\n",
    "            \n",
    "            \n",
    "            with open(\"./data/all_lingala/B\"+str(book_order).zfill(2)+\"___\"+str(chap).zfill(2)+\"_Philemon____ENGESVN1DA_verse_0.txt\", \"w\") as text_file: # a+\n",
    "                # .strip() to delect any leading and trailing whitespace\n",
    "                text_file.write(Bible_dict[book][0]+\" \"+str(chap)+\"\\n\") \n",
    "\n",
    "            \n",
    "            i = 0\n",
    "            \n",
    "            for verse_line in s_ling[0].text.split('\\n'):\n",
    "#                 ipdb.set_trace()\n",
    "                if verse_line != '':\n",
    "                    verse = verse_line.strip().split()[0]\n",
    "                    if verse.isdigit():\n",
    "                        verse_store = verse\n",
    "                        with open(\"./data/all_lingala/B\"+str(book_order).zfill(2)+\"___\"+str(chap).zfill(2)+\"_Philemon____ENGESVN1DA_verse_\"+str(verse)+\".txt\", \"w\") as text_file: # a+\n",
    "                            text = re.sub(r\"[+]\", ' ', verse_line) \n",
    "                            # .strip() to delect any leading and trailing whitespace\n",
    "                            text_file.write(text[2:].strip()+\"\\n\") \n",
    "                        \n",
    "                    else:\n",
    "                        with open(\"./data/all_lingala/B\"+str(book_order).zfill(2)+\"___\"+str(chap).zfill(2)+\"_Philemon____ENGESVN1DA_verse_\"+str(verse_store)+\".txt\", \"a\") as text_file: # a+\n",
    "                            text = re.sub(r\"[+]\", ' ', verse_line) \n",
    "                            # .strip() to delect any leading and trailing whitespace\n",
    "                            text_file.write(text.strip()+\"\\n\")\n",
    "\n",
    "#             ipdb.set_trace()\n",
    "        except Exception as inst:      \n",
    "            traceback.print_exc()\n",
    "        "
   ]
  },
  {
   "cell_type": "code",
   "execution_count": 263,
   "metadata": {},
   "outputs": [
    {
     "data": {
      "text/plain": [
       "'philemon'"
      ]
     },
     "execution_count": 263,
     "metadata": {},
     "output_type": "execute_result"
    }
   ],
   "source": [
    "new_testament[number]"
   ]
  },
  {
   "cell_type": "code",
   "execution_count": 249,
   "metadata": {},
   "outputs": [
    {
     "name": "stdout",
     "output_type": "stream",
     "text": [
      "Loading chapter 1 ...\n"
     ]
    }
   ],
   "source": [
    "load_book_chapter(Bible_dict, new_testament[number], new_testament.index(new_testament[number])+1)"
   ]
  },
  {
   "cell_type": "markdown",
   "metadata": {},
   "source": [
    "## Hebrews"
   ]
  },
  {
   "cell_type": "code",
   "execution_count": 264,
   "metadata": {},
   "outputs": [],
   "source": [
    "# B19___01_Hebrews_____EN1WEBN2DA"
   ]
  },
  {
   "cell_type": "code",
   "execution_count": 265,
   "metadata": {},
   "outputs": [
    {
     "data": {
      "text/plain": [
       "'hebrews'"
      ]
     },
     "execution_count": 265,
     "metadata": {},
     "output_type": "execute_result"
    }
   ],
   "source": [
    "number = 18\n",
    "new_testament[number]"
   ]
  },
  {
   "cell_type": "code",
   "execution_count": 266,
   "metadata": {},
   "outputs": [],
   "source": [
    "def load_book_chapter(dictionary, book, book_order):\n",
    "    \"\"\"\n",
    "    This function will help to save in text form, depening to the book and verse argument \n",
    "    given in parameter\n",
    "    \n",
    "    The data is maintly taken from the website https://www.jw.org/\n",
    "    \"\"\"\n",
    "        \n",
    "    for chap in range(1, dictionary[book][1]+1):\n",
    "        print(f\"Loading chapter {chap} ...\")\n",
    "        try :\n",
    "            r_ling = rq.get('https://www.jw.org/ln/Biblioteke/biblia/bi12/mikanda/'\\\n",
    "                         +str(dictionary[book][0])+'/'+str(chap)+'/')\n",
    "\n",
    "            html_ling = r_ling.content\n",
    "            soup_ling = BeautifulSoup(html_ling, 'html.parser')         \n",
    "            s_ling = soup_ling.find_all(\"div\", {\"class\": \"textSizeIncrement\"})\n",
    "            \n",
    "            \n",
    "            with open(\"./data/all_lingala/B\"+str(book_order).zfill(2)+\"___\"+str(chap).zfill(2)+\"_Hebrews_____ENGESVN1DA_verse_0.txt\", \"w\") as text_file: # a+\n",
    "                # .strip() to delect any leading and trailing whitespace\n",
    "                text_file.write(Bible_dict[book][0]+\" \"+str(chap)+\"\\n\") \n",
    "\n",
    "            \n",
    "            i = 0\n",
    "            \n",
    "            for verse_line in s_ling[0].text.split('\\n'):\n",
    "#                 ipdb.set_trace()\n",
    "                if verse_line != '':\n",
    "                    verse = verse_line.strip().split()[0]\n",
    "                    if verse.isdigit():\n",
    "                        verse_store = verse\n",
    "                        with open(\"./data/all_lingala/B\"+str(book_order).zfill(2)+\"___\"+str(chap).zfill(2)+\"_Hebrews_____ENGESVN1DA_verse_\"+str(verse)+\".txt\", \"w\") as text_file: # a+\n",
    "                            text = re.sub(r\"[+]\", ' ', verse_line) \n",
    "                            # .strip() to delect any leading and trailing whitespace\n",
    "                            text_file.write(text[2:].strip()+\"\\n\") \n",
    "                        \n",
    "                    else:\n",
    "                        with open(\"./data/all_lingala/B\"+str(book_order).zfill(2)+\"___\"+str(chap).zfill(2)+\"_Hebrews_____ENGESVN1DA_verse_\"+str(verse_store)+\".txt\", \"a\") as text_file: # a+\n",
    "                            text = re.sub(r\"[+]\", ' ', verse_line) \n",
    "                            # .strip() to delect any leading and trailing whitespace\n",
    "                            text_file.write(text.strip()+\"\\n\")\n",
    "\n",
    "#             ipdb.set_trace()\n",
    "        except Exception as inst:      \n",
    "            traceback.print_exc()\n",
    "        "
   ]
  },
  {
   "cell_type": "code",
   "execution_count": 267,
   "metadata": {},
   "outputs": [
    {
     "data": {
      "text/plain": [
       "'hebrews'"
      ]
     },
     "execution_count": 267,
     "metadata": {},
     "output_type": "execute_result"
    }
   ],
   "source": [
    "new_testament[number]"
   ]
  },
  {
   "cell_type": "code",
   "execution_count": 268,
   "metadata": {},
   "outputs": [
    {
     "name": "stdout",
     "output_type": "stream",
     "text": [
      "Loading chapter 1 ...\n",
      "Loading chapter 2 ...\n",
      "Loading chapter 3 ...\n",
      "Loading chapter 4 ...\n",
      "Loading chapter 5 ...\n",
      "Loading chapter 6 ...\n",
      "Loading chapter 7 ...\n",
      "Loading chapter 8 ...\n",
      "Loading chapter 9 ...\n",
      "Loading chapter 10 ...\n",
      "Loading chapter 11 ...\n",
      "Loading chapter 12 ...\n",
      "Loading chapter 13 ...\n"
     ]
    }
   ],
   "source": [
    "load_book_chapter(Bible_dict, new_testament[number], new_testament.index(new_testament[number])+1)"
   ]
  },
  {
   "cell_type": "markdown",
   "metadata": {},
   "source": [
    "## James"
   ]
  },
  {
   "cell_type": "code",
   "execution_count": 269,
   "metadata": {},
   "outputs": [],
   "source": [
    "# B20___01_James_______EN1WEBN2DA"
   ]
  },
  {
   "cell_type": "code",
   "execution_count": 277,
   "metadata": {},
   "outputs": [
    {
     "data": {
      "text/plain": [
       "'james'"
      ]
     },
     "execution_count": 277,
     "metadata": {},
     "output_type": "execute_result"
    }
   ],
   "source": [
    "number = 19\n",
    "new_testament[number]"
   ]
  },
  {
   "cell_type": "code",
   "execution_count": 272,
   "metadata": {},
   "outputs": [],
   "source": [
    "def load_book_chapter(dictionary, book, book_order):\n",
    "    \"\"\"\n",
    "    This function will help to save in text form, depening to the book and verse argument \n",
    "    given in parameter\n",
    "    \n",
    "    The data is maintly taken from the website https://www.jw.org/\n",
    "    \"\"\"\n",
    "        \n",
    "    for chap in range(1, dictionary[book][1]+1):\n",
    "        print(f\"Loading chapter {chap} ...\")\n",
    "        try :\n",
    "            r_ling = rq.get('https://www.jw.org/ln/Biblioteke/biblia/bi12/mikanda/'\\\n",
    "                         +str(dictionary[book][0])+'/'+str(chap)+'/')\n",
    "\n",
    "            html_ling = r_ling.content\n",
    "            soup_ling = BeautifulSoup(html_ling, 'html.parser')         \n",
    "            s_ling = soup_ling.find_all(\"div\", {\"class\": \"textSizeIncrement\"})\n",
    "            \n",
    "            \n",
    "            with open(\"./data/all_lingala/B\"+str(book_order).zfill(2)+\"___\"+str(chap).zfill(2)+\"_James_______ENGESVN1DA_verse_0.txt\", \"w\") as text_file: # a+\n",
    "                # .strip() to delect any leading and trailing whitespace\n",
    "                text_file.write(Bible_dict[book][0]+\" \"+str(chap)+\"\\n\") \n",
    "\n",
    "            \n",
    "            i = 0\n",
    "            \n",
    "            for verse_line in s_ling[0].text.split('\\n'):\n",
    "#                 ipdb.set_trace()\n",
    "                if verse_line != '':\n",
    "                    verse = verse_line.strip().split()[0]\n",
    "                    if verse.isdigit():\n",
    "                        verse_store = verse\n",
    "                        with open(\"./data/all_lingala/B\"+str(book_order).zfill(2)+\"___\"+str(chap).zfill(2)+\"_James_______ENGESVN1DA_verse_\"+str(verse)+\".txt\", \"w\") as text_file: # a+\n",
    "                            text = re.sub(r\"[+]\", ' ', verse_line) \n",
    "                            # .strip() to delect any leading and trailing whitespace\n",
    "                            text_file.write(text[2:].strip()+\"\\n\") \n",
    "                        \n",
    "                    else:\n",
    "                        with open(\"./data/all_lingala/B\"+str(book_order).zfill(2)+\"___\"+str(chap).zfill(2)+\"_James_______ENGESVN1DA_verse_\"+str(verse_store)+\".txt\", \"a\") as text_file: # a+\n",
    "                            text = re.sub(r\"[+]\", ' ', verse_line) \n",
    "                            # .strip() to delect any leading and trailing whitespace\n",
    "                            text_file.write(text.strip()+\"\\n\")\n",
    "\n",
    "#             ipdb.set_trace()\n",
    "        except Exception as inst:      \n",
    "            traceback.print_exc()\n",
    "        "
   ]
  },
  {
   "cell_type": "code",
   "execution_count": 273,
   "metadata": {},
   "outputs": [
    {
     "data": {
      "text/plain": [
       "'james'"
      ]
     },
     "execution_count": 273,
     "metadata": {},
     "output_type": "execute_result"
    }
   ],
   "source": [
    "new_testament[number]"
   ]
  },
  {
   "cell_type": "code",
   "execution_count": 274,
   "metadata": {},
   "outputs": [
    {
     "name": "stdout",
     "output_type": "stream",
     "text": [
      "Loading chapter 1 ...\n",
      "Loading chapter 2 ...\n",
      "Loading chapter 3 ...\n",
      "Loading chapter 4 ...\n",
      "Loading chapter 5 ...\n"
     ]
    }
   ],
   "source": [
    "load_book_chapter(Bible_dict, new_testament[number], new_testament.index(new_testament[number])+1)"
   ]
  },
  {
   "cell_type": "markdown",
   "metadata": {},
   "source": [
    "## 1Peter, 2Peter"
   ]
  },
  {
   "cell_type": "code",
   "execution_count": 278,
   "metadata": {},
   "outputs": [],
   "source": [
    "# B21___01_1Peter______EN1WEBN2DA"
   ]
  },
  {
   "cell_type": "code",
   "execution_count": 279,
   "metadata": {},
   "outputs": [
    {
     "data": {
      "text/plain": [
       "'1-peter'"
      ]
     },
     "execution_count": 279,
     "metadata": {},
     "output_type": "execute_result"
    }
   ],
   "source": [
    "number = 20\n",
    "new_testament[number]"
   ]
  },
  {
   "cell_type": "code",
   "execution_count": 280,
   "metadata": {},
   "outputs": [],
   "source": [
    "def load_book_chapter(dictionary, book, book_order):\n",
    "    \"\"\"\n",
    "    This function will help to save in text form, depening to the book and verse argument \n",
    "    given in parameter\n",
    "    \n",
    "    The data is maintly taken from the website https://www.jw.org/\n",
    "    \"\"\"\n",
    "        \n",
    "    for chap in range(1, dictionary[book][1]+1):\n",
    "        print(f\"Loading chapter {chap} ...\")\n",
    "        try :\n",
    "            r_ling = rq.get('https://www.jw.org/ln/Biblioteke/biblia/bi12/mikanda/'\\\n",
    "                         +str(dictionary[book][0])+'/'+str(chap)+'/')\n",
    "\n",
    "            html_ling = r_ling.content\n",
    "            soup_ling = BeautifulSoup(html_ling, 'html.parser')         \n",
    "            s_ling = soup_ling.find_all(\"div\", {\"class\": \"textSizeIncrement\"})\n",
    "            \n",
    "            \n",
    "            with open(\"./data/all_lingala/B\"+str(book_order).zfill(2)+\"___\"+str(chap).zfill(2)+\"_1Peter______ENGESVN1DA_verse_0.txt\", \"w\") as text_file: # a+\n",
    "                # .strip() to delect any leading and trailing whitespace\n",
    "                text_file.write(Bible_dict[book][0]+\" \"+str(chap)+\"\\n\") \n",
    "\n",
    "            \n",
    "            i = 0\n",
    "            \n",
    "            for verse_line in s_ling[0].text.split('\\n'):\n",
    "#                 ipdb.set_trace()\n",
    "                if verse_line != '':\n",
    "                    verse = verse_line.strip().split()[0]\n",
    "                    if verse.isdigit():\n",
    "                        verse_store = verse\n",
    "                        with open(\"./data/all_lingala/B\"+str(book_order).zfill(2)+\"___\"+str(chap).zfill(2)+\"_1Peter______ENGESVN1DA_verse_\"+str(verse)+\".txt\", \"w\") as text_file: # a+\n",
    "                            text = re.sub(r\"[+]\", ' ', verse_line) \n",
    "                            # .strip() to delect any leading and trailing whitespace\n",
    "                            text_file.write(text[2:].strip()+\"\\n\") \n",
    "                        \n",
    "                    else:\n",
    "                        with open(\"./data/all_lingala/B\"+str(book_order).zfill(2)+\"___\"+str(chap).zfill(2)+\"_1Peter______ENGESVN1DA_verse_\"+str(verse_store)+\".txt\", \"a\") as text_file: # a+\n",
    "                            text = re.sub(r\"[+]\", ' ', verse_line) \n",
    "                            # .strip() to delect any leading and trailing whitespace\n",
    "                            text_file.write(text.strip()+\"\\n\")\n",
    "\n",
    "#             ipdb.set_trace()\n",
    "        except Exception as inst:      \n",
    "            traceback.print_exc()\n",
    "        "
   ]
  },
  {
   "cell_type": "code",
   "execution_count": 281,
   "metadata": {},
   "outputs": [
    {
     "data": {
      "text/plain": [
       "'1-peter'"
      ]
     },
     "execution_count": 281,
     "metadata": {},
     "output_type": "execute_result"
    }
   ],
   "source": [
    "new_testament[number]"
   ]
  },
  {
   "cell_type": "code",
   "execution_count": 282,
   "metadata": {},
   "outputs": [
    {
     "name": "stdout",
     "output_type": "stream",
     "text": [
      "Loading chapter 1 ...\n",
      "Loading chapter 2 ...\n",
      "Loading chapter 3 ...\n",
      "Loading chapter 4 ...\n",
      "Loading chapter 5 ...\n"
     ]
    }
   ],
   "source": [
    "load_book_chapter(Bible_dict, new_testament[number], new_testament.index(new_testament[number])+1)"
   ]
  },
  {
   "cell_type": "code",
   "execution_count": 286,
   "metadata": {},
   "outputs": [],
   "source": [
    "# B22___01_2Peter______EN1WEBN2DA"
   ]
  },
  {
   "cell_type": "code",
   "execution_count": 287,
   "metadata": {},
   "outputs": [
    {
     "data": {
      "text/plain": [
       "'2-peter'"
      ]
     },
     "execution_count": 287,
     "metadata": {},
     "output_type": "execute_result"
    }
   ],
   "source": [
    "number = 21\n",
    "new_testament[number]"
   ]
  },
  {
   "cell_type": "code",
   "execution_count": 288,
   "metadata": {},
   "outputs": [],
   "source": [
    "def load_book_chapter(dictionary, book, book_order):\n",
    "    \"\"\"\n",
    "    This function will help to save in text form, depening to the book and verse argument \n",
    "    given in parameter\n",
    "    \n",
    "    The data is maintly taken from the website https://www.jw.org/\n",
    "    \"\"\"\n",
    "        \n",
    "    for chap in range(1, dictionary[book][1]+1):\n",
    "        print(f\"Loading chapter {chap} ...\")\n",
    "        try :\n",
    "            r_ling = rq.get('https://www.jw.org/ln/Biblioteke/biblia/bi12/mikanda/'\\\n",
    "                         +str(dictionary[book][0])+'/'+str(chap)+'/')\n",
    "\n",
    "            html_ling = r_ling.content\n",
    "            soup_ling = BeautifulSoup(html_ling, 'html.parser')         \n",
    "            s_ling = soup_ling.find_all(\"div\", {\"class\": \"textSizeIncrement\"})\n",
    "            \n",
    "            \n",
    "            with open(\"./data/all_lingala/B\"+str(book_order).zfill(2)+\"___\"+str(chap).zfill(2)+\"_2Peter______ENGESVN1DA_verse_0.txt\", \"w\") as text_file: # a+\n",
    "                # .strip() to delect any leading and trailing whitespace\n",
    "                text_file.write(Bible_dict[book][0]+\" \"+str(chap)+\"\\n\") \n",
    "\n",
    "            \n",
    "            i = 0\n",
    "            \n",
    "            for verse_line in s_ling[0].text.split('\\n'):\n",
    "#                 ipdb.set_trace()\n",
    "                if verse_line != '':\n",
    "                    verse = verse_line.strip().split()[0]\n",
    "                    if verse.isdigit():\n",
    "                        verse_store = verse\n",
    "                        with open(\"./data/all_lingala/B\"+str(book_order).zfill(2)+\"___\"+str(chap).zfill(2)+\"_2Peter______ENGESVN1DA_verse_\"+str(verse)+\".txt\", \"w\") as text_file: # a+\n",
    "                            text = re.sub(r\"[+]\", ' ', verse_line) \n",
    "                            # .strip() to delect any leading and trailing whitespace\n",
    "                            text_file.write(text[2:].strip()+\"\\n\") \n",
    "                        \n",
    "                    else:\n",
    "                        with open(\"./data/all_lingala/B\"+str(book_order).zfill(2)+\"___\"+str(chap).zfill(2)+\"_2Peter______ENGESVN1DA_verse_\"+str(verse_store)+\".txt\", \"a\") as text_file: # a+\n",
    "                            text = re.sub(r\"[+]\", ' ', verse_line) \n",
    "                            # .strip() to delect any leading and trailing whitespace\n",
    "                            text_file.write(text.strip()+\"\\n\")\n",
    "\n",
    "#             ipdb.set_trace()\n",
    "        except Exception as inst:      \n",
    "            traceback.print_exc()\n",
    "        "
   ]
  },
  {
   "cell_type": "code",
   "execution_count": 289,
   "metadata": {},
   "outputs": [
    {
     "data": {
      "text/plain": [
       "'2-peter'"
      ]
     },
     "execution_count": 289,
     "metadata": {},
     "output_type": "execute_result"
    }
   ],
   "source": [
    "new_testament[number]"
   ]
  },
  {
   "cell_type": "code",
   "execution_count": 290,
   "metadata": {},
   "outputs": [
    {
     "name": "stdout",
     "output_type": "stream",
     "text": [
      "Loading chapter 1 ...\n",
      "Loading chapter 2 ...\n",
      "Loading chapter 3 ...\n"
     ]
    }
   ],
   "source": [
    "load_book_chapter(Bible_dict, new_testament[number], new_testament.index(new_testament[number])+1)"
   ]
  },
  {
   "cell_type": "markdown",
   "metadata": {},
   "source": [
    "## 1John, 2John, 3John"
   ]
  },
  {
   "cell_type": "code",
   "execution_count": 295,
   "metadata": {},
   "outputs": [],
   "source": [
    "# B23___01_1John_______EN1WEBN2DA"
   ]
  },
  {
   "cell_type": "code",
   "execution_count": 296,
   "metadata": {},
   "outputs": [
    {
     "data": {
      "text/plain": [
       "'1-john'"
      ]
     },
     "execution_count": 296,
     "metadata": {},
     "output_type": "execute_result"
    }
   ],
   "source": [
    "number = 22\n",
    "new_testament[number]"
   ]
  },
  {
   "cell_type": "code",
   "execution_count": 297,
   "metadata": {},
   "outputs": [],
   "source": [
    "def load_book_chapter(dictionary, book, book_order):\n",
    "    \"\"\"\n",
    "    This function will help to save in text form, depening to the book and verse argument \n",
    "    given in parameter\n",
    "    \n",
    "    The data is maintly taken from the website https://www.jw.org/\n",
    "    \"\"\"\n",
    "        \n",
    "    for chap in range(1, dictionary[book][1]+1):\n",
    "        print(f\"Loading chapter {chap} ...\")\n",
    "        try :\n",
    "            r_ling = rq.get('https://www.jw.org/ln/Biblioteke/biblia/bi12/mikanda/'\\\n",
    "                         +str(dictionary[book][0])+'/'+str(chap)+'/')\n",
    "\n",
    "            html_ling = r_ling.content\n",
    "            soup_ling = BeautifulSoup(html_ling, 'html.parser')         \n",
    "            s_ling = soup_ling.find_all(\"div\", {\"class\": \"textSizeIncrement\"})\n",
    "            \n",
    "            \n",
    "            with open(\"./data/all_lingala/B\"+str(book_order).zfill(2)+\"___\"+str(chap).zfill(2)+\"_1John_______ENGESVN1DA_verse_0.txt\", \"w\") as text_file: # a+\n",
    "                # .strip() to delect any leading and trailing whitespace\n",
    "                text_file.write(Bible_dict[book][0]+\" \"+str(chap)+\"\\n\") \n",
    "\n",
    "            \n",
    "            i = 0\n",
    "            \n",
    "            for verse_line in s_ling[0].text.split('\\n'):\n",
    "#                 ipdb.set_trace()\n",
    "                if verse_line != '':\n",
    "                    verse = verse_line.strip().split()[0]\n",
    "                    if verse.isdigit():\n",
    "                        verse_store = verse\n",
    "                        with open(\"./data/all_lingala/B\"+str(book_order).zfill(2)+\"___\"+str(chap).zfill(2)+\"_1John_______ENGESVN1DA_verse_\"+str(verse)+\".txt\", \"w\") as text_file: # a+\n",
    "                            text = re.sub(r\"[+]\", ' ', verse_line) \n",
    "                            # .strip() to delect any leading and trailing whitespace\n",
    "                            text_file.write(text[2:].strip()+\"\\n\") \n",
    "                        \n",
    "                    else:\n",
    "                        with open(\"./data/all_lingala/B\"+str(book_order).zfill(2)+\"___\"+str(chap).zfill(2)+\"_1John_______ENGESVN1DA_verse_\"+str(verse_store)+\".txt\", \"a\") as text_file: # a+\n",
    "                            text = re.sub(r\"[+]\", ' ', verse_line) \n",
    "                            # .strip() to delect any leading and trailing whitespace\n",
    "                            text_file.write(text.strip()+\"\\n\")\n",
    "\n",
    "#             ipdb.set_trace()\n",
    "        except Exception as inst:      \n",
    "            traceback.print_exc()\n",
    "        "
   ]
  },
  {
   "cell_type": "code",
   "execution_count": 298,
   "metadata": {},
   "outputs": [
    {
     "data": {
      "text/plain": [
       "'1-john'"
      ]
     },
     "execution_count": 298,
     "metadata": {},
     "output_type": "execute_result"
    }
   ],
   "source": [
    "new_testament[number]"
   ]
  },
  {
   "cell_type": "code",
   "execution_count": 299,
   "metadata": {},
   "outputs": [
    {
     "name": "stdout",
     "output_type": "stream",
     "text": [
      "Loading chapter 1 ...\n",
      "Loading chapter 2 ...\n",
      "Loading chapter 3 ...\n",
      "Loading chapter 4 ...\n",
      "Loading chapter 5 ...\n"
     ]
    }
   ],
   "source": [
    "load_book_chapter(Bible_dict, new_testament[number], new_testament.index(new_testament[number])+1)"
   ]
  },
  {
   "cell_type": "code",
   "execution_count": 302,
   "metadata": {},
   "outputs": [],
   "source": [
    "# B24___01_2John_______EN1WEBN2DA"
   ]
  },
  {
   "cell_type": "code",
   "execution_count": 303,
   "metadata": {},
   "outputs": [
    {
     "data": {
      "text/plain": [
       "'2-john'"
      ]
     },
     "execution_count": 303,
     "metadata": {},
     "output_type": "execute_result"
    }
   ],
   "source": [
    "number = 23\n",
    "new_testament[number]"
   ]
  },
  {
   "cell_type": "code",
   "execution_count": 304,
   "metadata": {},
   "outputs": [],
   "source": [
    "def load_book_chapter(dictionary, book, book_order):\n",
    "    \"\"\"\n",
    "    This function will help to save in text form, depening to the book and verse argument \n",
    "    given in parameter\n",
    "    \n",
    "    The data is maintly taken from the website https://www.jw.org/\n",
    "    \"\"\"\n",
    "        \n",
    "    for chap in range(1, dictionary[book][1]+1):\n",
    "        print(f\"Loading chapter {chap} ...\")\n",
    "        try :\n",
    "            r_ling = rq.get('https://www.jw.org/ln/Biblioteke/biblia/bi12/mikanda/'\\\n",
    "                         +str(dictionary[book][0])+'/'+str(chap)+'/')\n",
    "\n",
    "            html_ling = r_ling.content\n",
    "            soup_ling = BeautifulSoup(html_ling, 'html.parser')         \n",
    "            s_ling = soup_ling.find_all(\"div\", {\"class\": \"textSizeIncrement\"})\n",
    "            \n",
    "            \n",
    "            with open(\"./data/all_lingala/B\"+str(book_order).zfill(2)+\"___\"+str(chap).zfill(2)+\"_2John_______ENGESVN1DA_verse_0.txt\", \"w\") as text_file: # a+\n",
    "                # .strip() to delect any leading and trailing whitespace\n",
    "                text_file.write(Bible_dict[book][0]+\" \"+str(chap)+\"\\n\") \n",
    "\n",
    "            \n",
    "            i = 0\n",
    "            \n",
    "            for verse_line in s_ling[0].text.split('\\n'):\n",
    "#                 ipdb.set_trace()\n",
    "                if verse_line != '':\n",
    "                    verse = verse_line.strip().split()[0]\n",
    "                    if verse.isdigit():\n",
    "                        verse_store = verse\n",
    "                        with open(\"./data/all_lingala/B\"+str(book_order).zfill(2)+\"___\"+str(chap).zfill(2)+\"_2John_______ENGESVN1DA_verse_\"+str(verse)+\".txt\", \"w\") as text_file: # a+\n",
    "                            text = re.sub(r\"[+]\", ' ', verse_line) \n",
    "                            # .strip() to delect any leading and trailing whitespace\n",
    "                            text_file.write(text[2:].strip()+\"\\n\") \n",
    "                        \n",
    "                    else:\n",
    "                        with open(\"./data/all_lingala/B\"+str(book_order).zfill(2)+\"___\"+str(chap).zfill(2)+\"_2John_______ENGESVN1DA_verse_\"+str(verse_store)+\".txt\", \"a\") as text_file: # a+\n",
    "                            text = re.sub(r\"[+]\", ' ', verse_line) \n",
    "                            # .strip() to delect any leading and trailing whitespace\n",
    "                            text_file.write(text.strip()+\"\\n\")\n",
    "\n",
    "#             ipdb.set_trace()\n",
    "        except Exception as inst:      \n",
    "            traceback.print_exc()\n",
    "        "
   ]
  },
  {
   "cell_type": "code",
   "execution_count": 305,
   "metadata": {},
   "outputs": [
    {
     "data": {
      "text/plain": [
       "'2-john'"
      ]
     },
     "execution_count": 305,
     "metadata": {},
     "output_type": "execute_result"
    }
   ],
   "source": [
    "new_testament[number]"
   ]
  },
  {
   "cell_type": "code",
   "execution_count": 306,
   "metadata": {},
   "outputs": [
    {
     "name": "stdout",
     "output_type": "stream",
     "text": [
      "Loading chapter 1 ...\n"
     ]
    }
   ],
   "source": [
    "load_book_chapter(Bible_dict, new_testament[number], new_testament.index(new_testament[number])+1)"
   ]
  },
  {
   "cell_type": "code",
   "execution_count": 307,
   "metadata": {},
   "outputs": [],
   "source": [
    "# B23___01_3John_______EN1WEBN2DA"
   ]
  },
  {
   "cell_type": "code",
   "execution_count": 309,
   "metadata": {},
   "outputs": [
    {
     "data": {
      "text/plain": [
       "'3-john'"
      ]
     },
     "execution_count": 309,
     "metadata": {},
     "output_type": "execute_result"
    }
   ],
   "source": [
    "number = 24\n",
    "new_testament[number]"
   ]
  },
  {
   "cell_type": "code",
   "execution_count": 310,
   "metadata": {},
   "outputs": [],
   "source": [
    "def load_book_chapter(dictionary, book, book_order):\n",
    "    \"\"\"\n",
    "    This function will help to save in text form, depening to the book and verse argument \n",
    "    given in parameter\n",
    "    \n",
    "    The data is maintly taken from the website https://www.jw.org/\n",
    "    \"\"\"\n",
    "        \n",
    "    for chap in range(1, dictionary[book][1]+1):\n",
    "        print(f\"Loading chapter {chap} ...\")\n",
    "        try :\n",
    "            r_ling = rq.get('https://www.jw.org/ln/Biblioteke/biblia/bi12/mikanda/'\\\n",
    "                         +str(dictionary[book][0])+'/'+str(chap)+'/')\n",
    "\n",
    "            html_ling = r_ling.content\n",
    "            soup_ling = BeautifulSoup(html_ling, 'html.parser')         \n",
    "            s_ling = soup_ling.find_all(\"div\", {\"class\": \"textSizeIncrement\"})\n",
    "            \n",
    "            \n",
    "            with open(\"./data/all_lingala/B\"+str(book_order).zfill(2)+\"___\"+str(chap).zfill(2)+\"_3John_______ENGESVN1DA_verse_0.txt\", \"w\") as text_file: # a+\n",
    "                # .strip() to delect any leading and trailing whitespace\n",
    "                text_file.write(Bible_dict[book][0]+\" \"+str(chap)+\"\\n\") \n",
    "\n",
    "            \n",
    "            i = 0\n",
    "            \n",
    "            for verse_line in s_ling[0].text.split('\\n'):\n",
    "#                 ipdb.set_trace()\n",
    "                if verse_line != '':\n",
    "                    verse = verse_line.strip().split()[0]\n",
    "                    if verse.isdigit():\n",
    "                        verse_store = verse\n",
    "                        with open(\"./data/all_lingala/B\"+str(book_order).zfill(2)+\"___\"+str(chap).zfill(2)+\"_3John_______ENGESVN1DA_verse_\"+str(verse)+\".txt\", \"w\") as text_file: # a+\n",
    "                            text = re.sub(r\"[+]\", ' ', verse_line) \n",
    "                            # .strip() to delect any leading and trailing whitespace\n",
    "                            text_file.write(text[2:].strip()+\"\\n\") \n",
    "                        \n",
    "                    else:\n",
    "                        with open(\"./data/all_lingala/B\"+str(book_order).zfill(2)+\"___\"+str(chap).zfill(2)+\"_3John_______ENGESVN1DA_verse_\"+str(verse_store)+\".txt\", \"a\") as text_file: # a+\n",
    "                            text = re.sub(r\"[+]\", ' ', verse_line) \n",
    "                            # .strip() to delect any leading and trailing whitespace\n",
    "                            text_file.write(text.strip()+\"\\n\")\n",
    "\n",
    "#             ipdb.set_trace()\n",
    "        except Exception as inst:      \n",
    "            traceback.print_exc()\n",
    "        "
   ]
  },
  {
   "cell_type": "code",
   "execution_count": 311,
   "metadata": {},
   "outputs": [
    {
     "data": {
      "text/plain": [
       "'3-john'"
      ]
     },
     "execution_count": 311,
     "metadata": {},
     "output_type": "execute_result"
    }
   ],
   "source": [
    "new_testament[number]"
   ]
  },
  {
   "cell_type": "code",
   "execution_count": 312,
   "metadata": {},
   "outputs": [
    {
     "name": "stdout",
     "output_type": "stream",
     "text": [
      "Loading chapter 1 ...\n"
     ]
    }
   ],
   "source": [
    "load_book_chapter(Bible_dict, new_testament[number], new_testament.index(new_testament[number])+1)"
   ]
  },
  {
   "cell_type": "markdown",
   "metadata": {},
   "source": [
    "## Jude"
   ]
  },
  {
   "cell_type": "code",
   "execution_count": 316,
   "metadata": {},
   "outputs": [],
   "source": [
    "# B24___01_Jude________EN1WEBN2DA"
   ]
  },
  {
   "cell_type": "code",
   "execution_count": 317,
   "metadata": {},
   "outputs": [
    {
     "data": {
      "text/plain": [
       "'jude'"
      ]
     },
     "execution_count": 317,
     "metadata": {},
     "output_type": "execute_result"
    }
   ],
   "source": [
    "number = 25\n",
    "new_testament[number]"
   ]
  },
  {
   "cell_type": "code",
   "execution_count": 318,
   "metadata": {},
   "outputs": [],
   "source": [
    "def load_book_chapter(dictionary, book, book_order):\n",
    "    \"\"\"\n",
    "    This function will help to save in text form, depening to the book and verse argument \n",
    "    given in parameter\n",
    "    \n",
    "    The data is maintly taken from the website https://www.jw.org/\n",
    "    \"\"\"\n",
    "        \n",
    "    for chap in range(1, dictionary[book][1]+1):\n",
    "        print(f\"Loading chapter {chap} ...\")\n",
    "        try :\n",
    "            r_ling = rq.get('https://www.jw.org/ln/Biblioteke/biblia/bi12/mikanda/'\\\n",
    "                         +str(dictionary[book][0])+'/'+str(chap)+'/')\n",
    "\n",
    "            html_ling = r_ling.content\n",
    "            soup_ling = BeautifulSoup(html_ling, 'html.parser')         \n",
    "            s_ling = soup_ling.find_all(\"div\", {\"class\": \"textSizeIncrement\"})\n",
    "            \n",
    "            \n",
    "            with open(\"./data/all_lingala/B\"+str(book_order).zfill(2)+\"___\"+str(chap).zfill(2)+\"_Jude________ENGESVN1DA_verse_0.txt\", \"w\") as text_file: # a+\n",
    "                # .strip() to delect any leading and trailing whitespace\n",
    "                text_file.write(Bible_dict[book][0]+\" \"+str(chap)+\"\\n\") \n",
    "\n",
    "            \n",
    "            i = 0\n",
    "            \n",
    "            for verse_line in s_ling[0].text.split('\\n'):\n",
    "#                 ipdb.set_trace()\n",
    "                if verse_line != '':\n",
    "                    verse = verse_line.strip().split()[0]\n",
    "                    if verse.isdigit():\n",
    "                        verse_store = verse\n",
    "                        with open(\"./data/all_lingala/B\"+str(book_order).zfill(2)+\"___\"+str(chap).zfill(2)+\"_Jude________ENGESVN1DA_verse_\"+str(verse)+\".txt\", \"w\") as text_file: # a+\n",
    "                            text = re.sub(r\"[+]\", ' ', verse_line) \n",
    "                            # .strip() to delect any leading and trailing whitespace\n",
    "                            text_file.write(text[2:].strip()+\"\\n\") \n",
    "                        \n",
    "                    else:\n",
    "                        with open(\"./data/all_lingala/B\"+str(book_order).zfill(2)+\"___\"+str(chap).zfill(2)+\"_Jude________ENGESVN1DA_verse_\"+str(verse_store)+\".txt\", \"a\") as text_file: # a+\n",
    "                            text = re.sub(r\"[+]\", ' ', verse_line) \n",
    "                            # .strip() to delect any leading and trailing whitespace\n",
    "                            text_file.write(text.strip()+\"\\n\")\n",
    "\n",
    "#             ipdb.set_trace()\n",
    "        except Exception as inst:      \n",
    "            traceback.print_exc()\n",
    "        "
   ]
  },
  {
   "cell_type": "code",
   "execution_count": 319,
   "metadata": {},
   "outputs": [
    {
     "data": {
      "text/plain": [
       "'jude'"
      ]
     },
     "execution_count": 319,
     "metadata": {},
     "output_type": "execute_result"
    }
   ],
   "source": [
    "new_testament[number]"
   ]
  },
  {
   "cell_type": "code",
   "execution_count": 320,
   "metadata": {},
   "outputs": [
    {
     "name": "stdout",
     "output_type": "stream",
     "text": [
      "Loading chapter 1 ...\n"
     ]
    }
   ],
   "source": [
    "load_book_chapter(Bible_dict, new_testament[number], new_testament.index(new_testament[number])+1)"
   ]
  },
  {
   "cell_type": "markdown",
   "metadata": {},
   "source": [
    "## Revelation"
   ]
  },
  {
   "cell_type": "code",
   "execution_count": 324,
   "metadata": {},
   "outputs": [],
   "source": [
    "# B25___01_Revelation__EN1WEBN2DA"
   ]
  },
  {
   "cell_type": "code",
   "execution_count": 325,
   "metadata": {},
   "outputs": [
    {
     "data": {
      "text/plain": [
       "'revelation'"
      ]
     },
     "execution_count": 325,
     "metadata": {},
     "output_type": "execute_result"
    }
   ],
   "source": [
    "number = 26\n",
    "new_testament[number]"
   ]
  },
  {
   "cell_type": "code",
   "execution_count": 326,
   "metadata": {},
   "outputs": [],
   "source": [
    "def load_book_chapter(dictionary, book, book_order):\n",
    "    \"\"\"\n",
    "    This function will help to save in text form, depening to the book and verse argument \n",
    "    given in parameter\n",
    "    \n",
    "    The data is maintly taken from the website https://www.jw.org/\n",
    "    \"\"\"\n",
    "        \n",
    "    for chap in range(1, dictionary[book][1]+1):\n",
    "        print(f\"Loading chapter {chap} ...\")\n",
    "        try :\n",
    "            r_ling = rq.get('https://www.jw.org/ln/Biblioteke/biblia/bi12/mikanda/'\\\n",
    "                         +str(dictionary[book][0])+'/'+str(chap)+'/')\n",
    "\n",
    "            html_ling = r_ling.content\n",
    "            soup_ling = BeautifulSoup(html_ling, 'html.parser')         \n",
    "            s_ling = soup_ling.find_all(\"div\", {\"class\": \"textSizeIncrement\"})\n",
    "            \n",
    "            \n",
    "            with open(\"./data/all_lingala/B\"+str(book_order).zfill(2)+\"___\"+str(chap).zfill(2)+\"_Revelation__ENGESVN1DA_verse_0.txt\", \"w\") as text_file: # a+\n",
    "                # .strip() to delect any leading and trailing whitespace\n",
    "                text_file.write(Bible_dict[book][0]+\" \"+str(chap)+\"\\n\") \n",
    "\n",
    "            \n",
    "            i = 0\n",
    "            \n",
    "            for verse_line in s_ling[0].text.split('\\n'):\n",
    "#                 ipdb.set_trace()\n",
    "                if verse_line != '':\n",
    "                    verse = verse_line.strip().split()[0]\n",
    "                    if verse.isdigit():\n",
    "                        verse_store = verse\n",
    "                        with open(\"./data/all_lingala/B\"+str(book_order).zfill(2)+\"___\"+str(chap).zfill(2)+\"_Revelation__ENGESVN1DA_verse_\"+str(verse)+\".txt\", \"w\") as text_file: # a+\n",
    "                            text = re.sub(r\"[+]\", ' ', verse_line) \n",
    "                            # .strip() to delect any leading and trailing whitespace\n",
    "                            text_file.write(text[2:].strip()+\"\\n\") \n",
    "                        \n",
    "                    else:\n",
    "                        with open(\"./data/all_lingala/B\"+str(book_order).zfill(2)+\"___\"+str(chap).zfill(2)+\"_Revelation__ENGESVN1DA_verse_\"+str(verse_store)+\".txt\", \"a\") as text_file: # a+\n",
    "                            text = re.sub(r\"[+]\", ' ', verse_line) \n",
    "                            # .strip() to delect any leading and trailing whitespace\n",
    "                            text_file.write(text.strip()+\"\\n\")\n",
    "\n",
    "#             ipdb.set_trace()\n",
    "        except Exception as inst:      \n",
    "            traceback.print_exc()\n",
    "        "
   ]
  },
  {
   "cell_type": "code",
   "execution_count": 327,
   "metadata": {},
   "outputs": [
    {
     "data": {
      "text/plain": [
       "'revelation'"
      ]
     },
     "execution_count": 327,
     "metadata": {},
     "output_type": "execute_result"
    }
   ],
   "source": [
    "new_testament[number]"
   ]
  },
  {
   "cell_type": "code",
   "execution_count": 328,
   "metadata": {},
   "outputs": [
    {
     "name": "stdout",
     "output_type": "stream",
     "text": [
      "Loading chapter 1 ...\n",
      "Loading chapter 2 ...\n",
      "Loading chapter 3 ...\n",
      "Loading chapter 4 ...\n",
      "Loading chapter 5 ...\n",
      "Loading chapter 6 ...\n",
      "Loading chapter 7 ...\n",
      "Loading chapter 8 ...\n",
      "Loading chapter 9 ...\n",
      "Loading chapter 10 ...\n",
      "Loading chapter 11 ...\n",
      "Loading chapter 12 ...\n",
      "Loading chapter 13 ...\n",
      "Loading chapter 14 ...\n",
      "Loading chapter 15 ...\n",
      "Loading chapter 16 ...\n",
      "Loading chapter 17 ...\n",
      "Loading chapter 18 ...\n",
      "Loading chapter 19 ...\n",
      "Loading chapter 20 ...\n",
      "Loading chapter 21 ...\n",
      "Loading chapter 22 ...\n"
     ]
    }
   ],
   "source": [
    "load_book_chapter(Bible_dict, new_testament[number], new_testament.index(new_testament[number])+1)"
   ]
  },
  {
   "cell_type": "code",
   "execution_count": null,
   "metadata": {},
   "outputs": [],
   "source": []
  },
  {
   "cell_type": "markdown",
   "metadata": {},
   "source": [
    "## Issue with some files\n"
   ]
  },
  {
   "cell_type": "code",
   "execution_count": null,
   "metadata": {},
   "outputs": [],
   "source": [
    "# linux command to compare folder for missing file\n",
    "\n",
    "for f1 in dataset/english/*; do\n",
    "    f2=\"dataset/lingala/$( basename \"$f1\" )\"\n",
    "    if [ ! -e \"$f2\" ]; then\n",
    "        printf '%s\\n' \"$f2\"\n",
    "    fi\n",
    "done"
   ]
  },
  {
   "cell_type": "code",
   "execution_count": 44,
   "metadata": {},
   "outputs": [],
   "source": [
    "numb = 0"
   ]
  },
  {
   "cell_type": "code",
   "execution_count": 45,
   "metadata": {},
   "outputs": [
    {
     "data": {
      "text/plain": [
       "'matai'"
      ]
     },
     "execution_count": 45,
     "metadata": {},
     "output_type": "execute_result"
    }
   ],
   "source": [
    "str(Bible_dict[new_testament[numb]][0])"
   ]
  },
  {
   "cell_type": "code",
   "execution_count": 29,
   "metadata": {},
   "outputs": [],
   "source": [
    "for i in range(2, 29):\n",
    "    request = rq.get('https://www.jw.org/ln/Biblioteke/biblia/bi12/mikanda/'\\\n",
    "                     +str(Bible_dict[new_testament[numb]][0])+'/'+str(i)+'/')\n",
    "\n",
    "    html = request.content\n",
    "\n",
    "    soup = BeautifulSoup(html, 'html.parser') \n",
    "\n",
    "    s = soup.find_all(\"span\", {\"class\": \"style-b\"})\n",
    "\n",
    "    verses = []\n",
    "\n",
    "    for verse_line in s[0].text.split('\\n'):\n",
    "\n",
    "        with open(\"./data/all_lingala/B\"+str(numb+1).zfill(2)+\"___\"+str(i).zfill(2)+\"_Matthew_____ENGESVN1DA_verse_1.txt\", \"w\") as text_file: # a+\n",
    "                text = re.sub(r\"[+]\", ' ', verse_line) \n",
    "                # .strip() to delect any leading and trailing whitespace\n",
    "                text_file.write(text[2:].strip()+\"\\n\") "
   ]
  },
  {
   "cell_type": "code",
   "execution_count": 26,
   "metadata": {},
   "outputs": [],
   "source": [
    "# B02___02_Mark________ENGESVN1DA_verse_1"
   ]
  },
  {
   "cell_type": "code",
   "execution_count": 46,
   "metadata": {},
   "outputs": [],
   "source": [
    "numb = 1"
   ]
  },
  {
   "cell_type": "code",
   "execution_count": 47,
   "metadata": {},
   "outputs": [
    {
     "data": {
      "text/plain": [
       "'marko'"
      ]
     },
     "execution_count": 47,
     "metadata": {},
     "output_type": "execute_result"
    }
   ],
   "source": [
    "str(Bible_dict[new_testament[numb]][0])"
   ]
  },
  {
   "cell_type": "code",
   "execution_count": 37,
   "metadata": {},
   "outputs": [],
   "source": [
    "for i in range(2, 17):\n",
    "    request = rq.get('https://www.jw.org/ln/Biblioteke/biblia/bi12/mikanda/'\\\n",
    "                     +str(Bible_dict[new_testament[numb]][0])+'/'+str(i)+'/')\n",
    "\n",
    "    html = request.content\n",
    "\n",
    "    soup = BeautifulSoup(html, 'html.parser') \n",
    "\n",
    "    s = soup.find_all(\"span\", {\"class\": \"style-b\"})\n",
    "\n",
    "    verses = []\n",
    "\n",
    "    for verse_line in s[0].text.split('\\n'):\n",
    "\n",
    "        with open(\"./data/all_lingala/B\"+str(numb+1).zfill(2)+\"___\"+str(i).zfill(2)+\"_Mark________ENGESVN1DA_verse_1.txt\", \"w\") as text_file: # a+\n",
    "                text = re.sub(r\"[+]\", ' ', verse_line) \n",
    "                # .strip() to delect any leading and trailing whitespace\n",
    "                text_file.write(text[2:].strip()+\"\\n\") "
   ]
  },
  {
   "cell_type": "code",
   "execution_count": null,
   "metadata": {},
   "outputs": [],
   "source": [
    "# B03___02_Luke________ENGESVN1DA_verse_1.txt"
   ]
  },
  {
   "cell_type": "code",
   "execution_count": 48,
   "metadata": {},
   "outputs": [],
   "source": [
    "numb = 2"
   ]
  },
  {
   "cell_type": "code",
   "execution_count": 49,
   "metadata": {},
   "outputs": [
    {
     "data": {
      "text/plain": [
       "'luka'"
      ]
     },
     "execution_count": 49,
     "metadata": {},
     "output_type": "execute_result"
    }
   ],
   "source": [
    "str(Bible_dict[new_testament[numb]][0])"
   ]
  },
  {
   "cell_type": "code",
   "execution_count": 52,
   "metadata": {},
   "outputs": [],
   "source": [
    "for i in range(2, 25):\n",
    "    request = rq.get('https://www.jw.org/ln/Biblioteke/biblia/bi12/mikanda/'\\\n",
    "                     +str(Bible_dict[new_testament[numb]][0])+'/'+str(i)+'/')\n",
    "\n",
    "    html = request.content\n",
    "\n",
    "    soup = BeautifulSoup(html, 'html.parser') \n",
    "\n",
    "    s = soup.find_all(\"span\", {\"class\": \"style-b\"})\n",
    "\n",
    "    verses = []\n",
    "\n",
    "    for verse_line in s[0].text.split('\\n'):\n",
    "\n",
    "        with open(\"./data/all_lingala/B\"+str(numb+1).zfill(2)+\"___\"+str(i).zfill(2)+\"_Luke________ENGESVN1DA_verse_1.txt\", \"w\") as text_file: # a+\n",
    "                text = re.sub(r\"[+]\", ' ', verse_line) \n",
    "                # .strip() to delect any leading and trailing whitespace\n",
    "                text_file.write(text[2:].strip()+\"\\n\") "
   ]
  },
  {
   "cell_type": "code",
   "execution_count": null,
   "metadata": {},
   "outputs": [],
   "source": [
    "# B04___02_John________ENGESVN1DA_verse_1.txt"
   ]
  },
  {
   "cell_type": "code",
   "execution_count": 53,
   "metadata": {},
   "outputs": [],
   "source": [
    "numb = 3"
   ]
  },
  {
   "cell_type": "code",
   "execution_count": 54,
   "metadata": {},
   "outputs": [
    {
     "data": {
      "text/plain": [
       "'yoane'"
      ]
     },
     "execution_count": 54,
     "metadata": {},
     "output_type": "execute_result"
    }
   ],
   "source": [
    "str(Bible_dict[new_testament[numb]][0])"
   ]
  },
  {
   "cell_type": "code",
   "execution_count": 55,
   "metadata": {},
   "outputs": [],
   "source": [
    "for i in range(2, 22):\n",
    "    request = rq.get('https://www.jw.org/ln/Biblioteke/biblia/bi12/mikanda/'\\\n",
    "                     +str(Bible_dict[new_testament[numb]][0])+'/'+str(i)+'/')\n",
    "\n",
    "    html = request.content\n",
    "\n",
    "    soup = BeautifulSoup(html, 'html.parser') \n",
    "\n",
    "    s = soup.find_all(\"span\", {\"class\": \"style-b\"})\n",
    "\n",
    "    verses = []\n",
    "\n",
    "    for verse_line in s[0].text.split('\\n'):\n",
    "\n",
    "        with open(\"./data/all_lingala/B\"+str(numb+1).zfill(2)+\"___\"+str(i).zfill(2)+\"_John________ENGESVN1DA_verse_1.txt\", \"w\") as text_file: # a+\n",
    "                text = re.sub(r\"[+]\", ' ', verse_line) \n",
    "                # .strip() to delect any leading and trailing whitespace\n",
    "                text_file.write(text[2:].strip()+\"\\n\") "
   ]
  },
  {
   "cell_type": "code",
   "execution_count": null,
   "metadata": {},
   "outputs": [],
   "source": [
    "# B05___02_Acts________ENGESVN1DA_verse_1.txt"
   ]
  },
  {
   "cell_type": "code",
   "execution_count": 56,
   "metadata": {},
   "outputs": [],
   "source": [
    "numb = 4"
   ]
  },
  {
   "cell_type": "code",
   "execution_count": 57,
   "metadata": {},
   "outputs": [
    {
     "data": {
      "text/plain": [
       "'misala'"
      ]
     },
     "execution_count": 57,
     "metadata": {},
     "output_type": "execute_result"
    }
   ],
   "source": [
    "str(Bible_dict[new_testament[numb]][0])"
   ]
  },
  {
   "cell_type": "code",
   "execution_count": 58,
   "metadata": {},
   "outputs": [],
   "source": [
    "for i in range(2, 29):\n",
    "    request = rq.get('https://www.jw.org/ln/Biblioteke/biblia/bi12/mikanda/'\\\n",
    "                     +str(Bible_dict[new_testament[numb]][0])+'/'+str(i)+'/')\n",
    "\n",
    "    html = request.content\n",
    "\n",
    "    soup = BeautifulSoup(html, 'html.parser') \n",
    "\n",
    "    s = soup.find_all(\"span\", {\"class\": \"style-b\"})\n",
    "\n",
    "    verses = []\n",
    "\n",
    "    for verse_line in s[0].text.split('\\n'):\n",
    "\n",
    "        with open(\"./data/all_lingala/B\"+str(numb+1).zfill(2)+\"___\"+str(i).zfill(2)+\"_Acts________ENGESVN1DA_verse_1.txt\", \"w\") as text_file: # a+\n",
    "                text = re.sub(r\"[+]\", ' ', verse_line) \n",
    "                # .strip() to delect any leading and trailing whitespace\n",
    "                text_file.write(text[2:].strip()+\"\\n\") "
   ]
  },
  {
   "cell_type": "code",
   "execution_count": null,
   "metadata": {},
   "outputs": [],
   "source": [
    "# B06___02_Romans______ENGESVN1DA_verse_1.txt"
   ]
  },
  {
   "cell_type": "code",
   "execution_count": 59,
   "metadata": {},
   "outputs": [],
   "source": [
    "numb = 5"
   ]
  },
  {
   "cell_type": "code",
   "execution_count": 60,
   "metadata": {},
   "outputs": [
    {
     "data": {
      "text/plain": [
       "'baroma'"
      ]
     },
     "execution_count": 60,
     "metadata": {},
     "output_type": "execute_result"
    }
   ],
   "source": [
    "str(Bible_dict[new_testament[numb]][0])"
   ]
  },
  {
   "cell_type": "code",
   "execution_count": 61,
   "metadata": {},
   "outputs": [],
   "source": [
    "for i in range(2, 17):\n",
    "    request = rq.get('https://www.jw.org/ln/Biblioteke/biblia/bi12/mikanda/'\\\n",
    "                     +str(Bible_dict[new_testament[numb]][0])+'/'+str(i)+'/')\n",
    "\n",
    "    html = request.content\n",
    "\n",
    "    soup = BeautifulSoup(html, 'html.parser') \n",
    "\n",
    "    s = soup.find_all(\"span\", {\"class\": \"style-b\"})\n",
    "\n",
    "    verses = []\n",
    "\n",
    "    for verse_line in s[0].text.split('\\n'):\n",
    "\n",
    "        with open(\"./data/all_lingala/B\"+str(numb+1).zfill(2)+\"___\"+str(i).zfill(2)+\"_Romans______ENGESVN1DA_verse_1.txt\", \"w\") as text_file: # a+\n",
    "                text = re.sub(r\"[+]\", ' ', verse_line) \n",
    "                # .strip() to delect any leading and trailing whitespace\n",
    "                text_file.write(text[2:].strip()+\"\\n\") "
   ]
  },
  {
   "cell_type": "code",
   "execution_count": 62,
   "metadata": {},
   "outputs": [],
   "source": [
    "# B07___02_1CorinthiansENGESVN1DA_verse_1.txt"
   ]
  },
  {
   "cell_type": "code",
   "execution_count": 63,
   "metadata": {},
   "outputs": [],
   "source": [
    "numb = 6"
   ]
  },
  {
   "cell_type": "code",
   "execution_count": 64,
   "metadata": {},
   "outputs": [
    {
     "data": {
      "text/plain": [
       "'1-bakorinti'"
      ]
     },
     "execution_count": 64,
     "metadata": {},
     "output_type": "execute_result"
    }
   ],
   "source": [
    "str(Bible_dict[new_testament[numb]][0])"
   ]
  },
  {
   "cell_type": "code",
   "execution_count": 65,
   "metadata": {},
   "outputs": [],
   "source": [
    "for i in range(2, 17):\n",
    "    request = rq.get('https://www.jw.org/ln/Biblioteke/biblia/bi12/mikanda/'\\\n",
    "                     +str(Bible_dict[new_testament[numb]][0])+'/'+str(i)+'/')\n",
    "\n",
    "    html = request.content\n",
    "\n",
    "    soup = BeautifulSoup(html, 'html.parser') \n",
    "\n",
    "    s = soup.find_all(\"span\", {\"class\": \"style-b\"})\n",
    "\n",
    "    verses = []\n",
    "\n",
    "    for verse_line in s[0].text.split('\\n'):\n",
    "\n",
    "        with open(\"./data/all_lingala/B\"+str(numb+1).zfill(2)+\"___\"+str(i).zfill(2)+\"_1CorinthiansENGESVN1DA_verse_1.txt\", \"w\") as text_file: # a+\n",
    "                text = re.sub(r\"[+]\", ' ', verse_line) \n",
    "                # .strip() to delect any leading and trailing whitespace\n",
    "                text_file.write(text[2:].strip()+\"\\n\") "
   ]
  },
  {
   "cell_type": "code",
   "execution_count": 66,
   "metadata": {},
   "outputs": [],
   "source": [
    "# B08___02_2CorinthiansENGESVN1DA_verse_1.txt"
   ]
  },
  {
   "cell_type": "code",
   "execution_count": 67,
   "metadata": {},
   "outputs": [],
   "source": [
    "numb = 7"
   ]
  },
  {
   "cell_type": "code",
   "execution_count": 68,
   "metadata": {},
   "outputs": [
    {
     "data": {
      "text/plain": [
       "'2-bakorinti'"
      ]
     },
     "execution_count": 68,
     "metadata": {},
     "output_type": "execute_result"
    }
   ],
   "source": [
    "str(Bible_dict[new_testament[numb]][0])"
   ]
  },
  {
   "cell_type": "code",
   "execution_count": 69,
   "metadata": {},
   "outputs": [],
   "source": [
    "for i in range(2, 14):\n",
    "    request = rq.get('https://www.jw.org/ln/Biblioteke/biblia/bi12/mikanda/'\\\n",
    "                     +str(Bible_dict[new_testament[numb]][0])+'/'+str(i)+'/')\n",
    "\n",
    "    html = request.content\n",
    "\n",
    "    soup = BeautifulSoup(html, 'html.parser') \n",
    "\n",
    "    s = soup.find_all(\"span\", {\"class\": \"style-b\"})\n",
    "\n",
    "    verses = []\n",
    "\n",
    "    for verse_line in s[0].text.split('\\n'):\n",
    "\n",
    "        with open(\"./data/all_lingala/B\"+str(numb+1).zfill(2)+\"___\"+str(i).zfill(2)+\"_2CorinthiansENGESVN1DA_verse_1.txt\", \"w\") as text_file: # a+\n",
    "                text = re.sub(r\"[+]\", ' ', verse_line) \n",
    "                # .strip() to delect any leading and trailing whitespace\n",
    "                text_file.write(text[2:].strip()+\"\\n\") "
   ]
  },
  {
   "cell_type": "code",
   "execution_count": 70,
   "metadata": {},
   "outputs": [],
   "source": [
    "# B09___02_Galatians___ENGESVN1DA_verse_1.txt"
   ]
  },
  {
   "cell_type": "code",
   "execution_count": 71,
   "metadata": {},
   "outputs": [],
   "source": [
    "numb = 8"
   ]
  },
  {
   "cell_type": "code",
   "execution_count": 72,
   "metadata": {},
   "outputs": [
    {
     "data": {
      "text/plain": [
       "'bagalatia'"
      ]
     },
     "execution_count": 72,
     "metadata": {},
     "output_type": "execute_result"
    }
   ],
   "source": [
    "str(Bible_dict[new_testament[numb]][0])"
   ]
  },
  {
   "cell_type": "code",
   "execution_count": 73,
   "metadata": {},
   "outputs": [],
   "source": [
    "for i in range(2, 7):\n",
    "    request = rq.get('https://www.jw.org/ln/Biblioteke/biblia/bi12/mikanda/'\\\n",
    "                     +str(Bible_dict[new_testament[numb]][0])+'/'+str(i)+'/')\n",
    "\n",
    "    html = request.content\n",
    "\n",
    "    soup = BeautifulSoup(html, 'html.parser') \n",
    "\n",
    "    s = soup.find_all(\"span\", {\"class\": \"style-b\"})\n",
    "\n",
    "    verses = []\n",
    "\n",
    "    for verse_line in s[0].text.split('\\n'):\n",
    "\n",
    "        with open(\"./data/all_lingala/B\"+str(numb+1).zfill(2)+\"___\"+str(i).zfill(2)+\"_Galatians___ENGESVN1DA_verse_1.txt\", \"w\") as text_file: # a+\n",
    "                text = re.sub(r\"[+]\", ' ', verse_line) \n",
    "                # .strip() to delect any leading and trailing whitespace\n",
    "                text_file.write(text[2:].strip()+\"\\n\") "
   ]
  },
  {
   "cell_type": "code",
   "execution_count": 74,
   "metadata": {},
   "outputs": [],
   "source": [
    "# B10___03_Ephesians___ENGESVN1DA_verse_1.txt"
   ]
  },
  {
   "cell_type": "code",
   "execution_count": 75,
   "metadata": {},
   "outputs": [],
   "source": [
    "numb = 9"
   ]
  },
  {
   "cell_type": "code",
   "execution_count": 76,
   "metadata": {},
   "outputs": [
    {
     "data": {
      "text/plain": [
       "'baefese'"
      ]
     },
     "execution_count": 76,
     "metadata": {},
     "output_type": "execute_result"
    }
   ],
   "source": [
    "str(Bible_dict[new_testament[numb]][0])"
   ]
  },
  {
   "cell_type": "code",
   "execution_count": 77,
   "metadata": {},
   "outputs": [],
   "source": [
    "for i in range(2, 7):\n",
    "    request = rq.get('https://www.jw.org/ln/Biblioteke/biblia/bi12/mikanda/'\\\n",
    "                     +str(Bible_dict[new_testament[numb]][0])+'/'+str(i)+'/')\n",
    "\n",
    "    html = request.content\n",
    "\n",
    "    soup = BeautifulSoup(html, 'html.parser') \n",
    "\n",
    "    s = soup.find_all(\"span\", {\"class\": \"style-b\"})\n",
    "\n",
    "    verses = []\n",
    "\n",
    "    for verse_line in s[0].text.split('\\n'):\n",
    "\n",
    "        with open(\"./data/all_lingala/B\"+str(numb+1).zfill(2)+\"___\"+str(i).zfill(2)+\"_Ephesians___ENGESVN1DA_verse_1.txt\", \"w\") as text_file: # a+\n",
    "                text = re.sub(r\"[+]\", ' ', verse_line) \n",
    "                # .strip() to delect any leading and trailing whitespace\n",
    "                text_file.write(text[2:].strip()+\"\\n\") "
   ]
  },
  {
   "cell_type": "code",
   "execution_count": 78,
   "metadata": {},
   "outputs": [],
   "source": [
    "# B11___02_Philippians_ENGESVN1DA_verse_1.txt"
   ]
  },
  {
   "cell_type": "code",
   "execution_count": 79,
   "metadata": {},
   "outputs": [],
   "source": [
    "numb = 10"
   ]
  },
  {
   "cell_type": "code",
   "execution_count": 80,
   "metadata": {},
   "outputs": [
    {
     "data": {
      "text/plain": [
       "'bafilipi'"
      ]
     },
     "execution_count": 80,
     "metadata": {},
     "output_type": "execute_result"
    }
   ],
   "source": [
    "str(Bible_dict[new_testament[numb]][0])"
   ]
  },
  {
   "cell_type": "code",
   "execution_count": 81,
   "metadata": {},
   "outputs": [],
   "source": [
    "for i in range(2, 5):\n",
    "    request = rq.get('https://www.jw.org/ln/Biblioteke/biblia/bi12/mikanda/'\\\n",
    "                     +str(Bible_dict[new_testament[numb]][0])+'/'+str(i)+'/')\n",
    "\n",
    "    html = request.content\n",
    "\n",
    "    soup = BeautifulSoup(html, 'html.parser') \n",
    "\n",
    "    s = soup.find_all(\"span\", {\"class\": \"style-b\"})\n",
    "\n",
    "    verses = []\n",
    "\n",
    "    for verse_line in s[0].text.split('\\n'):\n",
    "\n",
    "        with open(\"./data/all_lingala/B\"+str(numb+1).zfill(2)+\"___\"+str(i).zfill(2)+\"_Philippians_ENGESVN1DA_verse_1.txt\", \"w\") as text_file: # a+\n",
    "                text = re.sub(r\"[+]\", ' ', verse_line) \n",
    "                # .strip() to delect any leading and trailing whitespace\n",
    "                text_file.write(text[2:].strip()+\"\\n\") "
   ]
  },
  {
   "cell_type": "code",
   "execution_count": 78,
   "metadata": {},
   "outputs": [],
   "source": [
    "# B12___02_Colossians__ENGESVN1DA_verse_1.txt"
   ]
  },
  {
   "cell_type": "code",
   "execution_count": 82,
   "metadata": {},
   "outputs": [],
   "source": [
    "numb = 11"
   ]
  },
  {
   "cell_type": "code",
   "execution_count": 83,
   "metadata": {},
   "outputs": [
    {
     "data": {
      "text/plain": [
       "'bakolose'"
      ]
     },
     "execution_count": 83,
     "metadata": {},
     "output_type": "execute_result"
    }
   ],
   "source": [
    "str(Bible_dict[new_testament[numb]][0])"
   ]
  },
  {
   "cell_type": "code",
   "execution_count": 84,
   "metadata": {},
   "outputs": [],
   "source": [
    "for i in range(2, 5):\n",
    "    request = rq.get('https://www.jw.org/ln/Biblioteke/biblia/bi12/mikanda/'\\\n",
    "                     +str(Bible_dict[new_testament[numb]][0])+'/'+str(i)+'/')\n",
    "\n",
    "    html = request.content\n",
    "\n",
    "    soup = BeautifulSoup(html, 'html.parser') \n",
    "\n",
    "    s = soup.find_all(\"span\", {\"class\": \"style-b\"})\n",
    "\n",
    "    verses = []\n",
    "\n",
    "    for verse_line in s[0].text.split('\\n'):\n",
    "\n",
    "        with open(\"./data/all_lingala/B\"+str(numb+1).zfill(2)+\"___\"+str(i).zfill(2)+\"_Colossians__ENGESVN1DA_verse_1.txt\", \"w\") as text_file: # a+\n",
    "                text = re.sub(r\"[+]\", ' ', verse_line) \n",
    "                # .strip() to delect any leading and trailing whitespace\n",
    "                text_file.write(text[2:].strip()+\"\\n\") "
   ]
  },
  {
   "cell_type": "code",
   "execution_count": 85,
   "metadata": {},
   "outputs": [],
   "source": [
    "# B13___02_1Thess______ENGESVN1DA_verse_1.txt"
   ]
  },
  {
   "cell_type": "code",
   "execution_count": 86,
   "metadata": {},
   "outputs": [],
   "source": [
    "numb = 12"
   ]
  },
  {
   "cell_type": "code",
   "execution_count": 87,
   "metadata": {},
   "outputs": [
    {
     "data": {
      "text/plain": [
       "'1-batesaloniki'"
      ]
     },
     "execution_count": 87,
     "metadata": {},
     "output_type": "execute_result"
    }
   ],
   "source": [
    "str(Bible_dict[new_testament[numb]][0])"
   ]
  },
  {
   "cell_type": "code",
   "execution_count": 88,
   "metadata": {},
   "outputs": [],
   "source": [
    "for i in range(2, 6):\n",
    "    request = rq.get('https://www.jw.org/ln/Biblioteke/biblia/bi12/mikanda/'\\\n",
    "                     +str(Bible_dict[new_testament[numb]][0])+'/'+str(i)+'/')\n",
    "\n",
    "    html = request.content\n",
    "\n",
    "    soup = BeautifulSoup(html, 'html.parser') \n",
    "\n",
    "    s = soup.find_all(\"span\", {\"class\": \"style-b\"})\n",
    "\n",
    "    verses = []\n",
    "\n",
    "    for verse_line in s[0].text.split('\\n'):\n",
    "\n",
    "        with open(\"./data/all_lingala/B\"+str(numb+1).zfill(2)+\"___\"+str(i).zfill(2)+\"_1Thess______ENGESVN1DA_verse_1.txt\", \"w\") as text_file: # a+\n",
    "                text = re.sub(r\"[+]\", ' ', verse_line) \n",
    "                # .strip() to delect any leading and trailing whitespace\n",
    "                text_file.write(text[2:].strip()+\"\\n\") "
   ]
  },
  {
   "cell_type": "code",
   "execution_count": 85,
   "metadata": {},
   "outputs": [],
   "source": [
    "# B14___02_2Thess______ENGESVN1DA_verse_1.txt"
   ]
  },
  {
   "cell_type": "code",
   "execution_count": 89,
   "metadata": {},
   "outputs": [],
   "source": [
    "numb = 13"
   ]
  },
  {
   "cell_type": "code",
   "execution_count": 90,
   "metadata": {},
   "outputs": [
    {
     "data": {
      "text/plain": [
       "'2-batesaloniki'"
      ]
     },
     "execution_count": 90,
     "metadata": {},
     "output_type": "execute_result"
    }
   ],
   "source": [
    "str(Bible_dict[new_testament[numb]][0])"
   ]
  },
  {
   "cell_type": "code",
   "execution_count": 91,
   "metadata": {},
   "outputs": [],
   "source": [
    "for i in range(2, 4):\n",
    "    request = rq.get('https://www.jw.org/ln/Biblioteke/biblia/bi12/mikanda/'\\\n",
    "                     +str(Bible_dict[new_testament[numb]][0])+'/'+str(i)+'/')\n",
    "\n",
    "    html = request.content\n",
    "\n",
    "    soup = BeautifulSoup(html, 'html.parser') \n",
    "\n",
    "    s = soup.find_all(\"span\", {\"class\": \"style-b\"})\n",
    "\n",
    "    verses = []\n",
    "\n",
    "    for verse_line in s[0].text.split('\\n'):\n",
    "\n",
    "        with open(\"./data/all_lingala/B\"+str(numb+1).zfill(2)+\"___\"+str(i).zfill(2)+\"_2Thess______ENGESVN1DA_verse_1.txt\", \"w\") as text_file: # a+\n",
    "                text = re.sub(r\"[+]\", ' ', verse_line) \n",
    "                # .strip() to delect any leading and trailing whitespace\n",
    "                text_file.write(text[2:].strip()+\"\\n\") "
   ]
  },
  {
   "cell_type": "code",
   "execution_count": 85,
   "metadata": {},
   "outputs": [],
   "source": [
    "# B15___02_1Timothy____ENGESVN1DA_verse_1.txt"
   ]
  },
  {
   "cell_type": "code",
   "execution_count": 92,
   "metadata": {},
   "outputs": [],
   "source": [
    "numb = 14"
   ]
  },
  {
   "cell_type": "code",
   "execution_count": 93,
   "metadata": {},
   "outputs": [
    {
     "data": {
      "text/plain": [
       "'1-timote'"
      ]
     },
     "execution_count": 93,
     "metadata": {},
     "output_type": "execute_result"
    }
   ],
   "source": [
    "str(Bible_dict[new_testament[numb]][0])"
   ]
  },
  {
   "cell_type": "code",
   "execution_count": 94,
   "metadata": {},
   "outputs": [],
   "source": [
    "for i in range(2, 7):\n",
    "    request = rq.get('https://www.jw.org/ln/Biblioteke/biblia/bi12/mikanda/'\\\n",
    "                     +str(Bible_dict[new_testament[numb]][0])+'/'+str(i)+'/')\n",
    "\n",
    "    html = request.content\n",
    "\n",
    "    soup = BeautifulSoup(html, 'html.parser') \n",
    "\n",
    "    s = soup.find_all(\"span\", {\"class\": \"style-b\"})\n",
    "\n",
    "    verses = []\n",
    "\n",
    "    for verse_line in s[0].text.split('\\n'):\n",
    "\n",
    "        with open(\"./data/all_lingala/B\"+str(numb+1).zfill(2)+\"___\"+str(i).zfill(2)+\"_1Timothy____ENGESVN1DA_verse_1.txt\", \"w\") as text_file: # a+\n",
    "                text = re.sub(r\"[+]\", ' ', verse_line) \n",
    "                # .strip() to delect any leading and trailing whitespace\n",
    "                text_file.write(text[2:].strip()+\"\\n\") "
   ]
  },
  {
   "cell_type": "code",
   "execution_count": 85,
   "metadata": {},
   "outputs": [],
   "source": [
    "# B16___02_2Timothy____ENGESVN1DA_verse_1.txt"
   ]
  },
  {
   "cell_type": "code",
   "execution_count": 95,
   "metadata": {},
   "outputs": [],
   "source": [
    "numb = 15"
   ]
  },
  {
   "cell_type": "code",
   "execution_count": 96,
   "metadata": {},
   "outputs": [
    {
     "data": {
      "text/plain": [
       "'2-timote'"
      ]
     },
     "execution_count": 96,
     "metadata": {},
     "output_type": "execute_result"
    }
   ],
   "source": [
    "str(Bible_dict[new_testament[numb]][0])"
   ]
  },
  {
   "cell_type": "code",
   "execution_count": 97,
   "metadata": {},
   "outputs": [],
   "source": [
    "for i in range(2, 5):\n",
    "    request = rq.get('https://www.jw.org/ln/Biblioteke/biblia/bi12/mikanda/'\\\n",
    "                     +str(Bible_dict[new_testament[numb]][0])+'/'+str(i)+'/')\n",
    "\n",
    "    html = request.content\n",
    "\n",
    "    soup = BeautifulSoup(html, 'html.parser') \n",
    "\n",
    "    s = soup.find_all(\"span\", {\"class\": \"style-b\"})\n",
    "\n",
    "    verses = []\n",
    "\n",
    "    for verse_line in s[0].text.split('\\n'):\n",
    "\n",
    "        with open(\"./data/all_lingala/B\"+str(numb+1).zfill(2)+\"___\"+str(i).zfill(2)+\"_2Timothy____ENGESVN1DA_verse_1.txt\", \"w\") as text_file: # a+\n",
    "                text = re.sub(r\"[+]\", ' ', verse_line) \n",
    "                # .strip() to delect any leading and trailing whitespace\n",
    "                text_file.write(text[2:].strip()+\"\\n\") "
   ]
  },
  {
   "cell_type": "code",
   "execution_count": 85,
   "metadata": {},
   "outputs": [],
   "source": [
    "# B17___02_Titus_______ENGESVN1DA_verse_1.txt"
   ]
  },
  {
   "cell_type": "code",
   "execution_count": 98,
   "metadata": {},
   "outputs": [],
   "source": [
    "numb = 16"
   ]
  },
  {
   "cell_type": "code",
   "execution_count": 99,
   "metadata": {},
   "outputs": [
    {
     "data": {
      "text/plain": [
       "'tito'"
      ]
     },
     "execution_count": 99,
     "metadata": {},
     "output_type": "execute_result"
    }
   ],
   "source": [
    "str(Bible_dict[new_testament[numb]][0])"
   ]
  },
  {
   "cell_type": "code",
   "execution_count": 100,
   "metadata": {},
   "outputs": [],
   "source": [
    "for i in range(2, 4):\n",
    "    request = rq.get('https://www.jw.org/ln/Biblioteke/biblia/bi12/mikanda/'\\\n",
    "                     +str(Bible_dict[new_testament[numb]][0])+'/'+str(i)+'/')\n",
    "\n",
    "    html = request.content\n",
    "\n",
    "    soup = BeautifulSoup(html, 'html.parser') \n",
    "\n",
    "    s = soup.find_all(\"span\", {\"class\": \"style-b\"})\n",
    "\n",
    "    verses = []\n",
    "\n",
    "    for verse_line in s[0].text.split('\\n'):\n",
    "\n",
    "        with open(\"./data/all_lingala/B\"+str(numb+1).zfill(2)+\"___\"+str(i).zfill(2)+\"_Titus_______ENGESVN1DA_verse_1.txt\", \"w\") as text_file: # a+\n",
    "                text = re.sub(r\"[+]\", ' ', verse_line) \n",
    "                # .strip() to delect any leading and trailing whitespace\n",
    "                text_file.write(text[2:].strip()+\"\\n\") "
   ]
  },
  {
   "cell_type": "code",
   "execution_count": 85,
   "metadata": {},
   "outputs": [],
   "source": [
    "# B19___02_Hebrews_____ENGESVN1DA_verse_1.txt"
   ]
  },
  {
   "cell_type": "code",
   "execution_count": 101,
   "metadata": {},
   "outputs": [],
   "source": [
    "numb = 18"
   ]
  },
  {
   "cell_type": "code",
   "execution_count": 102,
   "metadata": {},
   "outputs": [
    {
     "data": {
      "text/plain": [
       "'baebre'"
      ]
     },
     "execution_count": 102,
     "metadata": {},
     "output_type": "execute_result"
    }
   ],
   "source": [
    "str(Bible_dict[new_testament[numb]][0])"
   ]
  },
  {
   "cell_type": "code",
   "execution_count": 103,
   "metadata": {},
   "outputs": [],
   "source": [
    "for i in range(2, 14):\n",
    "    request = rq.get('https://www.jw.org/ln/Biblioteke/biblia/bi12/mikanda/'\\\n",
    "                     +str(Bible_dict[new_testament[numb]][0])+'/'+str(i)+'/')\n",
    "\n",
    "    html = request.content\n",
    "\n",
    "    soup = BeautifulSoup(html, 'html.parser') \n",
    "\n",
    "    s = soup.find_all(\"span\", {\"class\": \"style-b\"})\n",
    "\n",
    "    verses = []\n",
    "\n",
    "    for verse_line in s[0].text.split('\\n'):\n",
    "\n",
    "        with open(\"./data/all_lingala/B\"+str(numb+1).zfill(2)+\"___\"+str(i).zfill(2)+\"_Hebrews_____ENGESVN1DA_verse_1.txt\", \"w\") as text_file: # a+\n",
    "                text = re.sub(r\"[+]\", ' ', verse_line) \n",
    "                # .strip() to delect any leading and trailing whitespace\n",
    "                text_file.write(text[2:].strip()+\"\\n\") "
   ]
  },
  {
   "cell_type": "code",
   "execution_count": 85,
   "metadata": {},
   "outputs": [],
   "source": [
    "# B20___02_James_______ENGESVN1DA_verse_1.txt"
   ]
  },
  {
   "cell_type": "code",
   "execution_count": 106,
   "metadata": {},
   "outputs": [],
   "source": [
    "numb = 19"
   ]
  },
  {
   "cell_type": "code",
   "execution_count": 107,
   "metadata": {},
   "outputs": [
    {
     "data": {
      "text/plain": [
       "'yakobo'"
      ]
     },
     "execution_count": 107,
     "metadata": {},
     "output_type": "execute_result"
    }
   ],
   "source": [
    "str(Bible_dict[new_testament[numb]][0])"
   ]
  },
  {
   "cell_type": "code",
   "execution_count": 108,
   "metadata": {},
   "outputs": [],
   "source": [
    "for i in range(2, 6):\n",
    "    request = rq.get('https://www.jw.org/ln/Biblioteke/biblia/bi12/mikanda/'\\\n",
    "                     +str(Bible_dict[new_testament[numb]][0])+'/'+str(i)+'/')\n",
    "\n",
    "    html = request.content\n",
    "\n",
    "    soup = BeautifulSoup(html, 'html.parser') \n",
    "\n",
    "    s = soup.find_all(\"span\", {\"class\": \"style-b\"})\n",
    "\n",
    "    verses = []\n",
    "\n",
    "    for verse_line in s[0].text.split('\\n'):\n",
    "\n",
    "        with open(\"./data/all_lingala/B\"+str(numb+1).zfill(2)+\"___\"+str(i).zfill(2)+\"_James_______ENGESVN1DA_verse_1.txt\", \"w\") as text_file: # a+\n",
    "                text = re.sub(r\"[+]\", ' ', verse_line) \n",
    "                # .strip() to delect any leading and trailing whitespace\n",
    "                text_file.write(text[2:].strip()+\"\\n\") "
   ]
  },
  {
   "cell_type": "code",
   "execution_count": 109,
   "metadata": {},
   "outputs": [],
   "source": [
    "# B21___02_1Peter______ENGESVN1DA_verse_1.txt"
   ]
  },
  {
   "cell_type": "code",
   "execution_count": 110,
   "metadata": {},
   "outputs": [],
   "source": [
    "numb = 20"
   ]
  },
  {
   "cell_type": "code",
   "execution_count": 111,
   "metadata": {},
   "outputs": [
    {
     "data": {
      "text/plain": [
       "'1-petro'"
      ]
     },
     "execution_count": 111,
     "metadata": {},
     "output_type": "execute_result"
    }
   ],
   "source": [
    "str(Bible_dict[new_testament[numb]][0])"
   ]
  },
  {
   "cell_type": "code",
   "execution_count": 112,
   "metadata": {},
   "outputs": [],
   "source": [
    "for i in range(2, 6):\n",
    "    request = rq.get('https://www.jw.org/ln/Biblioteke/biblia/bi12/mikanda/'\\\n",
    "                     +str(Bible_dict[new_testament[numb]][0])+'/'+str(i)+'/')\n",
    "\n",
    "    html = request.content\n",
    "\n",
    "    soup = BeautifulSoup(html, 'html.parser') \n",
    "\n",
    "    s = soup.find_all(\"span\", {\"class\": \"style-b\"})\n",
    "\n",
    "    verses = []\n",
    "\n",
    "    for verse_line in s[0].text.split('\\n'):\n",
    "\n",
    "        with open(\"./data/all_lingala/B\"+str(numb+1).zfill(2)+\"___\"+str(i).zfill(2)+\"_1Peter______ENGESVN1DA_verse_1.txt\", \"w\") as text_file: # a+\n",
    "                text = re.sub(r\"[+]\", ' ', verse_line) \n",
    "                # .strip() to delect any leading and trailing whitespace\n",
    "                text_file.write(text[2:].strip()+\"\\n\") "
   ]
  },
  {
   "cell_type": "code",
   "execution_count": 113,
   "metadata": {},
   "outputs": [],
   "source": [
    "# B22___02_2Peter______ENGESVN1DA_verse_1.txt"
   ]
  },
  {
   "cell_type": "code",
   "execution_count": 114,
   "metadata": {},
   "outputs": [],
   "source": [
    "numb = 21"
   ]
  },
  {
   "cell_type": "code",
   "execution_count": 115,
   "metadata": {},
   "outputs": [
    {
     "data": {
      "text/plain": [
       "'2-petro'"
      ]
     },
     "execution_count": 115,
     "metadata": {},
     "output_type": "execute_result"
    }
   ],
   "source": [
    "str(Bible_dict[new_testament[numb]][0])"
   ]
  },
  {
   "cell_type": "code",
   "execution_count": 116,
   "metadata": {},
   "outputs": [],
   "source": [
    "for i in range(2, 4):\n",
    "    request = rq.get('https://www.jw.org/ln/Biblioteke/biblia/bi12/mikanda/'\\\n",
    "                     +str(Bible_dict[new_testament[numb]][0])+'/'+str(i)+'/')\n",
    "\n",
    "    html = request.content\n",
    "\n",
    "    soup = BeautifulSoup(html, 'html.parser') \n",
    "\n",
    "    s = soup.find_all(\"span\", {\"class\": \"style-b\"})\n",
    "\n",
    "    verses = []\n",
    "\n",
    "    for verse_line in s[0].text.split('\\n'):\n",
    "\n",
    "        with open(\"./data/all_lingala/B\"+str(numb+1).zfill(2)+\"___\"+str(i).zfill(2)+\"_2Peter______ENGESVN1DA_verse_1.txt\", \"w\") as text_file: # a+\n",
    "                text = re.sub(r\"[+]\", ' ', verse_line) \n",
    "                # .strip() to delect any leading and trailing whitespace\n",
    "                text_file.write(text[2:].strip()+\"\\n\") "
   ]
  },
  {
   "cell_type": "code",
   "execution_count": 117,
   "metadata": {},
   "outputs": [],
   "source": [
    "# B23___02_1John_______ENGESVN1DA_verse_1.txt"
   ]
  },
  {
   "cell_type": "code",
   "execution_count": 118,
   "metadata": {},
   "outputs": [],
   "source": [
    "numb = 22"
   ]
  },
  {
   "cell_type": "code",
   "execution_count": 119,
   "metadata": {},
   "outputs": [
    {
     "data": {
      "text/plain": [
       "'1-yoane'"
      ]
     },
     "execution_count": 119,
     "metadata": {},
     "output_type": "execute_result"
    }
   ],
   "source": [
    "str(Bible_dict[new_testament[numb]][0])"
   ]
  },
  {
   "cell_type": "code",
   "execution_count": 120,
   "metadata": {},
   "outputs": [],
   "source": [
    "for i in range(2, 6):\n",
    "    request = rq.get('https://www.jw.org/ln/Biblioteke/biblia/bi12/mikanda/'\\\n",
    "                     +str(Bible_dict[new_testament[numb]][0])+'/'+str(i)+'/')\n",
    "\n",
    "    html = request.content\n",
    "\n",
    "    soup = BeautifulSoup(html, 'html.parser') \n",
    "\n",
    "    s = soup.find_all(\"span\", {\"class\": \"style-b\"})\n",
    "\n",
    "    verses = []\n",
    "\n",
    "    for verse_line in s[0].text.split('\\n'):\n",
    "\n",
    "        with open(\"./data/all_lingala/B\"+str(numb+1).zfill(2)+\"___\"+str(i).zfill(2)+\"_1John_______ENGESVN1DA_verse_1.txt\", \"w\") as text_file: # a+\n",
    "                text = re.sub(r\"[+]\", ' ', verse_line) \n",
    "                # .strip() to delect any leading and trailing whitespace\n",
    "                text_file.write(text[2:].strip()+\"\\n\") "
   ]
  },
  {
   "cell_type": "code",
   "execution_count": 117,
   "metadata": {},
   "outputs": [],
   "source": [
    "# B25___01_3John_______ENGESVN1DA_verse_15.txt"
   ]
  },
  {
   "cell_type": "code",
   "execution_count": 118,
   "metadata": {},
   "outputs": [],
   "source": [
    "numb = 24"
   ]
  },
  {
   "cell_type": "code",
   "execution_count": 119,
   "metadata": {},
   "outputs": [
    {
     "data": {
      "text/plain": [
       "'1-yoane'"
      ]
     },
     "execution_count": 119,
     "metadata": {},
     "output_type": "execute_result"
    }
   ],
   "source": [
    "str(Bible_dict[new_testament[numb]][0])"
   ]
  },
  {
   "cell_type": "code",
   "execution_count": null,
   "metadata": {},
   "outputs": [],
   "source": [
    "# for i in range(2, 6):\n",
    "#     request = rq.get('https://www.jw.org/ln/Biblioteke/biblia/bi12/mikanda/'\\\n",
    "#                      +str(Bible_dict[new_testament[numb]][0])+'/'+str(i)+'/')\n",
    "\n",
    "#     html = request.content\n",
    "\n",
    "#     soup = BeautifulSoup(html, 'html.parser') \n",
    "\n",
    "#     s = soup.find_all(\"span\", {\"class\": \"style-b\"})\n",
    "\n",
    "#     verses = []\n",
    "\n",
    "#     for verse_line in s[0].text.split('\\n'):\n",
    "\n",
    "#         with open(\"./data/all_lingala/B\"+str(numb+1).zfill(2)+\"___\"+str(i).zfill(2)+\"_3John_______ENGESVN1DA_verse_1.txt\", \"w\") as text_file: # a+\n",
    "#                 text = re.sub(r\"[+]\", ' ', verse_line) \n",
    "#                 # .strip() to delect any leading and trailing whitespace\n",
    "#                 text_file.write(text[2:].strip()+\"\\n\") "
   ]
  },
  {
   "cell_type": "code",
   "execution_count": null,
   "metadata": {},
   "outputs": [],
   "source": [
    "# B27___02_Revelation__ENGESVN1DA_verse_1.txt"
   ]
  },
  {
   "cell_type": "code",
   "execution_count": 121,
   "metadata": {},
   "outputs": [],
   "source": [
    "numb = 26"
   ]
  },
  {
   "cell_type": "code",
   "execution_count": 123,
   "metadata": {},
   "outputs": [
    {
     "data": {
      "text/plain": [
       "'emoniseli'"
      ]
     },
     "execution_count": 123,
     "metadata": {},
     "output_type": "execute_result"
    }
   ],
   "source": [
    "str(Bible_dict[new_testament[numb]][0])"
   ]
  },
  {
   "cell_type": "code",
   "execution_count": 124,
   "metadata": {},
   "outputs": [],
   "source": [
    "for i in range(2, 23):\n",
    "    request = rq.get('https://www.jw.org/ln/Biblioteke/biblia/bi12/mikanda/'\\\n",
    "                     +str(Bible_dict[new_testament[numb]][0])+'/'+str(i)+'/')\n",
    "\n",
    "    html = request.content\n",
    "\n",
    "    soup = BeautifulSoup(html, 'html.parser') \n",
    "\n",
    "    s = soup.find_all(\"span\", {\"class\": \"style-b\"})\n",
    "\n",
    "    verses = []\n",
    "\n",
    "    for verse_line in s[0].text.split('\\n'):\n",
    "\n",
    "        with open(\"./data/all_lingala/B\"+str(numb+1).zfill(2)+\"___\"+str(i).zfill(2)+\"_Revelation__ENGESVN1DA_verse_1.txt\", \"w\") as text_file: # a+\n",
    "                text = re.sub(r\"[+]\", ' ', verse_line) \n",
    "                # .strip() to delect any leading and trailing whitespace\n",
    "                text_file.write(text[2:].strip()+\"\\n\") "
   ]
  },
  {
   "cell_type": "code",
   "execution_count": null,
   "metadata": {},
   "outputs": [],
   "source": []
  },
  {
   "cell_type": "code",
   "execution_count": null,
   "metadata": {},
   "outputs": [],
   "source": []
  },
  {
   "cell_type": "code",
   "execution_count": null,
   "metadata": {},
   "outputs": [],
   "source": []
  },
  {
   "cell_type": "code",
   "execution_count": null,
   "metadata": {},
   "outputs": [],
   "source": []
  },
  {
   "cell_type": "code",
   "execution_count": null,
   "metadata": {},
   "outputs": [],
   "source": []
  },
  {
   "cell_type": "code",
   "execution_count": null,
   "metadata": {},
   "outputs": [],
   "source": []
  },
  {
   "cell_type": "code",
   "execution_count": null,
   "metadata": {},
   "outputs": [],
   "source": []
  },
  {
   "cell_type": "code",
   "execution_count": null,
   "metadata": {},
   "outputs": [],
   "source": []
  },
  {
   "cell_type": "code",
   "execution_count": null,
   "metadata": {},
   "outputs": [],
   "source": []
  },
  {
   "cell_type": "code",
   "execution_count": null,
   "metadata": {},
   "outputs": [],
   "source": [
    "request = rq.get('https://www.jw.org/ln/Biblioteke/biblia/bi12/mikanda/'\\\n",
    "                     +str(Bible_dict[new_testament[0]][0])+'/'+str()+'/')\n",
    "\n",
    "html = request.content\n",
    "\n",
    "soup = BeautifulSoup(html, 'html.parser') \n",
    "\n",
    "s = soup.find_all(\"span\", {\"class\": \"style-b\"})"
   ]
  },
  {
   "cell_type": "code",
   "execution_count": 27,
   "metadata": {},
   "outputs": [
    {
     "name": "stdout",
     "output_type": "stream",
     "text": [
      "5  Ntango amonaki ebele ya bato yango amataki na ngomba; mpe nsima ya kofanda, bayekoli na ye bayaki epai na ye;\n",
      "5\n"
     ]
    }
   ],
   "source": [
    "verses = []\n",
    "for k in s[0].text.split('\\n'):\n",
    "    if k != '':\n",
    "        verses.append(k)\n",
    "        print(k)\n",
    "#         ipdb.set_trace()\n",
    "        print(k.strip().split()[0])"
   ]
  },
  {
   "cell_type": "code",
   "execution_count": null,
   "metadata": {},
   "outputs": [],
   "source": [
    "def load_book_chapter(dictionary, book, book_order):\n",
    "    \"\"\"\n",
    "    This function will help to save in text form, depening to the book and verse argument \n",
    "    given in parameter\n",
    "    \n",
    "    The data is maintly taken from the website https://www.jw.org/\n",
    "    \"\"\"\n",
    "        \n",
    "    for chap in range(1, dictionary[book][1]+1):\n",
    "        print(f\"Loading chapter {chap} ...\")\n",
    "        try :\n",
    "            r_ling = rq.get('https://www.jw.org/ln/Biblioteke/biblia/bi12/mikanda/'\\\n",
    "                         +str(dictionary[book][0])+'/'+str(chap)+'/')\n",
    "\n",
    "            html_ling = r_ling.content\n",
    "            soup_ling = BeautifulSoup(html_ling, 'html.parser')         \n",
    "            s_ling = soup_ling.find_all(\"div\", {\"class\": \"textSizeIncrement\"})\n",
    "            \n",
    "            \n",
    "            with open(\"./data/all_lingala/B\"+str(book_order).zfill(2)+\"___\"+str(chap).zfill(2)+\"_Matthew_____ENGESVN1DA_verse_0.txt\", \"w\") as text_file: # a+\n",
    "                # .strip() to delect any leading and trailing whitespace\n",
    "                text_file.write(Bible_dict[book][0]+\" \"+str(chap)+\"\\n\") \n",
    "\n",
    "            \n",
    "            i = 0\n",
    "            \n",
    "            for verse_line in s_ling[0].text.split('\\n'):\n",
    "#                 ipdb.set_trace()\n",
    "                if verse_line != '':\n",
    "                    verse = verse_line.strip().split()[0]\n",
    "                    if verse.isdigit():\n",
    "                        verse_store = verse\n",
    "                        with open(\"./data/all_lingala/B\"+str(book_order).zfill(2)+\"___\"+str(chap).zfill(2)+\"_Matthew_____ENGESVN1DA_verse_\"+str(verse)+\".txt\", \"w\") as text_file: # a+\n",
    "                            text = re.sub(r\"[+]\", ' ', verse_line) \n",
    "                            # .strip() to delect any leading and trailing whitespace\n",
    "                            text_file.write(text[2:].strip()+\"\\n\") \n",
    "                        \n",
    "                    else:\n",
    "                        with open(\"./data/all_lingala/B\"+str(book_order).zfill(2)+\"___\"+str(chap).zfill(2)+\"_Matthew_____ENGESVN1DA_verse_\"+str(verse_store)+\".txt\", \"a\") as text_file: # a+\n",
    "                            text = re.sub(r\"[+]\", ' ', verse_line) \n",
    "                            # .strip() to delect any leading and trailing whitespace\n",
    "                            text_file.write(text.strip()+\"\\n\")\n",
    "\n",
    "            ipdb.set_trace()\n",
    "        except Exception as inst:      \n",
    "            traceback.print_exc()\n",
    "        "
   ]
  }
 ],
 "metadata": {
  "kernelspec": {
   "display_name": "Python 3",
   "language": "python",
   "name": "python3"
  },
  "language_info": {
   "codemirror_mode": {
    "name": "ipython",
    "version": 3
   },
   "file_extension": ".py",
   "mimetype": "text/x-python",
   "name": "python",
   "nbconvert_exporter": "python",
   "pygments_lexer": "ipython3",
   "version": "3.6.12"
  }
 },
 "nbformat": 4,
 "nbformat_minor": 4
}
