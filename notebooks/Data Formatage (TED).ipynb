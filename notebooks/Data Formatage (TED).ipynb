{
 "cells": [
  {
   "cell_type": "code",
   "execution_count": 5,
   "metadata": {},
   "outputs": [],
   "source": [
    "# Pythono3 code to rename multiple \n",
    "# files in a directory or folder \n",
    "\n",
    "# importing os module \n",
    "import os \n",
    "import ipdb\n",
    "\n",
    "# Function to rename multiple files \n",
    "def TED_format(repository_1, repository_2):\n",
    "\n",
    "    # given that the file in the two repository have the same name, \n",
    "    # we can only loop on one of them \n",
    "    \n",
    "        \n",
    "    if os.path.exists(\"../dataset/train.en-ln.csv\"):\n",
    "        os.remove(\"../dataset/train.en-ln.csv\")\n",
    "    \n",
    "    if os.path.exists(\"../dataset/valid.en-ln.csv\"):\n",
    "        os.remove(\"../dataset/valid.en-ln.csv\")\n",
    "                  \n",
    "    if os.path.exists(\"../dataset/test.en-ln.csv\"):\n",
    "        os.remove(\"../dataset/test.en-ln.csv\")\n",
    "                      \n",
    "    for count, filename in enumerate(os.listdir(repository_1)): \n",
    "        \n",
    "        name = filename.split(\".\")[0]\n",
    "        \n",
    "        language_1 = \"\"\n",
    "        \n",
    "        language_2 = \"\"\n",
    "        \n",
    "#         ipdb.set_trace()\n",
    "        \n",
    "        \n",
    "        # open the and read file on in the first repository             \n",
    "        with open(repository_1+filename, 'r') as f:  # Open file for read\n",
    "            for textline in f:           # Read line-by-line\n",
    "                if language_1 == \"\":\n",
    "                    language_1 += textline.split('\\n')[0]\n",
    "                else:\n",
    "                    language_1 += \" \" + textline.split('\\n')[0]\n",
    "            \n",
    "        # open the and read file on in the second repository    \n",
    "        with open(repository_2+filename, 'r') as f:  # Open file for read\n",
    "            for textline in f:           # Read line-by-line\n",
    "                if language_2 == \"\":\n",
    "                    language_2 += textline.split('\\n')[0]\n",
    "                else:\n",
    "                    language_2 += \" \" + textline.split('\\n')[0]\n",
    "                      \n",
    "        \n",
    "        if count <= 7000:\n",
    "            with open(\"../dataset/train.en-ln.csv\", \"a+\", encoding=\"utf-8\") as text_file:\n",
    "                text_file.write(name+\".wav\\t\"+language_1+\"\\t\"+language_2)\n",
    "                text_file.write(\"\\n\")\n",
    "                  \n",
    "        elif count <=7800:\n",
    "            with open(\"../dataset/valid.en-ln.csv\", \"a+\", encoding=\"utf-8\") as text_file:\n",
    "                text_file.write(name+\".wav\\t\"+language_1+\"\\t\"+language_2)\n",
    "                text_file.write(\"\\n\")\n",
    "        else:\n",
    "            with open(\"../dataset/test.en-ln.csv\", \"a+\", encoding=\"utf-8\") as text_file:\n",
    "                text_file.write(name+\".wav\\t\"+language_1+\"\\t\"+language_2)\n",
    "                text_file.write(\"\\n\")\n",
    "                \n",
    "            \n",
    "  \n",
    "            \n",
    "\n",
    "# Driver Code \n",
    "if __name__ == '__main__': \n",
    "    # Calling main() function \n",
    "    # main() \n",
    "    TED_format(\"../dataset/english/\", \"../dataset/lingala/\")"
   ]
  },
  {
   "cell_type": "code",
   "execution_count": 2,
   "metadata": {},
   "outputs": [
    {
     "name": "stdout",
     "output_type": "stream",
     "text": [
      "/home/aims/big_data/2020-AMMI-salomon/data/external/LiSTra/notebooks\n"
     ]
    }
   ],
   "source": [
    "!pwd"
   ]
  },
  {
   "cell_type": "code",
   "execution_count": null,
   "metadata": {},
   "outputs": [],
   "source": []
  }
 ],
 "metadata": {
  "kernelspec": {
   "display_name": "synchronous",
   "language": "python",
   "name": "synchronous"
  },
  "language_info": {
   "codemirror_mode": {
    "name": "ipython",
    "version": 3
   },
   "file_extension": ".py",
   "mimetype": "text/x-python",
   "name": "python",
   "nbconvert_exporter": "python",
   "pygments_lexer": "ipython3",
   "version": "3.7.6"
  }
 },
 "nbformat": 4,
 "nbformat_minor": 4
}
